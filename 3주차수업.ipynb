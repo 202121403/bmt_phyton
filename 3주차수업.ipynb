{
  "nbformat": 4,
  "nbformat_minor": 0,
  "metadata": {
    "colab": {
      "name": "3주차수업.ipynb",
      "provenance": [],
      "collapsed_sections": [],
      "authorship_tag": "ABX9TyPYBFfiA2cYpplYJbxkLvGG",
      "include_colab_link": true
    },
    "kernelspec": {
      "name": "python3",
      "display_name": "Python 3"
    },
    "language_info": {
      "name": "python"
    }
  },
  "cells": [
    {
      "cell_type": "markdown",
      "metadata": {
        "id": "view-in-github",
        "colab_type": "text"
      },
      "source": [
        "<a href=\"https://colab.research.google.com/github/202121403/bmt_phyton/blob/main/3%EC%A3%BC%EC%B0%A8%EC%88%98%EC%97%85.ipynb\" target=\"_parent\"><img src=\"https://colab.research.google.com/assets/colab-badge.svg\" alt=\"Open In Colab\"/></a>"
      ]
    },
    {
      "cell_type": "code",
      "metadata": {
        "id": "52JwApkcKCwV"
      },
      "source": [
        ""
      ],
      "execution_count": null,
      "outputs": []
    },
    {
      "cell_type": "code",
      "metadata": {
        "colab": {
          "base_uri": "https://localhost:8080/"
        },
        "id": "AKHKIezqMRxI",
        "outputId": "5809b738-3c15-43de-8b57-b56d9ff8bb9e"
      },
      "source": [
        "from random import randint \n",
        "\n",
        "dice=randint(1,6)\n",
        "print(dice)"
      ],
      "execution_count": null,
      "outputs": [
        {
          "output_type": "stream",
          "text": [
            "4\n"
          ],
          "name": "stdout"
        }
      ]
    },
    {
      "cell_type": "markdown",
      "metadata": {
        "id": "oPnzeu8RXOZQ"
      },
      "source": [
        ""
      ]
    },
    {
      "cell_type": "code",
      "metadata": {
        "id": "hzIDGemNZKE4"
      },
      "source": [
        ""
      ],
      "execution_count": null,
      "outputs": []
    },
    {
      "cell_type": "code",
      "metadata": {
        "colab": {
          "base_uri": "https://localhost:8080/"
        },
        "id": "JQ2qw7BQXP_Q",
        "outputId": "258ca55f-9c6b-4d04-be3e-5246e9d44d85"
      },
      "source": [
        "import math\n",
        "a= math.pi/6\n",
        "math.sin(math.pi/6)\n"
      ],
      "execution_count": null,
      "outputs": [
        {
          "output_type": "execute_result",
          "data": {
            "text/plain": [
              "0.49999999999999994"
            ]
          },
          "metadata": {
            "tags": []
          },
          "execution_count": 15
        }
      ]
    },
    {
      "cell_type": "markdown",
      "metadata": {
        "id": "SlBK-1-3ZZ2x"
      },
      "source": [
        ""
      ]
    },
    {
      "cell_type": "code",
      "metadata": {
        "colab": {
          "base_uri": "https://localhost:8080/"
        },
        "id": "OG5GKZ00ZW-J",
        "outputId": "3a22ac7a-bb26-46a1-afc1-03b261273a87"
      },
      "source": [
        "name = '부산기계공고'\n",
        "for  i in name:\n",
        "  print(i)"
      ],
      "execution_count": null,
      "outputs": [
        {
          "output_type": "stream",
          "text": [
            "부\n",
            "산\n",
            "기\n",
            "계\n",
            "공\n",
            "고\n"
          ],
          "name": "stdout"
        }
      ]
    },
    {
      "cell_type": "code",
      "metadata": {
        "colab": {
          "base_uri": "https://localhost:8080/"
        },
        "id": "3muOPZfPaZIb",
        "outputId": "9e1d29ea-47c8-45dc-d9d9-c9c3bae7a7c7"
      },
      "source": [
        "for i in name:\n",
        "    print(i, end= '')"
      ],
      "execution_count": null,
      "outputs": [
        {
          "output_type": "stream",
          "text": [
            "부산기계공고"
          ],
          "name": "stdout"
        }
      ]
    },
    {
      "cell_type": "code",
      "metadata": {
        "colab": {
          "base_uri": "https://localhost:8080/"
        },
        "id": "d5UAa1GoazkB",
        "outputId": "cba6ca19-8dbd-415f-d684-df795991717e"
      },
      "source": [
        "for i in [0,1,2,3]:\n",
        "  print(f'{i}의 제곱근 :{i**2}')"
      ],
      "execution_count": null,
      "outputs": [
        {
          "output_type": "stream",
          "text": [
            "0의 제곱근 :0\n",
            "1의 제곱근 :1\n",
            "2의 제곱근 :4\n",
            "3의 제곱근 :9\n"
          ],
          "name": "stdout"
        }
      ]
    },
    {
      "cell_type": "code",
      "metadata": {
        "colab": {
          "base_uri": "https://localhost:8080/"
        },
        "id": "0CtC4rYtbRrg",
        "outputId": "6d261fed-87d9-4fe4-8f8e-f92f573e6b63"
      },
      "source": [
        "for i in range(10):\n",
        "   print(f'{i}의 제곱근 : {i**2}')\n"
      ],
      "execution_count": null,
      "outputs": [
        {
          "output_type": "stream",
          "text": [
            "0의 제곱근 : 0\n",
            "1의 제곱근 : 1\n",
            "2의 제곱근 : 4\n",
            "3의 제곱근 : 9\n",
            "4의 제곱근 : 16\n",
            "5의 제곱근 : 25\n",
            "6의 제곱근 : 36\n",
            "7의 제곱근 : 49\n",
            "8의 제곱근 : 64\n",
            "9의 제곱근 : 81\n"
          ],
          "name": "stdout"
        }
      ]
    },
    {
      "cell_type": "code",
      "metadata": {
        "colab": {
          "base_uri": "https://localhost:8080/"
        },
        "id": "egYJZvWBb_RX",
        "outputId": "6169271f-6881-4511-b530-6d7626991e25"
      },
      "source": [
        "\n",
        "type(range(10))"
      ],
      "execution_count": null,
      "outputs": [
        {
          "output_type": "execute_result",
          "data": {
            "text/plain": [
              "range"
            ]
          },
          "metadata": {
            "tags": []
          },
          "execution_count": 29
        }
      ]
    },
    {
      "cell_type": "markdown",
      "metadata": {
        "id": "zAzwN8uCdCHo"
      },
      "source": [
        ""
      ]
    },
    {
      "cell_type": "code",
      "metadata": {
        "colab": {
          "base_uri": "https://localhost:8080/"
        },
        "id": "oGnpJerFcdI_",
        "outputId": "720628c2-f279-401f-8269-7974ee56f0bd"
      },
      "source": [
        "for i in range(1,-10,-1):\n",
        "  print(i**2)"
      ],
      "execution_count": null,
      "outputs": [
        {
          "output_type": "stream",
          "text": [
            "1\n",
            "0\n",
            "1\n",
            "4\n",
            "9\n",
            "16\n",
            "25\n",
            "36\n",
            "49\n",
            "64\n",
            "81\n"
          ],
          "name": "stdout"
        }
      ]
    },
    {
      "cell_type": "code",
      "metadata": {
        "colab": {
          "base_uri": "https://localhost:8080/"
        },
        "id": "RjClHmB9dBHQ",
        "outputId": "84178fa4-4c7d-4ae6-f07d-89ca7e090837"
      },
      "source": [
        "if 10 !=0 and  5%2==1:\n",
        "   print('안녕하세요')"
      ],
      "execution_count": null,
      "outputs": [
        {
          "output_type": "stream",
          "text": [
            "안녕하세요\n"
          ],
          "name": "stdout"
        }
      ]
    },
    {
      "cell_type": "code",
      "metadata": {
        "id": "xgPUygIieTLR"
      },
      "source": [
        "passwd=int(input('비밀번호 4자리 숫자 입력 :'))\n",
        "if passwd==2021:\n",
        "   print('비밀번호가 일치')\n",
        "elif passwd==2020:\n",
        "    print('이 숫자에 한 개만 더해주세요.')   \n",
        "else:\n",
        "   print('다시 시작 해주세요.')"
      ],
      "execution_count": null,
      "outputs": []
    },
    {
      "cell_type": "code",
      "metadata": {
        "colab": {
          "base_uri": "https://localhost:8080/"
        },
        "id": "wulv6DgUfDHS",
        "outputId": "95a718c7-33de-42bc-d810-5fbe5cdbfd41"
      },
      "source": [
        "for i in range(1, 100000):\n",
        "  if i==2020:\n",
        "    print('비밀번호가 일치')\n",
        "    print( f'비밀번호는 {i}입니다')"
      ],
      "execution_count": null,
      "outputs": [
        {
          "output_type": "stream",
          "text": [
            "비밀번호가 일치\n",
            "비밀번호는 2020입니다\n"
          ],
          "name": "stdout"
        }
      ]
    },
    {
      "cell_type": "code",
      "metadata": {
        "colab": {
          "base_uri": "https://localhost:8080/"
        },
        "id": "ahpw9lRAgSlS",
        "outputId": "426465cb-d8c7-4aea-b22f-3c5500fd463e"
      },
      "source": [
        "print('[ 소름끼치도록 놀라운 심리테스트 ]')\n",
        "\n",
        "menu = input('당신이 좋아하는 과일을 입력해주세요 : ')\n",
        "\n",
        "if menu == '귤':\n",
        "  print(f'당신은 {menu}을 좋아하는 사람입니다.')\n",
        "elif menu == '배':\n",
        "  print(f'당신은 {menu}을 좋아하는 사람입니다.')\n",
        "elif menu == '포도':\n",
        "  print(f'당신은 {menu}을 좋아하는 사람입니다.')\n",
        "else :\n",
        "  print(f'당신은 귤, 배, 포도를 좋아하지 않는 사람입니다.')"
      ],
      "execution_count": null,
      "outputs": [
        {
          "output_type": "stream",
          "text": [
            "[ 소름끼치도록 놀라운 심리테스트 ]\n"
          ],
          "name": "stdout"
        }
      ]
    },
    {
      "cell_type": "code",
      "metadata": {
        "id": "H_sAIsnkg6r2"
      },
      "source": [
        ""
      ],
      "execution_count": null,
      "outputs": []
    }
  ]
}