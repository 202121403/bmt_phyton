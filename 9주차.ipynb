{
  "nbformat": 4,
  "nbformat_minor": 0,
  "metadata": {
    "colab": {
      "name": "9주차.ipynb",
      "provenance": [],
      "collapsed_sections": [],
      "authorship_tag": "ABX9TyO7kc/Y5mFZj3opR36OZ7FG",
      "include_colab_link": true
    },
    "kernelspec": {
      "name": "python3",
      "display_name": "Python 3"
    },
    "language_info": {
      "name": "python"
    }
  },
  "cells": [
    {
      "cell_type": "markdown",
      "metadata": {
        "id": "view-in-github",
        "colab_type": "text"
      },
      "source": [
        "<a href=\"https://colab.research.google.com/github/202121403/bmt_phyton/blob/main/9%EC%A3%BC%EC%B0%A8.ipynb\" target=\"_parent\"><img src=\"https://colab.research.google.com/assets/colab-badge.svg\" alt=\"Open In Colab\"/></a>"
      ]
    },
    {
      "cell_type": "code",
      "metadata": {
        "id": "jfjYm0HGeFrW"
      },
      "source": [
        "import pandas as pd\n",
        "import numpy as np\n",
        "import matplotlib.pyplot as plt\n"
      ],
      "execution_count": 1,
      "outputs": []
    },
    {
      "cell_type": "code",
      "metadata": {
        "id": "JE4ZjVnGfoIt"
      },
      "source": [
        "s = pd.Series([1,3,5,np.nan,6,8])"
      ],
      "execution_count": 2,
      "outputs": []
    },
    {
      "cell_type": "code",
      "metadata": {
        "colab": {
          "base_uri": "https://localhost:8080/"
        },
        "id": "_dOzAJpzgI99",
        "outputId": "ac1e5732-84fa-47fd-b34c-f9edeaf7b43b"
      },
      "source": [
        "s"
      ],
      "execution_count": 3,
      "outputs": [
        {
          "output_type": "execute_result",
          "data": {
            "text/plain": [
              "0    1.0\n",
              "1    3.0\n",
              "2    5.0\n",
              "3    NaN\n",
              "4    6.0\n",
              "5    8.0\n",
              "dtype: float64"
            ]
          },
          "metadata": {
            "tags": []
          },
          "execution_count": 3
        }
      ]
    },
    {
      "cell_type": "code",
      "metadata": {
        "colab": {
          "base_uri": "https://localhost:8080/"
        },
        "id": "1lcU8g7-gqov",
        "outputId": "2e962afb-7979-4651-ad0f-191c1762cd4d"
      },
      "source": [
        "type(s)"
      ],
      "execution_count": 4,
      "outputs": [
        {
          "output_type": "execute_result",
          "data": {
            "text/plain": [
              "pandas.core.series.Series"
            ]
          },
          "metadata": {
            "tags": []
          },
          "execution_count": 4
        }
      ]
    },
    {
      "cell_type": "code",
      "metadata": {
        "colab": {
          "base_uri": "https://localhost:8080/"
        },
        "id": "gpVw7owQhACH",
        "outputId": "7c60fdee-9eab-4cec-a420-c22210128fc5"
      },
      "source": [
        "type([])"
      ],
      "execution_count": 6,
      "outputs": [
        {
          "output_type": "execute_result",
          "data": {
            "text/plain": [
              "list"
            ]
          },
          "metadata": {
            "tags": []
          },
          "execution_count": 6
        }
      ]
    },
    {
      "cell_type": "code",
      "metadata": {
        "colab": {
          "base_uri": "https://localhost:8080/"
        },
        "id": "97J6oH8XhE2w",
        "outputId": "776bbec2-4297-49ad-d311-2e65ad84b77f"
      },
      "source": [
        "type('afdsafd')"
      ],
      "execution_count": 7,
      "outputs": [
        {
          "output_type": "execute_result",
          "data": {
            "text/plain": [
              "str"
            ]
          },
          "metadata": {
            "tags": []
          },
          "execution_count": 7
        }
      ]
    },
    {
      "cell_type": "code",
      "metadata": {
        "colab": {
          "base_uri": "https://localhost:8080/"
        },
        "id": "zOBLUkMyhQB9",
        "outputId": "fa735f3c-df01-4371-a95e-48c870061087"
      },
      "source": [
        "pd.date_range('20210430', periods=6)"
      ],
      "execution_count": 8,
      "outputs": [
        {
          "output_type": "execute_result",
          "data": {
            "text/plain": [
              "DatetimeIndex(['2021-04-30', '2021-05-01', '2021-05-02', '2021-05-03',\n",
              "               '2021-05-04', '2021-05-05'],\n",
              "              dtype='datetime64[ns]', freq='D')"
            ]
          },
          "metadata": {
            "tags": []
          },
          "execution_count": 8
        }
      ]
    },
    {
      "cell_type": "code",
      "metadata": {
        "id": "yYMW1fP_hi2S"
      },
      "source": [
        "dates = pd.date_range('20210430', periods=6)"
      ],
      "execution_count": 10,
      "outputs": []
    },
    {
      "cell_type": "code",
      "metadata": {
        "colab": {
          "base_uri": "https://localhost:8080/"
        },
        "id": "4OL-OPx7h8Es",
        "outputId": "4b5e0368-a8bc-4138-e6d0-c14b5df913ee"
      },
      "source": [
        "dates"
      ],
      "execution_count": 11,
      "outputs": [
        {
          "output_type": "execute_result",
          "data": {
            "text/plain": [
              "DatetimeIndex(['2021-04-30', '2021-05-01', '2021-05-02', '2021-05-03',\n",
              "               '2021-05-04', '2021-05-05'],\n",
              "              dtype='datetime64[ns]', freq='D')"
            ]
          },
          "metadata": {
            "tags": []
          },
          "execution_count": 11
        }
      ]
    },
    {
      "cell_type": "code",
      "metadata": {
        "id": "RzKcyBmAirQZ"
      },
      "source": [
        "df = pd.DataFrame(np.random.randn(6,4), index=dates, columns=list('ABCD')) "
      ],
      "execution_count": 16,
      "outputs": []
    },
    {
      "cell_type": "code",
      "metadata": {
        "colab": {
          "base_uri": "https://localhost:8080/",
          "height": 235
        },
        "id": "dYp_ym3zjCrW",
        "outputId": "65108b17-4fee-4b07-ecbe-4263883c3241"
      },
      "source": [
        "df"
      ],
      "execution_count": 17,
      "outputs": [
        {
          "output_type": "execute_result",
          "data": {
            "text/html": [
              "<div>\n",
              "<style scoped>\n",
              "    .dataframe tbody tr th:only-of-type {\n",
              "        vertical-align: middle;\n",
              "    }\n",
              "\n",
              "    .dataframe tbody tr th {\n",
              "        vertical-align: top;\n",
              "    }\n",
              "\n",
              "    .dataframe thead th {\n",
              "        text-align: right;\n",
              "    }\n",
              "</style>\n",
              "<table border=\"1\" class=\"dataframe\">\n",
              "  <thead>\n",
              "    <tr style=\"text-align: right;\">\n",
              "      <th></th>\n",
              "      <th>A</th>\n",
              "      <th>B</th>\n",
              "      <th>C</th>\n",
              "      <th>D</th>\n",
              "    </tr>\n",
              "  </thead>\n",
              "  <tbody>\n",
              "    <tr>\n",
              "      <th>2021-04-30</th>\n",
              "      <td>0.062762</td>\n",
              "      <td>-1.646844</td>\n",
              "      <td>-0.372962</td>\n",
              "      <td>1.549732</td>\n",
              "    </tr>\n",
              "    <tr>\n",
              "      <th>2021-05-01</th>\n",
              "      <td>1.538414</td>\n",
              "      <td>1.162280</td>\n",
              "      <td>-1.114996</td>\n",
              "      <td>1.793400</td>\n",
              "    </tr>\n",
              "    <tr>\n",
              "      <th>2021-05-02</th>\n",
              "      <td>-0.290671</td>\n",
              "      <td>-1.063933</td>\n",
              "      <td>0.298983</td>\n",
              "      <td>0.378228</td>\n",
              "    </tr>\n",
              "    <tr>\n",
              "      <th>2021-05-03</th>\n",
              "      <td>-1.314675</td>\n",
              "      <td>-1.228112</td>\n",
              "      <td>-1.881465</td>\n",
              "      <td>0.973895</td>\n",
              "    </tr>\n",
              "    <tr>\n",
              "      <th>2021-05-04</th>\n",
              "      <td>-0.584957</td>\n",
              "      <td>-1.125338</td>\n",
              "      <td>-0.682209</td>\n",
              "      <td>0.986041</td>\n",
              "    </tr>\n",
              "    <tr>\n",
              "      <th>2021-05-05</th>\n",
              "      <td>-0.629019</td>\n",
              "      <td>-1.232630</td>\n",
              "      <td>0.586917</td>\n",
              "      <td>0.030060</td>\n",
              "    </tr>\n",
              "  </tbody>\n",
              "</table>\n",
              "</div>"
            ],
            "text/plain": [
              "                   A         B         C         D\n",
              "2021-04-30  0.062762 -1.646844 -0.372962  1.549732\n",
              "2021-05-01  1.538414  1.162280 -1.114996  1.793400\n",
              "2021-05-02 -0.290671 -1.063933  0.298983  0.378228\n",
              "2021-05-03 -1.314675 -1.228112 -1.881465  0.973895\n",
              "2021-05-04 -0.584957 -1.125338 -0.682209  0.986041\n",
              "2021-05-05 -0.629019 -1.232630  0.586917  0.030060"
            ]
          },
          "metadata": {
            "tags": []
          },
          "execution_count": 17
        }
      ]
    },
    {
      "cell_type": "code",
      "metadata": {
        "id": "f64p42lBjLu4"
      },
      "source": [
        "df2 = pd.DataFrame(\n",
        "     {\n",
        "         'A' : 1.,\n",
        "         'B' : pd.Timestamp('20210430'),  \n",
        "         'C' : pd.Series(1, index=list(range(4)), dtype='float32'),\n",
        "         'D' : np.array([3] * 4, dtype= 'int32'),\n",
        "         'E' : pd.Categorical([\"test\",\"train\", \"test\", \"train\"]),\n",
        "         'F' : 'foo'\n",
        "     }     \n",
        ")"
      ],
      "execution_count": 19,
      "outputs": []
    },
    {
      "cell_type": "code",
      "metadata": {
        "colab": {
          "base_uri": "https://localhost:8080/",
          "height": 173
        },
        "id": "1Gvc2_6dk6F1",
        "outputId": "5dd2d7d9-0da9-42d0-ca7a-905ee188149d"
      },
      "source": [
        "df2"
      ],
      "execution_count": 20,
      "outputs": [
        {
          "output_type": "execute_result",
          "data": {
            "text/html": [
              "<div>\n",
              "<style scoped>\n",
              "    .dataframe tbody tr th:only-of-type {\n",
              "        vertical-align: middle;\n",
              "    }\n",
              "\n",
              "    .dataframe tbody tr th {\n",
              "        vertical-align: top;\n",
              "    }\n",
              "\n",
              "    .dataframe thead th {\n",
              "        text-align: right;\n",
              "    }\n",
              "</style>\n",
              "<table border=\"1\" class=\"dataframe\">\n",
              "  <thead>\n",
              "    <tr style=\"text-align: right;\">\n",
              "      <th></th>\n",
              "      <th>A</th>\n",
              "      <th>B</th>\n",
              "      <th>C</th>\n",
              "      <th>D</th>\n",
              "      <th>E</th>\n",
              "      <th>F</th>\n",
              "    </tr>\n",
              "  </thead>\n",
              "  <tbody>\n",
              "    <tr>\n",
              "      <th>0</th>\n",
              "      <td>1.0</td>\n",
              "      <td>2021-04-30</td>\n",
              "      <td>1.0</td>\n",
              "      <td>3</td>\n",
              "      <td>test</td>\n",
              "      <td>foo</td>\n",
              "    </tr>\n",
              "    <tr>\n",
              "      <th>1</th>\n",
              "      <td>1.0</td>\n",
              "      <td>2021-04-30</td>\n",
              "      <td>1.0</td>\n",
              "      <td>3</td>\n",
              "      <td>train</td>\n",
              "      <td>foo</td>\n",
              "    </tr>\n",
              "    <tr>\n",
              "      <th>2</th>\n",
              "      <td>1.0</td>\n",
              "      <td>2021-04-30</td>\n",
              "      <td>1.0</td>\n",
              "      <td>3</td>\n",
              "      <td>test</td>\n",
              "      <td>foo</td>\n",
              "    </tr>\n",
              "    <tr>\n",
              "      <th>3</th>\n",
              "      <td>1.0</td>\n",
              "      <td>2021-04-30</td>\n",
              "      <td>1.0</td>\n",
              "      <td>3</td>\n",
              "      <td>train</td>\n",
              "      <td>foo</td>\n",
              "    </tr>\n",
              "  </tbody>\n",
              "</table>\n",
              "</div>"
            ],
            "text/plain": [
              "     A          B    C  D      E    F\n",
              "0  1.0 2021-04-30  1.0  3   test  foo\n",
              "1  1.0 2021-04-30  1.0  3  train  foo\n",
              "2  1.0 2021-04-30  1.0  3   test  foo\n",
              "3  1.0 2021-04-30  1.0  3  train  foo"
            ]
          },
          "metadata": {
            "tags": []
          },
          "execution_count": 20
        }
      ]
    },
    {
      "cell_type": "code",
      "metadata": {
        "colab": {
          "base_uri": "https://localhost:8080/"
        },
        "id": "ecj1jM-dk9i9",
        "outputId": "ffb5a62d-eda5-4cf7-8628-99e9036bc068"
      },
      "source": [
        "type(df2)"
      ],
      "execution_count": 21,
      "outputs": [
        {
          "output_type": "execute_result",
          "data": {
            "text/plain": [
              "pandas.core.frame.DataFrame"
            ]
          },
          "metadata": {
            "tags": []
          },
          "execution_count": 21
        }
      ]
    },
    {
      "cell_type": "code",
      "metadata": {
        "colab": {
          "base_uri": "https://localhost:8080/"
        },
        "id": "JkciL-DylG5c",
        "outputId": "aed70d7e-936e-46a3-b5ea-e84a69074857"
      },
      "source": [
        "df2.dtypes"
      ],
      "execution_count": 22,
      "outputs": [
        {
          "output_type": "execute_result",
          "data": {
            "text/plain": [
              "A           float64\n",
              "B    datetime64[ns]\n",
              "C           float32\n",
              "D             int32\n",
              "E          category\n",
              "F            object\n",
              "dtype: object"
            ]
          },
          "metadata": {
            "tags": []
          },
          "execution_count": 22
        }
      ]
    },
    {
      "cell_type": "code",
      "metadata": {
        "colab": {
          "base_uri": "https://localhost:8080/",
          "height": 204
        },
        "id": "5RtI4HlAlKym",
        "outputId": "ec82e767-e327-4d55-9f6a-7bd890d70f0e"
      },
      "source": [
        "df.head()"
      ],
      "execution_count": 23,
      "outputs": [
        {
          "output_type": "execute_result",
          "data": {
            "text/html": [
              "<div>\n",
              "<style scoped>\n",
              "    .dataframe tbody tr th:only-of-type {\n",
              "        vertical-align: middle;\n",
              "    }\n",
              "\n",
              "    .dataframe tbody tr th {\n",
              "        vertical-align: top;\n",
              "    }\n",
              "\n",
              "    .dataframe thead th {\n",
              "        text-align: right;\n",
              "    }\n",
              "</style>\n",
              "<table border=\"1\" class=\"dataframe\">\n",
              "  <thead>\n",
              "    <tr style=\"text-align: right;\">\n",
              "      <th></th>\n",
              "      <th>A</th>\n",
              "      <th>B</th>\n",
              "      <th>C</th>\n",
              "      <th>D</th>\n",
              "    </tr>\n",
              "  </thead>\n",
              "  <tbody>\n",
              "    <tr>\n",
              "      <th>2021-04-30</th>\n",
              "      <td>0.062762</td>\n",
              "      <td>-1.646844</td>\n",
              "      <td>-0.372962</td>\n",
              "      <td>1.549732</td>\n",
              "    </tr>\n",
              "    <tr>\n",
              "      <th>2021-05-01</th>\n",
              "      <td>1.538414</td>\n",
              "      <td>1.162280</td>\n",
              "      <td>-1.114996</td>\n",
              "      <td>1.793400</td>\n",
              "    </tr>\n",
              "    <tr>\n",
              "      <th>2021-05-02</th>\n",
              "      <td>-0.290671</td>\n",
              "      <td>-1.063933</td>\n",
              "      <td>0.298983</td>\n",
              "      <td>0.378228</td>\n",
              "    </tr>\n",
              "    <tr>\n",
              "      <th>2021-05-03</th>\n",
              "      <td>-1.314675</td>\n",
              "      <td>-1.228112</td>\n",
              "      <td>-1.881465</td>\n",
              "      <td>0.973895</td>\n",
              "    </tr>\n",
              "    <tr>\n",
              "      <th>2021-05-04</th>\n",
              "      <td>-0.584957</td>\n",
              "      <td>-1.125338</td>\n",
              "      <td>-0.682209</td>\n",
              "      <td>0.986041</td>\n",
              "    </tr>\n",
              "  </tbody>\n",
              "</table>\n",
              "</div>"
            ],
            "text/plain": [
              "                   A         B         C         D\n",
              "2021-04-30  0.062762 -1.646844 -0.372962  1.549732\n",
              "2021-05-01  1.538414  1.162280 -1.114996  1.793400\n",
              "2021-05-02 -0.290671 -1.063933  0.298983  0.378228\n",
              "2021-05-03 -1.314675 -1.228112 -1.881465  0.973895\n",
              "2021-05-04 -0.584957 -1.125338 -0.682209  0.986041"
            ]
          },
          "metadata": {
            "tags": []
          },
          "execution_count": 23
        }
      ]
    },
    {
      "cell_type": "code",
      "metadata": {
        "colab": {
          "base_uri": "https://localhost:8080/",
          "height": 80
        },
        "id": "9R9ndMpjlxjo",
        "outputId": "6b9d7c79-b6f9-4a3d-b69a-0ba7c8cba5c0"
      },
      "source": [
        "df.tail()"
      ],
      "execution_count": 25,
      "outputs": [
        {
          "output_type": "execute_result",
          "data": {
            "text/html": [
              "<div>\n",
              "<style scoped>\n",
              "    .dataframe tbody tr th:only-of-type {\n",
              "        vertical-align: middle;\n",
              "    }\n",
              "\n",
              "    .dataframe tbody tr th {\n",
              "        vertical-align: top;\n",
              "    }\n",
              "\n",
              "    .dataframe thead th {\n",
              "        text-align: right;\n",
              "    }\n",
              "</style>\n",
              "<table border=\"1\" class=\"dataframe\">\n",
              "  <thead>\n",
              "    <tr style=\"text-align: right;\">\n",
              "      <th></th>\n",
              "      <th>A</th>\n",
              "      <th>B</th>\n",
              "      <th>C</th>\n",
              "      <th>D</th>\n",
              "    </tr>\n",
              "  </thead>\n",
              "  <tbody>\n",
              "    <tr>\n",
              "      <th>2021-05-05</th>\n",
              "      <td>-0.629019</td>\n",
              "      <td>-1.23263</td>\n",
              "      <td>0.586917</td>\n",
              "      <td>0.03006</td>\n",
              "    </tr>\n",
              "  </tbody>\n",
              "</table>\n",
              "</div>"
            ],
            "text/plain": [
              "                   A        B         C        D\n",
              "2021-05-05 -0.629019 -1.23263  0.586917  0.03006"
            ]
          },
          "metadata": {
            "tags": []
          },
          "execution_count": 25
        }
      ]
    },
    {
      "cell_type": "code",
      "metadata": {
        "colab": {
          "base_uri": "https://localhost:8080/",
          "height": 235
        },
        "id": "TtvDmCf9mEPV",
        "outputId": "6eac6f9b-a08c-4bc7-a877-4819caa201d3"
      },
      "source": [
        "df"
      ],
      "execution_count": 26,
      "outputs": [
        {
          "output_type": "execute_result",
          "data": {
            "text/html": [
              "<div>\n",
              "<style scoped>\n",
              "    .dataframe tbody tr th:only-of-type {\n",
              "        vertical-align: middle;\n",
              "    }\n",
              "\n",
              "    .dataframe tbody tr th {\n",
              "        vertical-align: top;\n",
              "    }\n",
              "\n",
              "    .dataframe thead th {\n",
              "        text-align: right;\n",
              "    }\n",
              "</style>\n",
              "<table border=\"1\" class=\"dataframe\">\n",
              "  <thead>\n",
              "    <tr style=\"text-align: right;\">\n",
              "      <th></th>\n",
              "      <th>A</th>\n",
              "      <th>B</th>\n",
              "      <th>C</th>\n",
              "      <th>D</th>\n",
              "    </tr>\n",
              "  </thead>\n",
              "  <tbody>\n",
              "    <tr>\n",
              "      <th>2021-04-30</th>\n",
              "      <td>0.062762</td>\n",
              "      <td>-1.646844</td>\n",
              "      <td>-0.372962</td>\n",
              "      <td>1.549732</td>\n",
              "    </tr>\n",
              "    <tr>\n",
              "      <th>2021-05-01</th>\n",
              "      <td>1.538414</td>\n",
              "      <td>1.162280</td>\n",
              "      <td>-1.114996</td>\n",
              "      <td>1.793400</td>\n",
              "    </tr>\n",
              "    <tr>\n",
              "      <th>2021-05-02</th>\n",
              "      <td>-0.290671</td>\n",
              "      <td>-1.063933</td>\n",
              "      <td>0.298983</td>\n",
              "      <td>0.378228</td>\n",
              "    </tr>\n",
              "    <tr>\n",
              "      <th>2021-05-03</th>\n",
              "      <td>-1.314675</td>\n",
              "      <td>-1.228112</td>\n",
              "      <td>-1.881465</td>\n",
              "      <td>0.973895</td>\n",
              "    </tr>\n",
              "    <tr>\n",
              "      <th>2021-05-04</th>\n",
              "      <td>-0.584957</td>\n",
              "      <td>-1.125338</td>\n",
              "      <td>-0.682209</td>\n",
              "      <td>0.986041</td>\n",
              "    </tr>\n",
              "    <tr>\n",
              "      <th>2021-05-05</th>\n",
              "      <td>-0.629019</td>\n",
              "      <td>-1.232630</td>\n",
              "      <td>0.586917</td>\n",
              "      <td>0.030060</td>\n",
              "    </tr>\n",
              "  </tbody>\n",
              "</table>\n",
              "</div>"
            ],
            "text/plain": [
              "                   A         B         C         D\n",
              "2021-04-30  0.062762 -1.646844 -0.372962  1.549732\n",
              "2021-05-01  1.538414  1.162280 -1.114996  1.793400\n",
              "2021-05-02 -0.290671 -1.063933  0.298983  0.378228\n",
              "2021-05-03 -1.314675 -1.228112 -1.881465  0.973895\n",
              "2021-05-04 -0.584957 -1.125338 -0.682209  0.986041\n",
              "2021-05-05 -0.629019 -1.232630  0.586917  0.030060"
            ]
          },
          "metadata": {
            "tags": []
          },
          "execution_count": 26
        }
      ]
    },
    {
      "cell_type": "code",
      "metadata": {
        "colab": {
          "base_uri": "https://localhost:8080/"
        },
        "id": "E-6vCu14meMG",
        "outputId": "1c741efa-43d1-417c-840b-e79680fe3d46"
      },
      "source": [
        "df.index"
      ],
      "execution_count": 28,
      "outputs": [
        {
          "output_type": "execute_result",
          "data": {
            "text/plain": [
              "DatetimeIndex(['2021-04-30', '2021-05-01', '2021-05-02', '2021-05-03',\n",
              "               '2021-05-04', '2021-05-05'],\n",
              "              dtype='datetime64[ns]', freq='D')"
            ]
          },
          "metadata": {
            "tags": []
          },
          "execution_count": 28
        }
      ]
    },
    {
      "cell_type": "code",
      "metadata": {
        "colab": {
          "base_uri": "https://localhost:8080/"
        },
        "id": "j1SGJo13mixk",
        "outputId": "93e7379b-c6a6-4177-e104-25445ae1bdda"
      },
      "source": [
        "df.columns"
      ],
      "execution_count": 29,
      "outputs": [
        {
          "output_type": "execute_result",
          "data": {
            "text/plain": [
              "Index(['A', 'B', 'C', 'D'], dtype='object')"
            ]
          },
          "metadata": {
            "tags": []
          },
          "execution_count": 29
        }
      ]
    },
    {
      "cell_type": "code",
      "metadata": {
        "colab": {
          "base_uri": "https://localhost:8080/"
        },
        "id": "aQqbWW23mmef",
        "outputId": "7e1a8e02-04bb-4494-862c-16d3afea8f76"
      },
      "source": [
        "df.values"
      ],
      "execution_count": 30,
      "outputs": [
        {
          "output_type": "execute_result",
          "data": {
            "text/plain": [
              "array([[ 0.06276237, -1.64684434, -0.37296224,  1.54973228],\n",
              "       [ 1.53841355,  1.16228002, -1.11499591,  1.79340016],\n",
              "       [-0.29067121, -1.06393314,  0.29898288,  0.37822762],\n",
              "       [-1.31467483, -1.2281117 , -1.88146526,  0.9738949 ],\n",
              "       [-0.58495708, -1.12533766, -0.68220915,  0.98604085],\n",
              "       [-0.6290188 , -1.23263025,  0.58691734,  0.03006048]])"
            ]
          },
          "metadata": {
            "tags": []
          },
          "execution_count": 30
        }
      ]
    },
    {
      "cell_type": "code",
      "metadata": {
        "colab": {
          "base_uri": "https://localhost:8080/",
          "height": 235
        },
        "id": "s0r8lec_mpCl",
        "outputId": "f1a71741-c00f-4fec-e515-2f3a7bf0af94"
      },
      "source": [
        "df"
      ],
      "execution_count": 31,
      "outputs": [
        {
          "output_type": "execute_result",
          "data": {
            "text/html": [
              "<div>\n",
              "<style scoped>\n",
              "    .dataframe tbody tr th:only-of-type {\n",
              "        vertical-align: middle;\n",
              "    }\n",
              "\n",
              "    .dataframe tbody tr th {\n",
              "        vertical-align: top;\n",
              "    }\n",
              "\n",
              "    .dataframe thead th {\n",
              "        text-align: right;\n",
              "    }\n",
              "</style>\n",
              "<table border=\"1\" class=\"dataframe\">\n",
              "  <thead>\n",
              "    <tr style=\"text-align: right;\">\n",
              "      <th></th>\n",
              "      <th>A</th>\n",
              "      <th>B</th>\n",
              "      <th>C</th>\n",
              "      <th>D</th>\n",
              "    </tr>\n",
              "  </thead>\n",
              "  <tbody>\n",
              "    <tr>\n",
              "      <th>2021-04-30</th>\n",
              "      <td>0.062762</td>\n",
              "      <td>-1.646844</td>\n",
              "      <td>-0.372962</td>\n",
              "      <td>1.549732</td>\n",
              "    </tr>\n",
              "    <tr>\n",
              "      <th>2021-05-01</th>\n",
              "      <td>1.538414</td>\n",
              "      <td>1.162280</td>\n",
              "      <td>-1.114996</td>\n",
              "      <td>1.793400</td>\n",
              "    </tr>\n",
              "    <tr>\n",
              "      <th>2021-05-02</th>\n",
              "      <td>-0.290671</td>\n",
              "      <td>-1.063933</td>\n",
              "      <td>0.298983</td>\n",
              "      <td>0.378228</td>\n",
              "    </tr>\n",
              "    <tr>\n",
              "      <th>2021-05-03</th>\n",
              "      <td>-1.314675</td>\n",
              "      <td>-1.228112</td>\n",
              "      <td>-1.881465</td>\n",
              "      <td>0.973895</td>\n",
              "    </tr>\n",
              "    <tr>\n",
              "      <th>2021-05-04</th>\n",
              "      <td>-0.584957</td>\n",
              "      <td>-1.125338</td>\n",
              "      <td>-0.682209</td>\n",
              "      <td>0.986041</td>\n",
              "    </tr>\n",
              "    <tr>\n",
              "      <th>2021-05-05</th>\n",
              "      <td>-0.629019</td>\n",
              "      <td>-1.232630</td>\n",
              "      <td>0.586917</td>\n",
              "      <td>0.030060</td>\n",
              "    </tr>\n",
              "  </tbody>\n",
              "</table>\n",
              "</div>"
            ],
            "text/plain": [
              "                   A         B         C         D\n",
              "2021-04-30  0.062762 -1.646844 -0.372962  1.549732\n",
              "2021-05-01  1.538414  1.162280 -1.114996  1.793400\n",
              "2021-05-02 -0.290671 -1.063933  0.298983  0.378228\n",
              "2021-05-03 -1.314675 -1.228112 -1.881465  0.973895\n",
              "2021-05-04 -0.584957 -1.125338 -0.682209  0.986041\n",
              "2021-05-05 -0.629019 -1.232630  0.586917  0.030060"
            ]
          },
          "metadata": {
            "tags": []
          },
          "execution_count": 31
        }
      ]
    },
    {
      "cell_type": "code",
      "metadata": {
        "colab": {
          "base_uri": "https://localhost:8080/",
          "height": 173
        },
        "id": "xSqpEdWymvBY",
        "outputId": "761aeaf1-71cb-4536-d738-8676f764bd42"
      },
      "source": [
        "df. T"
      ],
      "execution_count": 35,
      "outputs": [
        {
          "output_type": "execute_result",
          "data": {
            "text/html": [
              "<div>\n",
              "<style scoped>\n",
              "    .dataframe tbody tr th:only-of-type {\n",
              "        vertical-align: middle;\n",
              "    }\n",
              "\n",
              "    .dataframe tbody tr th {\n",
              "        vertical-align: top;\n",
              "    }\n",
              "\n",
              "    .dataframe thead th {\n",
              "        text-align: right;\n",
              "    }\n",
              "</style>\n",
              "<table border=\"1\" class=\"dataframe\">\n",
              "  <thead>\n",
              "    <tr style=\"text-align: right;\">\n",
              "      <th></th>\n",
              "      <th>2021-04-30</th>\n",
              "      <th>2021-05-01</th>\n",
              "      <th>2021-05-02</th>\n",
              "      <th>2021-05-03</th>\n",
              "      <th>2021-05-04</th>\n",
              "      <th>2021-05-05</th>\n",
              "    </tr>\n",
              "  </thead>\n",
              "  <tbody>\n",
              "    <tr>\n",
              "      <th>A</th>\n",
              "      <td>0.062762</td>\n",
              "      <td>1.538414</td>\n",
              "      <td>-0.290671</td>\n",
              "      <td>-1.314675</td>\n",
              "      <td>-0.584957</td>\n",
              "      <td>-0.629019</td>\n",
              "    </tr>\n",
              "    <tr>\n",
              "      <th>B</th>\n",
              "      <td>-1.646844</td>\n",
              "      <td>1.162280</td>\n",
              "      <td>-1.063933</td>\n",
              "      <td>-1.228112</td>\n",
              "      <td>-1.125338</td>\n",
              "      <td>-1.232630</td>\n",
              "    </tr>\n",
              "    <tr>\n",
              "      <th>C</th>\n",
              "      <td>-0.372962</td>\n",
              "      <td>-1.114996</td>\n",
              "      <td>0.298983</td>\n",
              "      <td>-1.881465</td>\n",
              "      <td>-0.682209</td>\n",
              "      <td>0.586917</td>\n",
              "    </tr>\n",
              "    <tr>\n",
              "      <th>D</th>\n",
              "      <td>1.549732</td>\n",
              "      <td>1.793400</td>\n",
              "      <td>0.378228</td>\n",
              "      <td>0.973895</td>\n",
              "      <td>0.986041</td>\n",
              "      <td>0.030060</td>\n",
              "    </tr>\n",
              "  </tbody>\n",
              "</table>\n",
              "</div>"
            ],
            "text/plain": [
              "   2021-04-30  2021-05-01  2021-05-02  2021-05-03  2021-05-04  2021-05-05\n",
              "A    0.062762    1.538414   -0.290671   -1.314675   -0.584957   -0.629019\n",
              "B   -1.646844    1.162280   -1.063933   -1.228112   -1.125338   -1.232630\n",
              "C   -0.372962   -1.114996    0.298983   -1.881465   -0.682209    0.586917\n",
              "D    1.549732    1.793400    0.378228    0.973895    0.986041    0.030060"
            ]
          },
          "metadata": {
            "tags": []
          },
          "execution_count": 35
        }
      ]
    },
    {
      "cell_type": "code",
      "metadata": {
        "colab": {
          "base_uri": "https://localhost:8080/",
          "height": 235
        },
        "id": "67tQoHn4m3d0",
        "outputId": "3cc1b8bb-6e05-4bca-a58e-21200006d336"
      },
      "source": [
        "df"
      ],
      "execution_count": 36,
      "outputs": [
        {
          "output_type": "execute_result",
          "data": {
            "text/html": [
              "<div>\n",
              "<style scoped>\n",
              "    .dataframe tbody tr th:only-of-type {\n",
              "        vertical-align: middle;\n",
              "    }\n",
              "\n",
              "    .dataframe tbody tr th {\n",
              "        vertical-align: top;\n",
              "    }\n",
              "\n",
              "    .dataframe thead th {\n",
              "        text-align: right;\n",
              "    }\n",
              "</style>\n",
              "<table border=\"1\" class=\"dataframe\">\n",
              "  <thead>\n",
              "    <tr style=\"text-align: right;\">\n",
              "      <th></th>\n",
              "      <th>A</th>\n",
              "      <th>B</th>\n",
              "      <th>C</th>\n",
              "      <th>D</th>\n",
              "    </tr>\n",
              "  </thead>\n",
              "  <tbody>\n",
              "    <tr>\n",
              "      <th>2021-04-30</th>\n",
              "      <td>0.062762</td>\n",
              "      <td>-1.646844</td>\n",
              "      <td>-0.372962</td>\n",
              "      <td>1.549732</td>\n",
              "    </tr>\n",
              "    <tr>\n",
              "      <th>2021-05-01</th>\n",
              "      <td>1.538414</td>\n",
              "      <td>1.162280</td>\n",
              "      <td>-1.114996</td>\n",
              "      <td>1.793400</td>\n",
              "    </tr>\n",
              "    <tr>\n",
              "      <th>2021-05-02</th>\n",
              "      <td>-0.290671</td>\n",
              "      <td>-1.063933</td>\n",
              "      <td>0.298983</td>\n",
              "      <td>0.378228</td>\n",
              "    </tr>\n",
              "    <tr>\n",
              "      <th>2021-05-03</th>\n",
              "      <td>-1.314675</td>\n",
              "      <td>-1.228112</td>\n",
              "      <td>-1.881465</td>\n",
              "      <td>0.973895</td>\n",
              "    </tr>\n",
              "    <tr>\n",
              "      <th>2021-05-04</th>\n",
              "      <td>-0.584957</td>\n",
              "      <td>-1.125338</td>\n",
              "      <td>-0.682209</td>\n",
              "      <td>0.986041</td>\n",
              "    </tr>\n",
              "    <tr>\n",
              "      <th>2021-05-05</th>\n",
              "      <td>-0.629019</td>\n",
              "      <td>-1.232630</td>\n",
              "      <td>0.586917</td>\n",
              "      <td>0.030060</td>\n",
              "    </tr>\n",
              "  </tbody>\n",
              "</table>\n",
              "</div>"
            ],
            "text/plain": [
              "                   A         B         C         D\n",
              "2021-04-30  0.062762 -1.646844 -0.372962  1.549732\n",
              "2021-05-01  1.538414  1.162280 -1.114996  1.793400\n",
              "2021-05-02 -0.290671 -1.063933  0.298983  0.378228\n",
              "2021-05-03 -1.314675 -1.228112 -1.881465  0.973895\n",
              "2021-05-04 -0.584957 -1.125338 -0.682209  0.986041\n",
              "2021-05-05 -0.629019 -1.232630  0.586917  0.030060"
            ]
          },
          "metadata": {
            "tags": []
          },
          "execution_count": 36
        }
      ]
    },
    {
      "cell_type": "code",
      "metadata": {
        "colab": {
          "base_uri": "https://localhost:8080/",
          "height": 235
        },
        "id": "N5okR0e0o6qr",
        "outputId": "09b0f2bd-a073-4d84-e9aa-38afddcc7021"
      },
      "source": [
        "df.sort_index(axis=0, ascending=True)"
      ],
      "execution_count": 38,
      "outputs": [
        {
          "output_type": "execute_result",
          "data": {
            "text/html": [
              "<div>\n",
              "<style scoped>\n",
              "    .dataframe tbody tr th:only-of-type {\n",
              "        vertical-align: middle;\n",
              "    }\n",
              "\n",
              "    .dataframe tbody tr th {\n",
              "        vertical-align: top;\n",
              "    }\n",
              "\n",
              "    .dataframe thead th {\n",
              "        text-align: right;\n",
              "    }\n",
              "</style>\n",
              "<table border=\"1\" class=\"dataframe\">\n",
              "  <thead>\n",
              "    <tr style=\"text-align: right;\">\n",
              "      <th></th>\n",
              "      <th>A</th>\n",
              "      <th>B</th>\n",
              "      <th>C</th>\n",
              "      <th>D</th>\n",
              "    </tr>\n",
              "  </thead>\n",
              "  <tbody>\n",
              "    <tr>\n",
              "      <th>2021-04-30</th>\n",
              "      <td>0.062762</td>\n",
              "      <td>-1.646844</td>\n",
              "      <td>-0.372962</td>\n",
              "      <td>1.549732</td>\n",
              "    </tr>\n",
              "    <tr>\n",
              "      <th>2021-05-01</th>\n",
              "      <td>1.538414</td>\n",
              "      <td>1.162280</td>\n",
              "      <td>-1.114996</td>\n",
              "      <td>1.793400</td>\n",
              "    </tr>\n",
              "    <tr>\n",
              "      <th>2021-05-02</th>\n",
              "      <td>-0.290671</td>\n",
              "      <td>-1.063933</td>\n",
              "      <td>0.298983</td>\n",
              "      <td>0.378228</td>\n",
              "    </tr>\n",
              "    <tr>\n",
              "      <th>2021-05-03</th>\n",
              "      <td>-1.314675</td>\n",
              "      <td>-1.228112</td>\n",
              "      <td>-1.881465</td>\n",
              "      <td>0.973895</td>\n",
              "    </tr>\n",
              "    <tr>\n",
              "      <th>2021-05-04</th>\n",
              "      <td>-0.584957</td>\n",
              "      <td>-1.125338</td>\n",
              "      <td>-0.682209</td>\n",
              "      <td>0.986041</td>\n",
              "    </tr>\n",
              "    <tr>\n",
              "      <th>2021-05-05</th>\n",
              "      <td>-0.629019</td>\n",
              "      <td>-1.232630</td>\n",
              "      <td>0.586917</td>\n",
              "      <td>0.030060</td>\n",
              "    </tr>\n",
              "  </tbody>\n",
              "</table>\n",
              "</div>"
            ],
            "text/plain": [
              "                   A         B         C         D\n",
              "2021-04-30  0.062762 -1.646844 -0.372962  1.549732\n",
              "2021-05-01  1.538414  1.162280 -1.114996  1.793400\n",
              "2021-05-02 -0.290671 -1.063933  0.298983  0.378228\n",
              "2021-05-03 -1.314675 -1.228112 -1.881465  0.973895\n",
              "2021-05-04 -0.584957 -1.125338 -0.682209  0.986041\n",
              "2021-05-05 -0.629019 -1.232630  0.586917  0.030060"
            ]
          },
          "metadata": {
            "tags": []
          },
          "execution_count": 38
        }
      ]
    },
    {
      "cell_type": "code",
      "metadata": {
        "colab": {
          "base_uri": "https://localhost:8080/",
          "height": 235
        },
        "id": "KzpoFodepNEs",
        "outputId": "4d839e3f-4a6e-41d9-fbcb-9e5f6a5a2717"
      },
      "source": [
        "df.sort_index(axis=0, ascending=False)"
      ],
      "execution_count": 39,
      "outputs": [
        {
          "output_type": "execute_result",
          "data": {
            "text/html": [
              "<div>\n",
              "<style scoped>\n",
              "    .dataframe tbody tr th:only-of-type {\n",
              "        vertical-align: middle;\n",
              "    }\n",
              "\n",
              "    .dataframe tbody tr th {\n",
              "        vertical-align: top;\n",
              "    }\n",
              "\n",
              "    .dataframe thead th {\n",
              "        text-align: right;\n",
              "    }\n",
              "</style>\n",
              "<table border=\"1\" class=\"dataframe\">\n",
              "  <thead>\n",
              "    <tr style=\"text-align: right;\">\n",
              "      <th></th>\n",
              "      <th>A</th>\n",
              "      <th>B</th>\n",
              "      <th>C</th>\n",
              "      <th>D</th>\n",
              "    </tr>\n",
              "  </thead>\n",
              "  <tbody>\n",
              "    <tr>\n",
              "      <th>2021-05-05</th>\n",
              "      <td>-0.629019</td>\n",
              "      <td>-1.232630</td>\n",
              "      <td>0.586917</td>\n",
              "      <td>0.030060</td>\n",
              "    </tr>\n",
              "    <tr>\n",
              "      <th>2021-05-04</th>\n",
              "      <td>-0.584957</td>\n",
              "      <td>-1.125338</td>\n",
              "      <td>-0.682209</td>\n",
              "      <td>0.986041</td>\n",
              "    </tr>\n",
              "    <tr>\n",
              "      <th>2021-05-03</th>\n",
              "      <td>-1.314675</td>\n",
              "      <td>-1.228112</td>\n",
              "      <td>-1.881465</td>\n",
              "      <td>0.973895</td>\n",
              "    </tr>\n",
              "    <tr>\n",
              "      <th>2021-05-02</th>\n",
              "      <td>-0.290671</td>\n",
              "      <td>-1.063933</td>\n",
              "      <td>0.298983</td>\n",
              "      <td>0.378228</td>\n",
              "    </tr>\n",
              "    <tr>\n",
              "      <th>2021-05-01</th>\n",
              "      <td>1.538414</td>\n",
              "      <td>1.162280</td>\n",
              "      <td>-1.114996</td>\n",
              "      <td>1.793400</td>\n",
              "    </tr>\n",
              "    <tr>\n",
              "      <th>2021-04-30</th>\n",
              "      <td>0.062762</td>\n",
              "      <td>-1.646844</td>\n",
              "      <td>-0.372962</td>\n",
              "      <td>1.549732</td>\n",
              "    </tr>\n",
              "  </tbody>\n",
              "</table>\n",
              "</div>"
            ],
            "text/plain": [
              "                   A         B         C         D\n",
              "2021-05-05 -0.629019 -1.232630  0.586917  0.030060\n",
              "2021-05-04 -0.584957 -1.125338 -0.682209  0.986041\n",
              "2021-05-03 -1.314675 -1.228112 -1.881465  0.973895\n",
              "2021-05-02 -0.290671 -1.063933  0.298983  0.378228\n",
              "2021-05-01  1.538414  1.162280 -1.114996  1.793400\n",
              "2021-04-30  0.062762 -1.646844 -0.372962  1.549732"
            ]
          },
          "metadata": {
            "tags": []
          },
          "execution_count": 39
        }
      ]
    },
    {
      "cell_type": "code",
      "metadata": {
        "colab": {
          "base_uri": "https://localhost:8080/",
          "height": 235
        },
        "id": "rQMfJna9psHl",
        "outputId": "f97d7d25-a860-438c-cc04-5522ed984dba"
      },
      "source": [
        "df.sort_index(axis=1, ascending=True)"
      ],
      "execution_count": 40,
      "outputs": [
        {
          "output_type": "execute_result",
          "data": {
            "text/html": [
              "<div>\n",
              "<style scoped>\n",
              "    .dataframe tbody tr th:only-of-type {\n",
              "        vertical-align: middle;\n",
              "    }\n",
              "\n",
              "    .dataframe tbody tr th {\n",
              "        vertical-align: top;\n",
              "    }\n",
              "\n",
              "    .dataframe thead th {\n",
              "        text-align: right;\n",
              "    }\n",
              "</style>\n",
              "<table border=\"1\" class=\"dataframe\">\n",
              "  <thead>\n",
              "    <tr style=\"text-align: right;\">\n",
              "      <th></th>\n",
              "      <th>A</th>\n",
              "      <th>B</th>\n",
              "      <th>C</th>\n",
              "      <th>D</th>\n",
              "    </tr>\n",
              "  </thead>\n",
              "  <tbody>\n",
              "    <tr>\n",
              "      <th>2021-04-30</th>\n",
              "      <td>0.062762</td>\n",
              "      <td>-1.646844</td>\n",
              "      <td>-0.372962</td>\n",
              "      <td>1.549732</td>\n",
              "    </tr>\n",
              "    <tr>\n",
              "      <th>2021-05-01</th>\n",
              "      <td>1.538414</td>\n",
              "      <td>1.162280</td>\n",
              "      <td>-1.114996</td>\n",
              "      <td>1.793400</td>\n",
              "    </tr>\n",
              "    <tr>\n",
              "      <th>2021-05-02</th>\n",
              "      <td>-0.290671</td>\n",
              "      <td>-1.063933</td>\n",
              "      <td>0.298983</td>\n",
              "      <td>0.378228</td>\n",
              "    </tr>\n",
              "    <tr>\n",
              "      <th>2021-05-03</th>\n",
              "      <td>-1.314675</td>\n",
              "      <td>-1.228112</td>\n",
              "      <td>-1.881465</td>\n",
              "      <td>0.973895</td>\n",
              "    </tr>\n",
              "    <tr>\n",
              "      <th>2021-05-04</th>\n",
              "      <td>-0.584957</td>\n",
              "      <td>-1.125338</td>\n",
              "      <td>-0.682209</td>\n",
              "      <td>0.986041</td>\n",
              "    </tr>\n",
              "    <tr>\n",
              "      <th>2021-05-05</th>\n",
              "      <td>-0.629019</td>\n",
              "      <td>-1.232630</td>\n",
              "      <td>0.586917</td>\n",
              "      <td>0.030060</td>\n",
              "    </tr>\n",
              "  </tbody>\n",
              "</table>\n",
              "</div>"
            ],
            "text/plain": [
              "                   A         B         C         D\n",
              "2021-04-30  0.062762 -1.646844 -0.372962  1.549732\n",
              "2021-05-01  1.538414  1.162280 -1.114996  1.793400\n",
              "2021-05-02 -0.290671 -1.063933  0.298983  0.378228\n",
              "2021-05-03 -1.314675 -1.228112 -1.881465  0.973895\n",
              "2021-05-04 -0.584957 -1.125338 -0.682209  0.986041\n",
              "2021-05-05 -0.629019 -1.232630  0.586917  0.030060"
            ]
          },
          "metadata": {
            "tags": []
          },
          "execution_count": 40
        }
      ]
    },
    {
      "cell_type": "code",
      "metadata": {
        "colab": {
          "base_uri": "https://localhost:8080/",
          "height": 235
        },
        "id": "9Lxv_Ofrp-VX",
        "outputId": "c7ebab76-af0f-4cae-a737-cbc7c057c267"
      },
      "source": [
        "df.sort_index(axis=1, ascending=False)"
      ],
      "execution_count": 41,
      "outputs": [
        {
          "output_type": "execute_result",
          "data": {
            "text/html": [
              "<div>\n",
              "<style scoped>\n",
              "    .dataframe tbody tr th:only-of-type {\n",
              "        vertical-align: middle;\n",
              "    }\n",
              "\n",
              "    .dataframe tbody tr th {\n",
              "        vertical-align: top;\n",
              "    }\n",
              "\n",
              "    .dataframe thead th {\n",
              "        text-align: right;\n",
              "    }\n",
              "</style>\n",
              "<table border=\"1\" class=\"dataframe\">\n",
              "  <thead>\n",
              "    <tr style=\"text-align: right;\">\n",
              "      <th></th>\n",
              "      <th>D</th>\n",
              "      <th>C</th>\n",
              "      <th>B</th>\n",
              "      <th>A</th>\n",
              "    </tr>\n",
              "  </thead>\n",
              "  <tbody>\n",
              "    <tr>\n",
              "      <th>2021-04-30</th>\n",
              "      <td>1.549732</td>\n",
              "      <td>-0.372962</td>\n",
              "      <td>-1.646844</td>\n",
              "      <td>0.062762</td>\n",
              "    </tr>\n",
              "    <tr>\n",
              "      <th>2021-05-01</th>\n",
              "      <td>1.793400</td>\n",
              "      <td>-1.114996</td>\n",
              "      <td>1.162280</td>\n",
              "      <td>1.538414</td>\n",
              "    </tr>\n",
              "    <tr>\n",
              "      <th>2021-05-02</th>\n",
              "      <td>0.378228</td>\n",
              "      <td>0.298983</td>\n",
              "      <td>-1.063933</td>\n",
              "      <td>-0.290671</td>\n",
              "    </tr>\n",
              "    <tr>\n",
              "      <th>2021-05-03</th>\n",
              "      <td>0.973895</td>\n",
              "      <td>-1.881465</td>\n",
              "      <td>-1.228112</td>\n",
              "      <td>-1.314675</td>\n",
              "    </tr>\n",
              "    <tr>\n",
              "      <th>2021-05-04</th>\n",
              "      <td>0.986041</td>\n",
              "      <td>-0.682209</td>\n",
              "      <td>-1.125338</td>\n",
              "      <td>-0.584957</td>\n",
              "    </tr>\n",
              "    <tr>\n",
              "      <th>2021-05-05</th>\n",
              "      <td>0.030060</td>\n",
              "      <td>0.586917</td>\n",
              "      <td>-1.232630</td>\n",
              "      <td>-0.629019</td>\n",
              "    </tr>\n",
              "  </tbody>\n",
              "</table>\n",
              "</div>"
            ],
            "text/plain": [
              "                   D         C         B         A\n",
              "2021-04-30  1.549732 -0.372962 -1.646844  0.062762\n",
              "2021-05-01  1.793400 -1.114996  1.162280  1.538414\n",
              "2021-05-02  0.378228  0.298983 -1.063933 -0.290671\n",
              "2021-05-03  0.973895 -1.881465 -1.228112 -1.314675\n",
              "2021-05-04  0.986041 -0.682209 -1.125338 -0.584957\n",
              "2021-05-05  0.030060  0.586917 -1.232630 -0.629019"
            ]
          },
          "metadata": {
            "tags": []
          },
          "execution_count": 41
        }
      ]
    },
    {
      "cell_type": "code",
      "metadata": {
        "colab": {
          "base_uri": "https://localhost:8080/",
          "height": 235
        },
        "id": "YY85YOoIqDfp",
        "outputId": "10818fbb-ce61-4494-bb6f-f011db2173e0"
      },
      "source": [
        "df.sort_values(by='B')"
      ],
      "execution_count": 42,
      "outputs": [
        {
          "output_type": "execute_result",
          "data": {
            "text/html": [
              "<div>\n",
              "<style scoped>\n",
              "    .dataframe tbody tr th:only-of-type {\n",
              "        vertical-align: middle;\n",
              "    }\n",
              "\n",
              "    .dataframe tbody tr th {\n",
              "        vertical-align: top;\n",
              "    }\n",
              "\n",
              "    .dataframe thead th {\n",
              "        text-align: right;\n",
              "    }\n",
              "</style>\n",
              "<table border=\"1\" class=\"dataframe\">\n",
              "  <thead>\n",
              "    <tr style=\"text-align: right;\">\n",
              "      <th></th>\n",
              "      <th>A</th>\n",
              "      <th>B</th>\n",
              "      <th>C</th>\n",
              "      <th>D</th>\n",
              "    </tr>\n",
              "  </thead>\n",
              "  <tbody>\n",
              "    <tr>\n",
              "      <th>2021-04-30</th>\n",
              "      <td>0.062762</td>\n",
              "      <td>-1.646844</td>\n",
              "      <td>-0.372962</td>\n",
              "      <td>1.549732</td>\n",
              "    </tr>\n",
              "    <tr>\n",
              "      <th>2021-05-05</th>\n",
              "      <td>-0.629019</td>\n",
              "      <td>-1.232630</td>\n",
              "      <td>0.586917</td>\n",
              "      <td>0.030060</td>\n",
              "    </tr>\n",
              "    <tr>\n",
              "      <th>2021-05-03</th>\n",
              "      <td>-1.314675</td>\n",
              "      <td>-1.228112</td>\n",
              "      <td>-1.881465</td>\n",
              "      <td>0.973895</td>\n",
              "    </tr>\n",
              "    <tr>\n",
              "      <th>2021-05-04</th>\n",
              "      <td>-0.584957</td>\n",
              "      <td>-1.125338</td>\n",
              "      <td>-0.682209</td>\n",
              "      <td>0.986041</td>\n",
              "    </tr>\n",
              "    <tr>\n",
              "      <th>2021-05-02</th>\n",
              "      <td>-0.290671</td>\n",
              "      <td>-1.063933</td>\n",
              "      <td>0.298983</td>\n",
              "      <td>0.378228</td>\n",
              "    </tr>\n",
              "    <tr>\n",
              "      <th>2021-05-01</th>\n",
              "      <td>1.538414</td>\n",
              "      <td>1.162280</td>\n",
              "      <td>-1.114996</td>\n",
              "      <td>1.793400</td>\n",
              "    </tr>\n",
              "  </tbody>\n",
              "</table>\n",
              "</div>"
            ],
            "text/plain": [
              "                   A         B         C         D\n",
              "2021-04-30  0.062762 -1.646844 -0.372962  1.549732\n",
              "2021-05-05 -0.629019 -1.232630  0.586917  0.030060\n",
              "2021-05-03 -1.314675 -1.228112 -1.881465  0.973895\n",
              "2021-05-04 -0.584957 -1.125338 -0.682209  0.986041\n",
              "2021-05-02 -0.290671 -1.063933  0.298983  0.378228\n",
              "2021-05-01  1.538414  1.162280 -1.114996  1.793400"
            ]
          },
          "metadata": {
            "tags": []
          },
          "execution_count": 42
        }
      ]
    },
    {
      "cell_type": "code",
      "metadata": {
        "colab": {
          "base_uri": "https://localhost:8080/"
        },
        "id": "nzwBWCsjqTjs",
        "outputId": "b18c1685-6fd3-4c40-d8ac-c681cec955e2"
      },
      "source": [
        "dates"
      ],
      "execution_count": 43,
      "outputs": [
        {
          "output_type": "execute_result",
          "data": {
            "text/plain": [
              "DatetimeIndex(['2021-04-30', '2021-05-01', '2021-05-02', '2021-05-03',\n",
              "               '2021-05-04', '2021-05-05'],\n",
              "              dtype='datetime64[ns]', freq='D')"
            ]
          },
          "metadata": {
            "tags": []
          },
          "execution_count": 43
        }
      ]
    },
    {
      "cell_type": "code",
      "metadata": {
        "colab": {
          "base_uri": "https://localhost:8080/",
          "height": 235
        },
        "id": "9Hu5EhESqd0J",
        "outputId": "5c4d5f92-1571-438d-9d37-3b912d4df3d8"
      },
      "source": [
        "df"
      ],
      "execution_count": 44,
      "outputs": [
        {
          "output_type": "execute_result",
          "data": {
            "text/html": [
              "<div>\n",
              "<style scoped>\n",
              "    .dataframe tbody tr th:only-of-type {\n",
              "        vertical-align: middle;\n",
              "    }\n",
              "\n",
              "    .dataframe tbody tr th {\n",
              "        vertical-align: top;\n",
              "    }\n",
              "\n",
              "    .dataframe thead th {\n",
              "        text-align: right;\n",
              "    }\n",
              "</style>\n",
              "<table border=\"1\" class=\"dataframe\">\n",
              "  <thead>\n",
              "    <tr style=\"text-align: right;\">\n",
              "      <th></th>\n",
              "      <th>A</th>\n",
              "      <th>B</th>\n",
              "      <th>C</th>\n",
              "      <th>D</th>\n",
              "    </tr>\n",
              "  </thead>\n",
              "  <tbody>\n",
              "    <tr>\n",
              "      <th>2021-04-30</th>\n",
              "      <td>0.062762</td>\n",
              "      <td>-1.646844</td>\n",
              "      <td>-0.372962</td>\n",
              "      <td>1.549732</td>\n",
              "    </tr>\n",
              "    <tr>\n",
              "      <th>2021-05-01</th>\n",
              "      <td>1.538414</td>\n",
              "      <td>1.162280</td>\n",
              "      <td>-1.114996</td>\n",
              "      <td>1.793400</td>\n",
              "    </tr>\n",
              "    <tr>\n",
              "      <th>2021-05-02</th>\n",
              "      <td>-0.290671</td>\n",
              "      <td>-1.063933</td>\n",
              "      <td>0.298983</td>\n",
              "      <td>0.378228</td>\n",
              "    </tr>\n",
              "    <tr>\n",
              "      <th>2021-05-03</th>\n",
              "      <td>-1.314675</td>\n",
              "      <td>-1.228112</td>\n",
              "      <td>-1.881465</td>\n",
              "      <td>0.973895</td>\n",
              "    </tr>\n",
              "    <tr>\n",
              "      <th>2021-05-04</th>\n",
              "      <td>-0.584957</td>\n",
              "      <td>-1.125338</td>\n",
              "      <td>-0.682209</td>\n",
              "      <td>0.986041</td>\n",
              "    </tr>\n",
              "    <tr>\n",
              "      <th>2021-05-05</th>\n",
              "      <td>-0.629019</td>\n",
              "      <td>-1.232630</td>\n",
              "      <td>0.586917</td>\n",
              "      <td>0.030060</td>\n",
              "    </tr>\n",
              "  </tbody>\n",
              "</table>\n",
              "</div>"
            ],
            "text/plain": [
              "                   A         B         C         D\n",
              "2021-04-30  0.062762 -1.646844 -0.372962  1.549732\n",
              "2021-05-01  1.538414  1.162280 -1.114996  1.793400\n",
              "2021-05-02 -0.290671 -1.063933  0.298983  0.378228\n",
              "2021-05-03 -1.314675 -1.228112 -1.881465  0.973895\n",
              "2021-05-04 -0.584957 -1.125338 -0.682209  0.986041\n",
              "2021-05-05 -0.629019 -1.232630  0.586917  0.030060"
            ]
          },
          "metadata": {
            "tags": []
          },
          "execution_count": 44
        }
      ]
    },
    {
      "cell_type": "code",
      "metadata": {
        "colab": {
          "base_uri": "https://localhost:8080/"
        },
        "id": "RFk2Rmbxqe5J",
        "outputId": "62ab2e49-4e1e-448c-d439-241f05eac53e"
      },
      "source": [
        "df['A']"
      ],
      "execution_count": 45,
      "outputs": [
        {
          "output_type": "execute_result",
          "data": {
            "text/plain": [
              "2021-04-30    0.062762\n",
              "2021-05-01    1.538414\n",
              "2021-05-02   -0.290671\n",
              "2021-05-03   -1.314675\n",
              "2021-05-04   -0.584957\n",
              "2021-05-05   -0.629019\n",
              "Freq: D, Name: A, dtype: float64"
            ]
          },
          "metadata": {
            "tags": []
          },
          "execution_count": 45
        }
      ]
    },
    {
      "cell_type": "code",
      "metadata": {
        "colab": {
          "base_uri": "https://localhost:8080/"
        },
        "id": "3YqdYGuXqpuv",
        "outputId": "c1d59d8a-b03a-4954-a606-784590d0ee80"
      },
      "source": [
        "df['C']"
      ],
      "execution_count": 48,
      "outputs": [
        {
          "output_type": "execute_result",
          "data": {
            "text/plain": [
              "2021-04-30   -0.372962\n",
              "2021-05-01   -1.114996\n",
              "2021-05-02    0.298983\n",
              "2021-05-03   -1.881465\n",
              "2021-05-04   -0.682209\n",
              "2021-05-05    0.586917\n",
              "Freq: D, Name: C, dtype: float64"
            ]
          },
          "metadata": {
            "tags": []
          },
          "execution_count": 48
        }
      ]
    },
    {
      "cell_type": "code",
      "metadata": {
        "colab": {
          "base_uri": "https://localhost:8080/",
          "height": 235
        },
        "id": "WbctrcUoq_o3",
        "outputId": "02bb5ce3-55bc-4b65-9dc0-86056461453f"
      },
      "source": [
        "df[ ['A', 'B', 'D'] ]"
      ],
      "execution_count": 52,
      "outputs": [
        {
          "output_type": "execute_result",
          "data": {
            "text/html": [
              "<div>\n",
              "<style scoped>\n",
              "    .dataframe tbody tr th:only-of-type {\n",
              "        vertical-align: middle;\n",
              "    }\n",
              "\n",
              "    .dataframe tbody tr th {\n",
              "        vertical-align: top;\n",
              "    }\n",
              "\n",
              "    .dataframe thead th {\n",
              "        text-align: right;\n",
              "    }\n",
              "</style>\n",
              "<table border=\"1\" class=\"dataframe\">\n",
              "  <thead>\n",
              "    <tr style=\"text-align: right;\">\n",
              "      <th></th>\n",
              "      <th>A</th>\n",
              "      <th>B</th>\n",
              "      <th>D</th>\n",
              "    </tr>\n",
              "  </thead>\n",
              "  <tbody>\n",
              "    <tr>\n",
              "      <th>2021-04-30</th>\n",
              "      <td>0.062762</td>\n",
              "      <td>-1.646844</td>\n",
              "      <td>1.549732</td>\n",
              "    </tr>\n",
              "    <tr>\n",
              "      <th>2021-05-01</th>\n",
              "      <td>1.538414</td>\n",
              "      <td>1.162280</td>\n",
              "      <td>1.793400</td>\n",
              "    </tr>\n",
              "    <tr>\n",
              "      <th>2021-05-02</th>\n",
              "      <td>-0.290671</td>\n",
              "      <td>-1.063933</td>\n",
              "      <td>0.378228</td>\n",
              "    </tr>\n",
              "    <tr>\n",
              "      <th>2021-05-03</th>\n",
              "      <td>-1.314675</td>\n",
              "      <td>-1.228112</td>\n",
              "      <td>0.973895</td>\n",
              "    </tr>\n",
              "    <tr>\n",
              "      <th>2021-05-04</th>\n",
              "      <td>-0.584957</td>\n",
              "      <td>-1.125338</td>\n",
              "      <td>0.986041</td>\n",
              "    </tr>\n",
              "    <tr>\n",
              "      <th>2021-05-05</th>\n",
              "      <td>-0.629019</td>\n",
              "      <td>-1.232630</td>\n",
              "      <td>0.030060</td>\n",
              "    </tr>\n",
              "  </tbody>\n",
              "</table>\n",
              "</div>"
            ],
            "text/plain": [
              "                   A         B         D\n",
              "2021-04-30  0.062762 -1.646844  1.549732\n",
              "2021-05-01  1.538414  1.162280  1.793400\n",
              "2021-05-02 -0.290671 -1.063933  0.378228\n",
              "2021-05-03 -1.314675 -1.228112  0.973895\n",
              "2021-05-04 -0.584957 -1.125338  0.986041\n",
              "2021-05-05 -0.629019 -1.232630  0.030060"
            ]
          },
          "metadata": {
            "tags": []
          },
          "execution_count": 52
        }
      ]
    },
    {
      "cell_type": "code",
      "metadata": {
        "colab": {
          "base_uri": "https://localhost:8080/",
          "height": 235
        },
        "id": "u-XR8Tq0rS-j",
        "outputId": "e8dd2f13-58bc-4d13-a73f-0632dda290b0"
      },
      "source": [
        "df"
      ],
      "execution_count": 53,
      "outputs": [
        {
          "output_type": "execute_result",
          "data": {
            "text/html": [
              "<div>\n",
              "<style scoped>\n",
              "    .dataframe tbody tr th:only-of-type {\n",
              "        vertical-align: middle;\n",
              "    }\n",
              "\n",
              "    .dataframe tbody tr th {\n",
              "        vertical-align: top;\n",
              "    }\n",
              "\n",
              "    .dataframe thead th {\n",
              "        text-align: right;\n",
              "    }\n",
              "</style>\n",
              "<table border=\"1\" class=\"dataframe\">\n",
              "  <thead>\n",
              "    <tr style=\"text-align: right;\">\n",
              "      <th></th>\n",
              "      <th>A</th>\n",
              "      <th>B</th>\n",
              "      <th>C</th>\n",
              "      <th>D</th>\n",
              "    </tr>\n",
              "  </thead>\n",
              "  <tbody>\n",
              "    <tr>\n",
              "      <th>2021-04-30</th>\n",
              "      <td>0.062762</td>\n",
              "      <td>-1.646844</td>\n",
              "      <td>-0.372962</td>\n",
              "      <td>1.549732</td>\n",
              "    </tr>\n",
              "    <tr>\n",
              "      <th>2021-05-01</th>\n",
              "      <td>1.538414</td>\n",
              "      <td>1.162280</td>\n",
              "      <td>-1.114996</td>\n",
              "      <td>1.793400</td>\n",
              "    </tr>\n",
              "    <tr>\n",
              "      <th>2021-05-02</th>\n",
              "      <td>-0.290671</td>\n",
              "      <td>-1.063933</td>\n",
              "      <td>0.298983</td>\n",
              "      <td>0.378228</td>\n",
              "    </tr>\n",
              "    <tr>\n",
              "      <th>2021-05-03</th>\n",
              "      <td>-1.314675</td>\n",
              "      <td>-1.228112</td>\n",
              "      <td>-1.881465</td>\n",
              "      <td>0.973895</td>\n",
              "    </tr>\n",
              "    <tr>\n",
              "      <th>2021-05-04</th>\n",
              "      <td>-0.584957</td>\n",
              "      <td>-1.125338</td>\n",
              "      <td>-0.682209</td>\n",
              "      <td>0.986041</td>\n",
              "    </tr>\n",
              "    <tr>\n",
              "      <th>2021-05-05</th>\n",
              "      <td>-0.629019</td>\n",
              "      <td>-1.232630</td>\n",
              "      <td>0.586917</td>\n",
              "      <td>0.030060</td>\n",
              "    </tr>\n",
              "  </tbody>\n",
              "</table>\n",
              "</div>"
            ],
            "text/plain": [
              "                   A         B         C         D\n",
              "2021-04-30  0.062762 -1.646844 -0.372962  1.549732\n",
              "2021-05-01  1.538414  1.162280 -1.114996  1.793400\n",
              "2021-05-02 -0.290671 -1.063933  0.298983  0.378228\n",
              "2021-05-03 -1.314675 -1.228112 -1.881465  0.973895\n",
              "2021-05-04 -0.584957 -1.125338 -0.682209  0.986041\n",
              "2021-05-05 -0.629019 -1.232630  0.586917  0.030060"
            ]
          },
          "metadata": {
            "tags": []
          },
          "execution_count": 53
        }
      ]
    },
    {
      "cell_type": "code",
      "metadata": {
        "colab": {
          "base_uri": "https://localhost:8080/",
          "height": 80
        },
        "id": "JB6GbEkNrvKC",
        "outputId": "c30086fc-d43f-4b9a-f1a9-977c5832b348"
      },
      "source": [
        "df[0:1]"
      ],
      "execution_count": 54,
      "outputs": [
        {
          "output_type": "execute_result",
          "data": {
            "text/html": [
              "<div>\n",
              "<style scoped>\n",
              "    .dataframe tbody tr th:only-of-type {\n",
              "        vertical-align: middle;\n",
              "    }\n",
              "\n",
              "    .dataframe tbody tr th {\n",
              "        vertical-align: top;\n",
              "    }\n",
              "\n",
              "    .dataframe thead th {\n",
              "        text-align: right;\n",
              "    }\n",
              "</style>\n",
              "<table border=\"1\" class=\"dataframe\">\n",
              "  <thead>\n",
              "    <tr style=\"text-align: right;\">\n",
              "      <th></th>\n",
              "      <th>A</th>\n",
              "      <th>B</th>\n",
              "      <th>C</th>\n",
              "      <th>D</th>\n",
              "    </tr>\n",
              "  </thead>\n",
              "  <tbody>\n",
              "    <tr>\n",
              "      <th>2021-04-30</th>\n",
              "      <td>0.062762</td>\n",
              "      <td>-1.646844</td>\n",
              "      <td>-0.372962</td>\n",
              "      <td>1.549732</td>\n",
              "    </tr>\n",
              "  </tbody>\n",
              "</table>\n",
              "</div>"
            ],
            "text/plain": [
              "                   A         B         C         D\n",
              "2021-04-30  0.062762 -1.646844 -0.372962  1.549732"
            ]
          },
          "metadata": {
            "tags": []
          },
          "execution_count": 54
        }
      ]
    },
    {
      "cell_type": "code",
      "metadata": {
        "colab": {
          "base_uri": "https://localhost:8080/",
          "height": 111
        },
        "id": "pygqR19qrxPq",
        "outputId": "7165d906-b7ad-4fd2-ef4c-907f3a4b78f8"
      },
      "source": [
        "df['20210430' : '20210501']"
      ],
      "execution_count": 55,
      "outputs": [
        {
          "output_type": "execute_result",
          "data": {
            "text/html": [
              "<div>\n",
              "<style scoped>\n",
              "    .dataframe tbody tr th:only-of-type {\n",
              "        vertical-align: middle;\n",
              "    }\n",
              "\n",
              "    .dataframe tbody tr th {\n",
              "        vertical-align: top;\n",
              "    }\n",
              "\n",
              "    .dataframe thead th {\n",
              "        text-align: right;\n",
              "    }\n",
              "</style>\n",
              "<table border=\"1\" class=\"dataframe\">\n",
              "  <thead>\n",
              "    <tr style=\"text-align: right;\">\n",
              "      <th></th>\n",
              "      <th>A</th>\n",
              "      <th>B</th>\n",
              "      <th>C</th>\n",
              "      <th>D</th>\n",
              "    </tr>\n",
              "  </thead>\n",
              "  <tbody>\n",
              "    <tr>\n",
              "      <th>2021-04-30</th>\n",
              "      <td>0.062762</td>\n",
              "      <td>-1.646844</td>\n",
              "      <td>-0.372962</td>\n",
              "      <td>1.549732</td>\n",
              "    </tr>\n",
              "    <tr>\n",
              "      <th>2021-05-01</th>\n",
              "      <td>1.538414</td>\n",
              "      <td>1.162280</td>\n",
              "      <td>-1.114996</td>\n",
              "      <td>1.793400</td>\n",
              "    </tr>\n",
              "  </tbody>\n",
              "</table>\n",
              "</div>"
            ],
            "text/plain": [
              "                   A         B         C         D\n",
              "2021-04-30  0.062762 -1.646844 -0.372962  1.549732\n",
              "2021-05-01  1.538414  1.162280 -1.114996  1.793400"
            ]
          },
          "metadata": {
            "tags": []
          },
          "execution_count": 55
        }
      ]
    },
    {
      "cell_type": "code",
      "metadata": {
        "colab": {
          "base_uri": "https://localhost:8080/",
          "height": 235
        },
        "id": "P6swGcjRsEzz",
        "outputId": "0a830c3a-b291-4f39-eaee-202c390ce808"
      },
      "source": [
        "df"
      ],
      "execution_count": 57,
      "outputs": [
        {
          "output_type": "execute_result",
          "data": {
            "text/html": [
              "<div>\n",
              "<style scoped>\n",
              "    .dataframe tbody tr th:only-of-type {\n",
              "        vertical-align: middle;\n",
              "    }\n",
              "\n",
              "    .dataframe tbody tr th {\n",
              "        vertical-align: top;\n",
              "    }\n",
              "\n",
              "    .dataframe thead th {\n",
              "        text-align: right;\n",
              "    }\n",
              "</style>\n",
              "<table border=\"1\" class=\"dataframe\">\n",
              "  <thead>\n",
              "    <tr style=\"text-align: right;\">\n",
              "      <th></th>\n",
              "      <th>A</th>\n",
              "      <th>B</th>\n",
              "      <th>C</th>\n",
              "      <th>D</th>\n",
              "    </tr>\n",
              "  </thead>\n",
              "  <tbody>\n",
              "    <tr>\n",
              "      <th>2021-04-30</th>\n",
              "      <td>0.062762</td>\n",
              "      <td>-1.646844</td>\n",
              "      <td>-0.372962</td>\n",
              "      <td>1.549732</td>\n",
              "    </tr>\n",
              "    <tr>\n",
              "      <th>2021-05-01</th>\n",
              "      <td>1.538414</td>\n",
              "      <td>1.162280</td>\n",
              "      <td>-1.114996</td>\n",
              "      <td>1.793400</td>\n",
              "    </tr>\n",
              "    <tr>\n",
              "      <th>2021-05-02</th>\n",
              "      <td>-0.290671</td>\n",
              "      <td>-1.063933</td>\n",
              "      <td>0.298983</td>\n",
              "      <td>0.378228</td>\n",
              "    </tr>\n",
              "    <tr>\n",
              "      <th>2021-05-03</th>\n",
              "      <td>-1.314675</td>\n",
              "      <td>-1.228112</td>\n",
              "      <td>-1.881465</td>\n",
              "      <td>0.973895</td>\n",
              "    </tr>\n",
              "    <tr>\n",
              "      <th>2021-05-04</th>\n",
              "      <td>-0.584957</td>\n",
              "      <td>-1.125338</td>\n",
              "      <td>-0.682209</td>\n",
              "      <td>0.986041</td>\n",
              "    </tr>\n",
              "    <tr>\n",
              "      <th>2021-05-05</th>\n",
              "      <td>-0.629019</td>\n",
              "      <td>-1.232630</td>\n",
              "      <td>0.586917</td>\n",
              "      <td>0.030060</td>\n",
              "    </tr>\n",
              "  </tbody>\n",
              "</table>\n",
              "</div>"
            ],
            "text/plain": [
              "                   A         B         C         D\n",
              "2021-04-30  0.062762 -1.646844 -0.372962  1.549732\n",
              "2021-05-01  1.538414  1.162280 -1.114996  1.793400\n",
              "2021-05-02 -0.290671 -1.063933  0.298983  0.378228\n",
              "2021-05-03 -1.314675 -1.228112 -1.881465  0.973895\n",
              "2021-05-04 -0.584957 -1.125338 -0.682209  0.986041\n",
              "2021-05-05 -0.629019 -1.232630  0.586917  0.030060"
            ]
          },
          "metadata": {
            "tags": []
          },
          "execution_count": 57
        }
      ]
    },
    {
      "cell_type": "code",
      "metadata": {
        "colab": {
          "base_uri": "https://localhost:8080/"
        },
        "id": "MGzjD8KesfdC",
        "outputId": "5b06310c-1b25-410f-e61c-3d4151130c51"
      },
      "source": [
        "df.loc[dates[0]]"
      ],
      "execution_count": 58,
      "outputs": [
        {
          "output_type": "execute_result",
          "data": {
            "text/plain": [
              "A    0.062762\n",
              "B   -1.646844\n",
              "C   -0.372962\n",
              "D    1.549732\n",
              "Name: 2021-04-30 00:00:00, dtype: float64"
            ]
          },
          "metadata": {
            "tags": []
          },
          "execution_count": 58
        }
      ]
    },
    {
      "cell_type": "code",
      "metadata": {
        "colab": {
          "base_uri": "https://localhost:8080/"
        },
        "id": "wHutHrrmslJK",
        "outputId": "1f9203fa-975d-4ece-e369-f8419b2679d3"
      },
      "source": [
        "df.loc['20210430', 'A']"
      ],
      "execution_count": 61,
      "outputs": [
        {
          "output_type": "execute_result",
          "data": {
            "text/plain": [
              "0.0627623698381998"
            ]
          },
          "metadata": {
            "tags": []
          },
          "execution_count": 61
        }
      ]
    },
    {
      "cell_type": "code",
      "metadata": {
        "colab": {
          "base_uri": "https://localhost:8080/"
        },
        "id": "JEAD912Us3i0",
        "outputId": "279b1b11-b144-4444-b642-941268fca094"
      },
      "source": [
        "df.loc['20210430']"
      ],
      "execution_count": 62,
      "outputs": [
        {
          "output_type": "execute_result",
          "data": {
            "text/plain": [
              "A    0.062762\n",
              "B   -1.646844\n",
              "C   -0.372962\n",
              "D    1.549732\n",
              "Name: 2021-04-30 00:00:00, dtype: float64"
            ]
          },
          "metadata": {
            "tags": []
          },
          "execution_count": 62
        }
      ]
    },
    {
      "cell_type": "code",
      "metadata": {
        "colab": {
          "base_uri": "https://localhost:8080/"
        },
        "id": "F37cBhgPs-WO",
        "outputId": "87d68d8e-f45a-4c81-9abc-ed009b9be104"
      },
      "source": [
        "df['A']"
      ],
      "execution_count": 63,
      "outputs": [
        {
          "output_type": "execute_result",
          "data": {
            "text/plain": [
              "2021-04-30    0.062762\n",
              "2021-05-01    1.538414\n",
              "2021-05-02   -0.290671\n",
              "2021-05-03   -1.314675\n",
              "2021-05-04   -0.584957\n",
              "2021-05-05   -0.629019\n",
              "Freq: D, Name: A, dtype: float64"
            ]
          },
          "metadata": {
            "tags": []
          },
          "execution_count": 63
        }
      ]
    },
    {
      "cell_type": "code",
      "metadata": {
        "colab": {
          "base_uri": "https://localhost:8080/"
        },
        "id": "K6G75uBvtAvw",
        "outputId": "9925a517-3cea-4522-e790-e839886bcb7b"
      },
      "source": [
        "df.loc[:,'A']"
      ],
      "execution_count": 64,
      "outputs": [
        {
          "output_type": "execute_result",
          "data": {
            "text/plain": [
              "2021-04-30    0.062762\n",
              "2021-05-01    1.538414\n",
              "2021-05-02   -0.290671\n",
              "2021-05-03   -1.314675\n",
              "2021-05-04   -0.584957\n",
              "2021-05-05   -0.629019\n",
              "Freq: D, Name: A, dtype: float64"
            ]
          },
          "metadata": {
            "tags": []
          },
          "execution_count": 64
        }
      ]
    },
    {
      "cell_type": "code",
      "metadata": {
        "colab": {
          "base_uri": "https://localhost:8080/",
          "height": 173
        },
        "id": "_zkO6THotdko",
        "outputId": "84f6446c-8756-4f72-8951-ae072d1cb84f"
      },
      "source": [
        "df.loc['20210430' : '20210503']"
      ],
      "execution_count": 65,
      "outputs": [
        {
          "output_type": "execute_result",
          "data": {
            "text/html": [
              "<div>\n",
              "<style scoped>\n",
              "    .dataframe tbody tr th:only-of-type {\n",
              "        vertical-align: middle;\n",
              "    }\n",
              "\n",
              "    .dataframe tbody tr th {\n",
              "        vertical-align: top;\n",
              "    }\n",
              "\n",
              "    .dataframe thead th {\n",
              "        text-align: right;\n",
              "    }\n",
              "</style>\n",
              "<table border=\"1\" class=\"dataframe\">\n",
              "  <thead>\n",
              "    <tr style=\"text-align: right;\">\n",
              "      <th></th>\n",
              "      <th>A</th>\n",
              "      <th>B</th>\n",
              "      <th>C</th>\n",
              "      <th>D</th>\n",
              "    </tr>\n",
              "  </thead>\n",
              "  <tbody>\n",
              "    <tr>\n",
              "      <th>2021-04-30</th>\n",
              "      <td>0.062762</td>\n",
              "      <td>-1.646844</td>\n",
              "      <td>-0.372962</td>\n",
              "      <td>1.549732</td>\n",
              "    </tr>\n",
              "    <tr>\n",
              "      <th>2021-05-01</th>\n",
              "      <td>1.538414</td>\n",
              "      <td>1.162280</td>\n",
              "      <td>-1.114996</td>\n",
              "      <td>1.793400</td>\n",
              "    </tr>\n",
              "    <tr>\n",
              "      <th>2021-05-02</th>\n",
              "      <td>-0.290671</td>\n",
              "      <td>-1.063933</td>\n",
              "      <td>0.298983</td>\n",
              "      <td>0.378228</td>\n",
              "    </tr>\n",
              "    <tr>\n",
              "      <th>2021-05-03</th>\n",
              "      <td>-1.314675</td>\n",
              "      <td>-1.228112</td>\n",
              "      <td>-1.881465</td>\n",
              "      <td>0.973895</td>\n",
              "    </tr>\n",
              "  </tbody>\n",
              "</table>\n",
              "</div>"
            ],
            "text/plain": [
              "                   A         B         C         D\n",
              "2021-04-30  0.062762 -1.646844 -0.372962  1.549732\n",
              "2021-05-01  1.538414  1.162280 -1.114996  1.793400\n",
              "2021-05-02 -0.290671 -1.063933  0.298983  0.378228\n",
              "2021-05-03 -1.314675 -1.228112 -1.881465  0.973895"
            ]
          },
          "metadata": {
            "tags": []
          },
          "execution_count": 65
        }
      ]
    },
    {
      "cell_type": "code",
      "metadata": {
        "colab": {
          "base_uri": "https://localhost:8080/",
          "height": 173
        },
        "id": "clIDsXUFtvur",
        "outputId": "1c3b5290-21fb-4014-c9b6-ec1d590dba65"
      },
      "source": [
        "df.loc['20210430' : '20210503', ['A','B', 'C']]"
      ],
      "execution_count": 66,
      "outputs": [
        {
          "output_type": "execute_result",
          "data": {
            "text/html": [
              "<div>\n",
              "<style scoped>\n",
              "    .dataframe tbody tr th:only-of-type {\n",
              "        vertical-align: middle;\n",
              "    }\n",
              "\n",
              "    .dataframe tbody tr th {\n",
              "        vertical-align: top;\n",
              "    }\n",
              "\n",
              "    .dataframe thead th {\n",
              "        text-align: right;\n",
              "    }\n",
              "</style>\n",
              "<table border=\"1\" class=\"dataframe\">\n",
              "  <thead>\n",
              "    <tr style=\"text-align: right;\">\n",
              "      <th></th>\n",
              "      <th>A</th>\n",
              "      <th>B</th>\n",
              "      <th>C</th>\n",
              "    </tr>\n",
              "  </thead>\n",
              "  <tbody>\n",
              "    <tr>\n",
              "      <th>2021-04-30</th>\n",
              "      <td>0.062762</td>\n",
              "      <td>-1.646844</td>\n",
              "      <td>-0.372962</td>\n",
              "    </tr>\n",
              "    <tr>\n",
              "      <th>2021-05-01</th>\n",
              "      <td>1.538414</td>\n",
              "      <td>1.162280</td>\n",
              "      <td>-1.114996</td>\n",
              "    </tr>\n",
              "    <tr>\n",
              "      <th>2021-05-02</th>\n",
              "      <td>-0.290671</td>\n",
              "      <td>-1.063933</td>\n",
              "      <td>0.298983</td>\n",
              "    </tr>\n",
              "    <tr>\n",
              "      <th>2021-05-03</th>\n",
              "      <td>-1.314675</td>\n",
              "      <td>-1.228112</td>\n",
              "      <td>-1.881465</td>\n",
              "    </tr>\n",
              "  </tbody>\n",
              "</table>\n",
              "</div>"
            ],
            "text/plain": [
              "                   A         B         C\n",
              "2021-04-30  0.062762 -1.646844 -0.372962\n",
              "2021-05-01  1.538414  1.162280 -1.114996\n",
              "2021-05-02 -0.290671 -1.063933  0.298983\n",
              "2021-05-03 -1.314675 -1.228112 -1.881465"
            ]
          },
          "metadata": {
            "tags": []
          },
          "execution_count": 66
        }
      ]
    },
    {
      "cell_type": "code",
      "metadata": {
        "colab": {
          "base_uri": "https://localhost:8080/"
        },
        "id": "kV0skLwxt2T7",
        "outputId": "f65bb2c6-7ca4-44a1-dbf6-3e480eacbd12"
      },
      "source": [
        "df.iloc[3]"
      ],
      "execution_count": 67,
      "outputs": [
        {
          "output_type": "execute_result",
          "data": {
            "text/plain": [
              "A   -1.314675\n",
              "B   -1.228112\n",
              "C   -1.881465\n",
              "D    0.973895\n",
              "Name: 2021-05-03 00:00:00, dtype: float64"
            ]
          },
          "metadata": {
            "tags": []
          },
          "execution_count": 67
        }
      ]
    },
    {
      "cell_type": "code",
      "metadata": {
        "colab": {
          "base_uri": "https://localhost:8080/",
          "height": 322
        },
        "id": "ZMfbSijvuJT2",
        "outputId": "ba69e413-6a2b-4584-a6ac-73982769a25c"
      },
      "source": [
        "df.at[dates]"
      ],
      "execution_count": 68,
      "outputs": [
        {
          "output_type": "error",
          "ename": "ValueError",
          "evalue": "ignored",
          "traceback": [
            "\u001b[0;31m---------------------------------------------------------------------------\u001b[0m",
            "\u001b[0;31mValueError\u001b[0m                                Traceback (most recent call last)",
            "\u001b[0;32m<ipython-input-68-d7f5172c897f>\u001b[0m in \u001b[0;36m<module>\u001b[0;34m()\u001b[0m\n\u001b[0;32m----> 1\u001b[0;31m \u001b[0mdf\u001b[0m\u001b[0;34m.\u001b[0m\u001b[0mat\u001b[0m\u001b[0;34m[\u001b[0m\u001b[0mdates\u001b[0m\u001b[0;34m]\u001b[0m\u001b[0;34m\u001b[0m\u001b[0;34m\u001b[0m\u001b[0m\n\u001b[0m",
            "\u001b[0;32m/usr/local/lib/python3.7/dist-packages/pandas/core/indexing.py\u001b[0m in \u001b[0;36m__getitem__\u001b[0;34m(self, key)\u001b[0m\n\u001b[1;32m   2076\u001b[0m             \u001b[0;32mreturn\u001b[0m \u001b[0mself\u001b[0m\u001b[0;34m.\u001b[0m\u001b[0mobj\u001b[0m\u001b[0;34m.\u001b[0m\u001b[0mloc\u001b[0m\u001b[0;34m[\u001b[0m\u001b[0mkey\u001b[0m\u001b[0;34m]\u001b[0m\u001b[0;34m\u001b[0m\u001b[0;34m\u001b[0m\u001b[0m\n\u001b[1;32m   2077\u001b[0m \u001b[0;34m\u001b[0m\u001b[0m\n\u001b[0;32m-> 2078\u001b[0;31m         \u001b[0;32mreturn\u001b[0m \u001b[0msuper\u001b[0m\u001b[0;34m(\u001b[0m\u001b[0;34m)\u001b[0m\u001b[0;34m.\u001b[0m\u001b[0m__getitem__\u001b[0m\u001b[0;34m(\u001b[0m\u001b[0mkey\u001b[0m\u001b[0;34m)\u001b[0m\u001b[0;34m\u001b[0m\u001b[0;34m\u001b[0m\u001b[0m\n\u001b[0m\u001b[1;32m   2079\u001b[0m \u001b[0;34m\u001b[0m\u001b[0m\n\u001b[1;32m   2080\u001b[0m     \u001b[0;32mdef\u001b[0m \u001b[0m__setitem__\u001b[0m\u001b[0;34m(\u001b[0m\u001b[0mself\u001b[0m\u001b[0;34m,\u001b[0m \u001b[0mkey\u001b[0m\u001b[0;34m,\u001b[0m \u001b[0mvalue\u001b[0m\u001b[0;34m)\u001b[0m\u001b[0;34m:\u001b[0m\u001b[0;34m\u001b[0m\u001b[0;34m\u001b[0m\u001b[0m\n",
            "\u001b[0;32m/usr/local/lib/python3.7/dist-packages/pandas/core/indexing.py\u001b[0m in \u001b[0;36m__getitem__\u001b[0;34m(self, key)\u001b[0m\n\u001b[1;32m   2020\u001b[0m                 \u001b[0mkey\u001b[0m \u001b[0;34m=\u001b[0m \u001b[0mtuple\u001b[0m\u001b[0;34m(\u001b[0m\u001b[0;34m[\u001b[0m\u001b[0mkey\u001b[0m\u001b[0;34m]\u001b[0m\u001b[0;34m)\u001b[0m\u001b[0;34m\u001b[0m\u001b[0;34m\u001b[0m\u001b[0m\n\u001b[1;32m   2021\u001b[0m             \u001b[0;32melse\u001b[0m\u001b[0;34m:\u001b[0m\u001b[0;34m\u001b[0m\u001b[0;34m\u001b[0m\u001b[0m\n\u001b[0;32m-> 2022\u001b[0;31m                 \u001b[0;32mraise\u001b[0m \u001b[0mValueError\u001b[0m\u001b[0;34m(\u001b[0m\u001b[0;34m\"Invalid call for scalar access (getting)!\"\u001b[0m\u001b[0;34m)\u001b[0m\u001b[0;34m\u001b[0m\u001b[0;34m\u001b[0m\u001b[0m\n\u001b[0m\u001b[1;32m   2023\u001b[0m \u001b[0;34m\u001b[0m\u001b[0m\n\u001b[1;32m   2024\u001b[0m         \u001b[0mkey\u001b[0m \u001b[0;34m=\u001b[0m \u001b[0mself\u001b[0m\u001b[0;34m.\u001b[0m\u001b[0m_convert_key\u001b[0m\u001b[0;34m(\u001b[0m\u001b[0mkey\u001b[0m\u001b[0;34m)\u001b[0m\u001b[0;34m\u001b[0m\u001b[0;34m\u001b[0m\u001b[0m\n",
            "\u001b[0;31mValueError\u001b[0m: Invalid call for scalar access (getting)!"
          ]
        }
      ]
    },
    {
      "cell_type": "code",
      "metadata": {
        "colab": {
          "base_uri": "https://localhost:8080/",
          "height": 142
        },
        "id": "FYRLxqyJu9DQ",
        "outputId": "b8897518-d175-4609-c90b-15021912bb07"
      },
      "source": [
        " df.iloc[0:3,2:4]"
      ],
      "execution_count": 71,
      "outputs": [
        {
          "output_type": "execute_result",
          "data": {
            "text/html": [
              "<div>\n",
              "<style scoped>\n",
              "    .dataframe tbody tr th:only-of-type {\n",
              "        vertical-align: middle;\n",
              "    }\n",
              "\n",
              "    .dataframe tbody tr th {\n",
              "        vertical-align: top;\n",
              "    }\n",
              "\n",
              "    .dataframe thead th {\n",
              "        text-align: right;\n",
              "    }\n",
              "</style>\n",
              "<table border=\"1\" class=\"dataframe\">\n",
              "  <thead>\n",
              "    <tr style=\"text-align: right;\">\n",
              "      <th></th>\n",
              "      <th>C</th>\n",
              "      <th>D</th>\n",
              "    </tr>\n",
              "  </thead>\n",
              "  <tbody>\n",
              "    <tr>\n",
              "      <th>2021-04-30</th>\n",
              "      <td>-0.372962</td>\n",
              "      <td>1.549732</td>\n",
              "    </tr>\n",
              "    <tr>\n",
              "      <th>2021-05-01</th>\n",
              "      <td>-1.114996</td>\n",
              "      <td>1.793400</td>\n",
              "    </tr>\n",
              "    <tr>\n",
              "      <th>2021-05-02</th>\n",
              "      <td>0.298983</td>\n",
              "      <td>0.378228</td>\n",
              "    </tr>\n",
              "  </tbody>\n",
              "</table>\n",
              "</div>"
            ],
            "text/plain": [
              "                   C         D\n",
              "2021-04-30 -0.372962  1.549732\n",
              "2021-05-01 -1.114996  1.793400\n",
              "2021-05-02  0.298983  0.378228"
            ]
          },
          "metadata": {
            "tags": []
          },
          "execution_count": 71
        }
      ]
    },
    {
      "cell_type": "code",
      "metadata": {
        "colab": {
          "base_uri": "https://localhost:8080/"
        },
        "id": "Wl7N6-RuvCt1",
        "outputId": "ad4a70a2-2b4e-4715-eb4a-be7bfe5939cb"
      },
      "source": [
        "df.A"
      ],
      "execution_count": 72,
      "outputs": [
        {
          "output_type": "execute_result",
          "data": {
            "text/plain": [
              "2021-04-30    0.062762\n",
              "2021-05-01    1.538414\n",
              "2021-05-02   -0.290671\n",
              "2021-05-03   -1.314675\n",
              "2021-05-04   -0.584957\n",
              "2021-05-05   -0.629019\n",
              "Freq: D, Name: A, dtype: float64"
            ]
          },
          "metadata": {
            "tags": []
          },
          "execution_count": 72
        }
      ]
    },
    {
      "cell_type": "code",
      "metadata": {
        "colab": {
          "base_uri": "https://localhost:8080/"
        },
        "id": "A6cw-QbJvsdb",
        "outputId": "3ad8e31e-1e74-4408-aeea-d1fff77975ba"
      },
      "source": [
        "df.A>0"
      ],
      "execution_count": 73,
      "outputs": [
        {
          "output_type": "execute_result",
          "data": {
            "text/plain": [
              "2021-04-30     True\n",
              "2021-05-01     True\n",
              "2021-05-02    False\n",
              "2021-05-03    False\n",
              "2021-05-04    False\n",
              "2021-05-05    False\n",
              "Freq: D, Name: A, dtype: bool"
            ]
          },
          "metadata": {
            "tags": []
          },
          "execution_count": 73
        }
      ]
    },
    {
      "cell_type": "code",
      "metadata": {
        "colab": {
          "base_uri": "https://localhost:8080/",
          "height": 49
        },
        "id": "Anl-ia1_vuYu",
        "outputId": "89d9d29b-1a75-4610-fe17-b19af5c0dc76"
      },
      "source": [
        "df[ df.A> 0 ]"
      ],
      "execution_count": 78,
      "outputs": [
        {
          "output_type": "execute_result",
          "data": {
            "text/html": [
              "<div>\n",
              "<style scoped>\n",
              "    .dataframe tbody tr th:only-of-type {\n",
              "        vertical-align: middle;\n",
              "    }\n",
              "\n",
              "    .dataframe tbody tr th {\n",
              "        vertical-align: top;\n",
              "    }\n",
              "\n",
              "    .dataframe thead th {\n",
              "        text-align: right;\n",
              "    }\n",
              "</style>\n",
              "<table border=\"1\" class=\"dataframe\">\n",
              "  <thead>\n",
              "    <tr style=\"text-align: right;\">\n",
              "      <th></th>\n",
              "      <th>A</th>\n",
              "      <th>B</th>\n",
              "      <th>C</th>\n",
              "      <th>D</th>\n",
              "    </tr>\n",
              "  </thead>\n",
              "  <tbody>\n",
              "  </tbody>\n",
              "</table>\n",
              "</div>"
            ],
            "text/plain": [
              "Empty DataFrame\n",
              "Columns: [A, B, C, D]\n",
              "Index: []"
            ]
          },
          "metadata": {
            "tags": []
          },
          "execution_count": 78
        }
      ]
    },
    {
      "cell_type": "code",
      "metadata": {
        "colab": {
          "base_uri": "https://localhost:8080/",
          "height": 235
        },
        "id": "F0ZdHBcbvyS2",
        "outputId": "09feda5b-0437-48c2-a71b-c9b1c811dc79"
      },
      "source": [
        "df [df > 0]"
      ],
      "execution_count": 79,
      "outputs": [
        {
          "output_type": "execute_result",
          "data": {
            "text/html": [
              "<div>\n",
              "<style scoped>\n",
              "    .dataframe tbody tr th:only-of-type {\n",
              "        vertical-align: middle;\n",
              "    }\n",
              "\n",
              "    .dataframe tbody tr th {\n",
              "        vertical-align: top;\n",
              "    }\n",
              "\n",
              "    .dataframe thead th {\n",
              "        text-align: right;\n",
              "    }\n",
              "</style>\n",
              "<table border=\"1\" class=\"dataframe\">\n",
              "  <thead>\n",
              "    <tr style=\"text-align: right;\">\n",
              "      <th></th>\n",
              "      <th>A</th>\n",
              "      <th>B</th>\n",
              "      <th>C</th>\n",
              "      <th>D</th>\n",
              "    </tr>\n",
              "  </thead>\n",
              "  <tbody>\n",
              "    <tr>\n",
              "      <th>2021-04-30</th>\n",
              "      <td>NaN</td>\n",
              "      <td>NaN</td>\n",
              "      <td>NaN</td>\n",
              "      <td>1.549732</td>\n",
              "    </tr>\n",
              "    <tr>\n",
              "      <th>2021-05-01</th>\n",
              "      <td>NaN</td>\n",
              "      <td>1.16228</td>\n",
              "      <td>NaN</td>\n",
              "      <td>1.793400</td>\n",
              "    </tr>\n",
              "    <tr>\n",
              "      <th>2021-05-02</th>\n",
              "      <td>NaN</td>\n",
              "      <td>NaN</td>\n",
              "      <td>0.298983</td>\n",
              "      <td>0.378228</td>\n",
              "    </tr>\n",
              "    <tr>\n",
              "      <th>2021-05-03</th>\n",
              "      <td>NaN</td>\n",
              "      <td>NaN</td>\n",
              "      <td>NaN</td>\n",
              "      <td>0.973895</td>\n",
              "    </tr>\n",
              "    <tr>\n",
              "      <th>2021-05-04</th>\n",
              "      <td>NaN</td>\n",
              "      <td>NaN</td>\n",
              "      <td>NaN</td>\n",
              "      <td>0.986041</td>\n",
              "    </tr>\n",
              "    <tr>\n",
              "      <th>2021-05-05</th>\n",
              "      <td>NaN</td>\n",
              "      <td>NaN</td>\n",
              "      <td>0.586917</td>\n",
              "      <td>0.030060</td>\n",
              "    </tr>\n",
              "  </tbody>\n",
              "</table>\n",
              "</div>"
            ],
            "text/plain": [
              "             A        B         C         D\n",
              "2021-04-30 NaN      NaN       NaN  1.549732\n",
              "2021-05-01 NaN  1.16228       NaN  1.793400\n",
              "2021-05-02 NaN      NaN  0.298983  0.378228\n",
              "2021-05-03 NaN      NaN       NaN  0.973895\n",
              "2021-05-04 NaN      NaN       NaN  0.986041\n",
              "2021-05-05 NaN      NaN  0.586917  0.030060"
            ]
          },
          "metadata": {
            "tags": []
          },
          "execution_count": 79
        }
      ]
    },
    {
      "cell_type": "code",
      "metadata": {
        "id": "7AET7-xdwSZO"
      },
      "source": [
        ""
      ],
      "execution_count": null,
      "outputs": []
    }
  ]
}