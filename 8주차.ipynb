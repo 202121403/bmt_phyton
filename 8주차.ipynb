{
  "nbformat": 4,
  "nbformat_minor": 0,
  "metadata": {
    "colab": {
      "name": "8주차.ipynb",
      "provenance": [],
      "collapsed_sections": [],
      "mount_file_id": "1OfBOmmKCaNsGYrSd39-nMIz6eK0NFttY",
      "authorship_tag": "ABX9TyP1jDUr2jHsW01pnqENPDvZ",
      "include_colab_link": true
    },
    "kernelspec": {
      "name": "python3",
      "display_name": "Python 3"
    },
    "language_info": {
      "name": "python"
    }
  },
  "cells": [
    {
      "cell_type": "markdown",
      "metadata": {
        "id": "view-in-github",
        "colab_type": "text"
      },
      "source": [
        "<a href=\"https://colab.research.google.com/github/202121403/bmt_phyton/blob/main/8%EC%A3%BC%EC%B0%A8.ipynb\" target=\"_parent\"><img src=\"https://colab.research.google.com/assets/colab-badge.svg\" alt=\"Open In Colab\"/></a>"
      ]
    },
    {
      "cell_type": "code",
      "metadata": {
        "id": "4MYN4J6bbKAi"
      },
      "source": [
        "def cal(num1, num2, op):\n",
        "  ans = 0\n",
        "\n",
        "  if op== '+' : ans = num1+ num2\n",
        "  elif op =='-':  ans = num1- num2\n",
        "  elif op =='*':  ans = num1* num2\n",
        "  elif op =='/':  ans = num1/ num2\n",
        "\n",
        "  print(f'{num1} {op} {num2} = {ans}')\n",
        "  return ans"
      ],
      "execution_count": 5,
      "outputs": []
    },
    {
      "cell_type": "code",
      "metadata": {
        "colab": {
          "base_uri": "https://localhost:8080/"
        },
        "id": "5VBZg9J9dYhs",
        "outputId": "46c096a6-5025-467f-b6e3-0de70e0eeea8"
      },
      "source": [
        "a = cal(1,2,'+')"
      ],
      "execution_count": 6,
      "outputs": [
        {
          "output_type": "stream",
          "text": [
            "1 + 2 = 3\n"
          ],
          "name": "stdout"
        }
      ]
    },
    {
      "cell_type": "markdown",
      "metadata": {
        "id": "YhQX00KKby3i"
      },
      "source": [
        "a"
      ]
    },
    {
      "cell_type": "code",
      "metadata": {
        "colab": {
          "base_uri": "https://localhost:8080/"
        },
        "id": "8SK0oQBReUXL",
        "outputId": "844689e8-1446-4ecd-df7a-3e3e274fe0c8"
      },
      "source": [
        "width = int(input('가로 입력 :'))\n",
        "height = int(input('세로 입력 : '))\n",
        "area = width * height \n",
        "\n",
        "if width==height : \n",
        "  print(f'정사각형의 넓이 : {area}')\n",
        "else : print(f'직사각형의 넓이 : {area}')   "
      ],
      "execution_count": 20,
      "outputs": [
        {
          "output_type": "stream",
          "text": [
            "가로 입력 :20\n",
            "세로 입력 : 20\n",
            "정사각형의 넓이 : 400\n"
          ],
          "name": "stdout"
        }
      ]
    },
    {
      "cell_type": "code",
      "metadata": {
        "id": "I34PYSJ2hd2z"
      },
      "source": [
        "from google.colab import drive\n",
        "drive.mount('/content/drive')"
      ],
      "execution_count": null,
      "outputs": []
    },
    {
      "cell_type": "code",
      "metadata": {
        "id": "4PoNSLplfuZc"
      },
      "source": [
        "path='/content/drive/My Drive/temp/'\n",
        "f = open(path+'test.txt','w')\n",
        "f. write('안녕하세요 전기과 친구들')\n",
        "f.close()"
      ],
      "execution_count": 7,
      "outputs": []
    },
    {
      "cell_type": "code",
      "metadata": {
        "colab": {
          "base_uri": "https://localhost:8080/",
          "height": 35
        },
        "id": "UC3hkCYgjAud",
        "outputId": "6ff9e616-89ff-4bd3-bab8-0345ceaf15ec"
      },
      "source": [
        "f = open('나의다짐.txt','r')\n",
        "data = f.readline()\n",
        "f.close()\n",
        "data "
      ],
      "execution_count": 5,
      "outputs": [
        {
          "output_type": "execute_result",
          "data": {
            "application/vnd.google.colaboratory.intrinsic+json": {
              "type": "string"
            },
            "text/plain": [
              "'전기과 21403 김백두\\n'"
            ]
          },
          "metadata": {
            "tags": []
          },
          "execution_count": 5
        }
      ]
    },
    {
      "cell_type": "code",
      "metadata": {
        "colab": {
          "base_uri": "https://localhost:8080/",
          "height": 53
        },
        "id": "4aX3IFbHmuY9",
        "outputId": "e3c52858-ad60-4224-92eb-82ea1ecdad4c"
      },
      "source": [
        "f = open('지억평균기온.txt', 'r') \n",
        "data = f.read()\n",
        "f.close()\n",
        "data\n"
      ],
      "execution_count": 11,
      "outputs": [
        {
          "output_type": "execute_result",
          "data": {
            "application/vnd.google.colaboratory.intrinsic+json": {
              "type": "string"
            },
            "text/plain": [
              "'서울,20\\n부산,26\\n대구,24\\n인천,24\\n광주,25\\n대전,22\\n울산,26\\n세종,23\\n경기,24\\n강원,23\\n충북,26\\n충남,22\\n전북,24\\n전남,23\\n경북,28\\n경남,29\\n제주,26'"
            ]
          },
          "metadata": {
            "tags": []
          },
          "execution_count": 11
        }
      ]
    },
    {
      "cell_type": "code",
      "metadata": {
        "colab": {
          "base_uri": "https://localhost:8080/"
        },
        "id": "DfP0aAnEni0M",
        "outputId": "f3630c63-7605-438c-e04b-9565d5f263f4"
      },
      "source": [
        "fp = open('지억평균기온.txt', 'r') \n",
        "data = fp.readlines()\n",
        "fp.close()\n",
        "print(data)\n",
        "\n"
      ],
      "execution_count": 14,
      "outputs": [
        {
          "output_type": "stream",
          "text": [
            "['서울,20\\n', '부산,26\\n', '대구,24\\n', '인천,24\\n', '광주,25\\n', '대전,22\\n', '울산,26\\n', '세종,23\\n', '경기,24\\n', '강원,23\\n', '충북,26\\n', '충남,22\\n', '전북,24\\n', '전남,23\\n', '경북,28\\n', '경남,29\\n', '제주,26']\n"
          ],
          "name": "stdout"
        }
      ]
    },
    {
      "cell_type": "code",
      "metadata": {
        "id": "A6aqS9Dhnue8"
      },
      "source": [
        "fp = open('지억평균기온.txt', 'r') \n",
        "data = fp.readlines()\n",
        "fp.close()\n",
        "\n",
        "dt = {}\n",
        "for  line in data:\n",
        "  line = line.replace('\\n','')\n",
        "  items = line.split(',')\n",
        "  dt[items[0]] = items[1]"
      ],
      "execution_count": 31,
      "outputs": []
    },
    {
      "cell_type": "code",
      "metadata": {
        "colab": {
          "base_uri": "https://localhost:8080/"
        },
        "id": "8K2vaIL8oaaN",
        "outputId": "9405532f-60b8-45dd-9392-181629601a0a"
      },
      "source": [
        "dt"
      ],
      "execution_count": 32,
      "outputs": [
        {
          "output_type": "execute_result",
          "data": {
            "text/plain": [
              "{'강원': '23',\n",
              " '경기': '24',\n",
              " '경남': '29',\n",
              " '경북': '28',\n",
              " '광주': '25',\n",
              " '대구': '24',\n",
              " '대전': '22',\n",
              " '부산': '26',\n",
              " '서울': '20',\n",
              " '세종': '23',\n",
              " '울산': '26',\n",
              " '인천': '24',\n",
              " '전남': '23',\n",
              " '전북': '24',\n",
              " '제주': '26',\n",
              " '충남': '22',\n",
              " '충북': '26'}"
            ]
          },
          "metadata": {
            "tags": []
          },
          "execution_count": 32
        }
      ]
    },
    {
      "cell_type": "markdown",
      "metadata": {
        "id": "nUvViJEKp7c1"
      },
      "source": [
        ""
      ]
    },
    {
      "cell_type": "code",
      "metadata": {
        "id": "hC9zmuuYo5xM"
      },
      "source": [
        "!sudo apt-get install -y fonts-nanum\n",
        "!sudo fc-cache -fv\n",
        "!rm ~/.cache/matplotlib -rf\n"
      ],
      "execution_count": null,
      "outputs": []
    },
    {
      "cell_type": "code",
      "metadata": {
        "colab": {
          "base_uri": "https://localhost:8080/",
          "height": 283
        },
        "id": "GvV4dGaIqJPc",
        "outputId": "bc07d7e4-1798-4f19-f0f1-f14b8f7ef825"
      },
      "source": [
        "fp = open('지억평균기온.txt', 'r')\n",
        "data = fp.readlines()\n",
        "fp.close()\n",
        "\n",
        "dt = {}\n",
        "for line in data : \n",
        "  line = line.replace('\\n', '')\n",
        "  items = line.split(',')\n",
        "  dt[items[0]] = int(items[1])\n",
        "\n",
        "print(dt)\n",
        "print()\n",
        "\n",
        "import matplotlib.pyplot as plt\n",
        "import warnings\n",
        "warnings.filterwarnings('ignore')\n",
        "plt.style.use('ggplot')\n",
        "plt.figure(figsize=(6, 3))\n",
        "\n",
        "\n",
        "plt.rc('font', family='NanumBarunGothic')\n",
        "\n",
        "area = list(dt.keys())\n",
        "temp = list(dt.values())\n",
        "plt.plot(area, temp, '--',c='red')\n",
        "plt.scatter(area, temp, c='blue')\n",
        "plt.title('지역평균기온')\n",
        "plt.xticks(rotation=0)\n",
        "\n",
        "\n",
        "plt.show()\n",
        "\n"
      ],
      "execution_count": 36,
      "outputs": [
        {
          "output_type": "stream",
          "text": [
            "{'서울': 20, '부산': 26, '대구': 24, '인천': 24, '광주': 25, '대전': 22, '울산': 26, '세종': 23, '경기': 24, '강원': 23, '충북': 26, '충남': 22, '전북': 24, '전남': 23, '경북': 28, '경남': 29, '제주': 26}\n",
            "\n"
          ],
          "name": "stdout"
        },
        {
          "output_type": "display_data",
          "data": {
            "image/png": "[encoded data removed]",
            "text/plain": [
              "<Figure size 432x216 with 1 Axes>"
            ]
          },
          "metadata": {
            "tags": []
          }
        }
      ]
    },
    {
      "cell_type": "code",
      "metadata": {
        "id": "EgS5_WKPqhkc"
      },
      "source": [
        ""
      ],
      "execution_count": 1,
      "outputs": []
    }
  ]
}