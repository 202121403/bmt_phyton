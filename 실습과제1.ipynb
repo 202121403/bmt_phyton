{
  "nbformat": 4,
  "nbformat_minor": 0,
  "metadata": {
    "colab": {
      "name": "실습과제1.ipynb",
      "provenance": [],
      "collapsed_sections": [],
      "authorship_tag": "ABX9TyOOJjDrbSuFU30n9Tf5Uv92",
      "include_colab_link": true
    },
    "kernelspec": {
      "name": "python3",
      "display_name": "Python 3"
    }
  },
  "cells": [
    {
      "cell_type": "markdown",
      "metadata": {
        "id": "view-in-github",
        "colab_type": "text"
      },
      "source": [
        "<a href=\"https://colab.research.google.com/github/202121403/bmt_phyton/blob/main/%EC%8B%A4%EC%8A%B5%EA%B3%BC%EC%A0%9C1.ipynb\" target=\"_parent\"><img src=\"https://colab.research.google.com/assets/colab-badge.svg\" alt=\"Open In Colab\"/></a>"
      ]
    },
    {
      "cell_type": "markdown",
      "metadata": {
        "id": "LgTDsyPfNx_w"
      },
      "source": [
        "# 기초 문법\n"
      ]
    },
    {
      "cell_type": "code",
      "metadata": {
        "id": "Jqj5LkiJNuFy"
      },
      "source": [
        "names=['정밀' , '폴리' , '산설' , '로봇' , '메카' , '전기']"
      ],
      "execution_count": null,
      "outputs": []
    },
    {
      "cell_type": "code",
      "metadata": {
        "colab": {
          "base_uri": "https://localhost:8080/"
        },
        "id": "WSSaFlT7Oxpq",
        "outputId": "e489a6f0-9759-496d-87e6-1411835f2198"
      },
      "source": [
        "names"
      ],
      "execution_count": null,
      "outputs": [
        {
          "output_type": "execute_result",
          "data": {
            "text/plain": [
              "['정밀', '폴리', '산설', '로봇', '메카', '전기']"
            ]
          },
          "metadata": {
            "tags": []
          },
          "execution_count": 18
        }
      ]
    },
    {
      "cell_type": "code",
      "metadata": {
        "colab": {
          "base_uri": "https://localhost:8080/",
          "height": 35
        },
        "id": "xk7LYXixOzUr",
        "outputId": "11315846-5477-4ef0-ea41-d6bd17e2b40c"
      },
      "source": [
        "names[-3]"
      ],
      "execution_count": null,
      "outputs": [
        {
          "output_type": "execute_result",
          "data": {
            "application/vnd.google.colaboratory.intrinsic+json": {
              "type": "string"
            },
            "text/plain": [
              "'로봇'"
            ]
          },
          "metadata": {
            "tags": []
          },
          "execution_count": 21
        }
      ]
    },
    {
      "cell_type": "code",
      "metadata": {
        "colab": {
          "base_uri": "https://localhost:8080/"
        },
        "id": "jmk6fnboP-Np",
        "outputId": "f94366c9-6cb9-49b8-ac52-97de5c893ee2"
      },
      "source": [
        "names"
      ],
      "execution_count": null,
      "outputs": [
        {
          "output_type": "execute_result",
          "data": {
            "text/plain": [
              "['정밀', '폴리', '산설', '로봇', '메카', '전기']"
            ]
          },
          "metadata": {
            "tags": []
          },
          "execution_count": 22
        }
      ]
    },
    {
      "cell_type": "code",
      "metadata": {
        "id": "-BMpcVg1QNOg"
      },
      "source": [
        "names.append('부산기계')"
      ],
      "execution_count": null,
      "outputs": []
    },
    {
      "cell_type": "code",
      "metadata": {
        "colab": {
          "base_uri": "https://localhost:8080/"
        },
        "id": "__eQDRSxQYXA",
        "outputId": "b1261305-35e2-4e56-e6d7-6d45d9f3e1b7"
      },
      "source": [
        "names"
      ],
      "execution_count": null,
      "outputs": [
        {
          "output_type": "execute_result",
          "data": {
            "text/plain": [
              "['정밀', '폴리', '산설', '로봇', '메카', '전기', '부산기계']"
            ]
          },
          "metadata": {
            "tags": []
          },
          "execution_count": 24
        }
      ]
    },
    {
      "cell_type": "code",
      "metadata": {
        "colab": {
          "base_uri": "https://localhost:8080/"
        },
        "id": "IZ4rbYRZQnj-",
        "outputId": "250ab06d-07c6-4f35-b4c9-88f18bcc17bd"
      },
      "source": [
        "for name in names:\n",
        "  if len(name)>2:\n",
        "   print(name, '공업고등학교','전기과','2학년','14반','홍길동')\n",
        "   print(name+ '공업고등학교'+'전기과'+'2학년'+'14반'+'홍길동')\n",
        "  else:\n",
        "    print(name,'전공')"
      ],
      "execution_count": null,
      "outputs": [
        {
          "output_type": "stream",
          "text": [
            "정밀 전공\n",
            "폴리 전공\n",
            "산설 전공\n",
            "로봇 전공\n",
            "메카 전공\n",
            "전기 전공\n",
            "부산기계 공업고등학교 전기과 2학년 14반 홍길동\n",
            "부산기계공업고등학교전기과2학년14반홍길동\n"
          ],
          "name": "stdout"
        }
      ]
    },
    {
      "cell_type": "markdown",
      "metadata": {
        "id": "7FS9Tq1CXgUL"
      },
      "source": [
        "#함수\n",
        "\n"
      ]
    },
    {
      "cell_type": "code",
      "metadata": {
        "colab": {
          "base_uri": "https://localhost:8080/"
        },
        "id": "JVtuucSOQ7_g",
        "outputId": "5722cf32-b712-4945-8cc6-8ce9bb8737dd"
      },
      "source": [
        "print(20**4)"
      ],
      "execution_count": null,
      "outputs": [
        {
          "output_type": "stream",
          "text": [
            "160000\n"
          ],
          "name": "stdout"
        }
      ]
    },
    {
      "cell_type": "code",
      "metadata": {
        "colab": {
          "base_uri": "https://localhost:8080/"
        },
        "id": "OEfCnLAiXZQL",
        "outputId": "7050eb20-9330-49f2-93f6-01b2a8862aef"
      },
      "source": [
        "print('안녕하세요 전기과 여러분')"
      ],
      "execution_count": null,
      "outputs": [
        {
          "output_type": "stream",
          "text": [
            "안녕하세요 전기과 여러분\n"
          ],
          "name": "stdout"
        }
      ]
    },
    {
      "cell_type": "code",
      "metadata": {
        "colab": {
          "base_uri": "https://localhost:8080/"
        },
        "id": "gY5PlZcUXmca",
        "outputId": "f4e823e0-66e1-40d5-85cd-1ec3ce41203c"
      },
      "source": [
        "school='부산기계공고'\n",
        "print(school)"
      ],
      "execution_count": null,
      "outputs": [
        {
          "output_type": "stream",
          "text": [
            "부산기계공고\n"
          ],
          "name": "stdout"
        }
      ]
    },
    {
      "cell_type": "code",
      "metadata": {
        "colab": {
          "base_uri": "https://localhost:8080/"
        },
        "id": "trHpDaaXXmlG",
        "outputId": "50df9a7e-25f5-43fe-89ca-b24cb2129d51"
      },
      "source": [
        "print('부산기계공고')"
      ],
      "execution_count": null,
      "outputs": [
        {
          "output_type": "stream",
          "text": [
            "부산기계공고\n"
          ],
          "name": "stdout"
        }
      ]
    },
    {
      "cell_type": "code",
      "metadata": {
        "colab": {
          "base_uri": "https://localhost:8080/"
        },
        "id": "LkVqaU3vX6pg",
        "outputId": "7cdff67e-15cd-4c70-ee14-720576593e0a"
      },
      "source": [
        "a=1024\n",
        "print(a)"
      ],
      "execution_count": null,
      "outputs": [
        {
          "output_type": "stream",
          "text": [
            "1024\n"
          ],
          "name": "stdout"
        }
      ]
    },
    {
      "cell_type": "code",
      "metadata": {
        "colab": {
          "base_uri": "https://localhost:8080/"
        },
        "id": "mq-sn2TkX6r_",
        "outputId": "5e2fd19b-7080-49c5-da24-05a85bb71010"
      },
      "source": [
        "name='전기과'\n",
        "print(name,'화이팅')"
      ],
      "execution_count": null,
      "outputs": [
        {
          "output_type": "stream",
          "text": [
            "전기과 화이팅\n"
          ],
          "name": "stdout"
        }
      ]
    },
    {
      "cell_type": "code",
      "metadata": {
        "colab": {
          "base_uri": "https://localhost:8080/"
        },
        "id": "XJAwWN7jYNeL",
        "outputId": "a5103e7f-dfa7-4ee8-c605-48f66f5f41f8"
      },
      "source": [
        "print(f'{school} {name} 화이팅')"
      ],
      "execution_count": null,
      "outputs": [
        {
          "output_type": "stream",
          "text": [
            "부산기계공고 전기과 화이팅\n"
          ],
          "name": "stdout"
        }
      ]
    },
    {
      "cell_type": "code",
      "metadata": {
        "colab": {
          "base_uri": "https://localhost:8080/"
        },
        "id": "onWf3ZNCYNgr",
        "outputId": "21d944b1-41c1-4667-a3c1-ab320682c687"
      },
      "source": [
        "name=input()"
      ],
      "execution_count": null,
      "outputs": [
        {
          "output_type": "stream",
          "text": [
            "홍길동\n"
          ],
          "name": "stdout"
        }
      ]
    },
    {
      "cell_type": "code",
      "metadata": {
        "colab": {
          "base_uri": "https://localhost:8080/"
        },
        "id": "DGzd7376X61e",
        "outputId": "9732841f-0b61-49cb-f8c5-622f825c0522"
      },
      "source": [
        "print(name)"
      ],
      "execution_count": null,
      "outputs": [
        {
          "output_type": "stream",
          "text": [
            "홍길동\n"
          ],
          "name": "stdout"
        }
      ]
    },
    {
      "cell_type": "code",
      "metadata": {
        "colab": {
          "base_uri": "https://localhost:8080/"
        },
        "id": "Y3dcvFNRZA22",
        "outputId": "7d1c1fd9-79f6-4908-d1b3-5e8e37559c14"
      },
      "source": [
        "print(f'{name}님 반가워요')"
      ],
      "execution_count": null,
      "outputs": [
        {
          "output_type": "stream",
          "text": [
            "홍길동님 반가워요\n"
          ],
          "name": "stdout"
        }
      ]
    },
    {
      "cell_type": "code",
      "metadata": {
        "colab": {
          "base_uri": "https://localhost:8080/"
        },
        "id": "AKRDls4IZBaK",
        "outputId": "f96a74c7-1211-4d3c-efdf-b5128b002b9b"
      },
      "source": [
        "age = int(input('나이 입력 :'))\n",
        "print(age-1)"
      ],
      "execution_count": null,
      "outputs": [
        {
          "output_type": "stream",
          "text": [
            "나이 입력 :18\n",
            "17\n"
          ],
          "name": "stdout"
        }
      ]
    },
    {
      "cell_type": "code",
      "metadata": {
        "colab": {
          "base_uri": "https://localhost:8080/",
          "height": 136
        },
        "id": "hPUa7x6MaHgg",
        "outputId": "b0dc02e3-1564-4b08-c449-965b3300b81e"
      },
      "source": [
        "key ='pass'\n",
        "pwd=input('비밀키를 입력 :')\n",
        "\n",
        "if  key==pwd\n",
        "  print('암호가 해제되었습니다.')\n",
        "else :\n",
        "  print('다시 입력 해주세요.')"
      ],
      "execution_count": null,
      "outputs": [
        {
          "output_type": "error",
          "ename": "SyntaxError",
          "evalue": "ignored",
          "traceback": [
            "\u001b[0;36m  File \u001b[0;32m\"<ipython-input-89-ea424738837b>\"\u001b[0;36m, line \u001b[0;32m4\u001b[0m\n\u001b[0;31m    if  key==pwd\u001b[0m\n\u001b[0m                ^\u001b[0m\n\u001b[0;31mSyntaxError\u001b[0m\u001b[0;31m:\u001b[0m invalid syntax\n"
          ]
        }
      ]
    },
    {
      "cell_type": "code",
      "metadata": {
        "colab": {
          "base_uri": "https://localhost:8080/"
        },
        "id": "-G8hZwfoaHju",
        "outputId": "62959f73-7162-4875-b072-79584c81d110"
      },
      "source": [
        "age  = input('나이 입력:')\n",
        "age = int(age)\n",
        "print(age-1)"
      ],
      "execution_count": null,
      "outputs": [
        {
          "output_type": "stream",
          "text": [
            "나이 입력:18\n",
            "17\n"
          ],
          "name": "stdout"
        }
      ]
    },
    {
      "cell_type": "code",
      "metadata": {
        "colab": {
          "base_uri": "https://localhost:8080/"
        },
        "id": "iaIdqSCzaHnk",
        "outputId": "12915671-590f-4bc7-e84f-2daa8d87e5b5"
      },
      "source": [
        "name = input('이름입력 :')\n",
        "age=int(input('나이입력:'))\n",
        "print(f'안녕하세요 {name}님 당신의 만 나이는 {age-1}입니다')"
      ],
      "execution_count": null,
      "outputs": [
        {
          "output_type": "stream",
          "text": [
            "이름입력 :김백두\n",
            "나이입력:18\n",
            "안녕하세요 김백두님 당신의 만 나이는 17입니다\n"
          ],
          "name": "stdout"
        }
      ]
    },
    {
      "cell_type": "code",
      "metadata": {
        "colab": {
          "base_uri": "https://localhost:8080/"
        },
        "id": "N797PKkdaHxO",
        "outputId": "2bfe02a8-bbac-4134-bf3e-d5ede443f780"
      },
      "source": [
        "print(10*2)"
      ],
      "execution_count": null,
      "outputs": [
        {
          "output_type": "stream",
          "text": [
            "20\n"
          ],
          "name": "stdout"
        }
      ]
    },
    {
      "cell_type": "code",
      "metadata": {
        "colab": {
          "base_uri": "https://localhost:8080/"
        },
        "id": "RPDPVLL0cb4u",
        "outputId": "6fe49c3d-6af9-4e52-9dd0-64f654e0c8a3"
      },
      "source": [
        "10%2"
      ],
      "execution_count": null,
      "outputs": [
        {
          "output_type": "execute_result",
          "data": {
            "text/plain": [
              "0"
            ]
          },
          "metadata": {
            "tags": []
          },
          "execution_count": 86
        }
      ]
    },
    {
      "cell_type": "code",
      "metadata": {
        "colab": {
          "base_uri": "https://localhost:8080/"
        },
        "id": "ZoC46PxIcb7D",
        "outputId": "ecd9da6d-3b81-4c78-eb42-3df664cf0a94"
      },
      "source": [
        "10//3\n"
      ],
      "execution_count": null,
      "outputs": [
        {
          "output_type": "execute_result",
          "data": {
            "text/plain": [
              "3"
            ]
          },
          "metadata": {
            "tags": []
          },
          "execution_count": 91
        }
      ]
    },
    {
      "cell_type": "code",
      "metadata": {
        "colab": {
          "base_uri": "https://localhost:8080/"
        },
        "id": "wguuX-8ycb8_",
        "outputId": "1583641c-1ca5-42f4-e833-3a61ec8a893f"
      },
      "source": [
        "10/3"
      ],
      "execution_count": null,
      "outputs": [
        {
          "output_type": "execute_result",
          "data": {
            "text/plain": [
              "3.3333333333333335"
            ]
          },
          "metadata": {
            "tags": []
          },
          "execution_count": 93
        }
      ]
    },
    {
      "cell_type": "code",
      "metadata": {
        "colab": {
          "base_uri": "https://localhost:8080/"
        },
        "id": "cBqHlb2sdFH8",
        "outputId": "d0caece2-d749-4a7a-a76b-a9cf327fd20e"
      },
      "source": [
        "10>=2"
      ],
      "execution_count": null,
      "outputs": [
        {
          "output_type": "execute_result",
          "data": {
            "text/plain": [
              "True"
            ]
          },
          "metadata": {
            "tags": []
          },
          "execution_count": 94
        }
      ]
    },
    {
      "cell_type": "code",
      "metadata": {
        "colab": {
          "base_uri": "https://localhost:8080/"
        },
        "id": "BVrGgWjZdQN9",
        "outputId": "c51c4570-0f51-4719-ad0a-106d0982a3a3"
      },
      "source": [
        "10<=2"
      ],
      "execution_count": null,
      "outputs": [
        {
          "output_type": "execute_result",
          "data": {
            "text/plain": [
              "False"
            ]
          },
          "metadata": {
            "tags": []
          },
          "execution_count": 95
        }
      ]
    },
    {
      "cell_type": "code",
      "metadata": {
        "colab": {
          "base_uri": "https://localhost:8080/"
        },
        "id": "NfS9N-Uqdp9d",
        "outputId": "56672822-1f32-4d71-c235-3223de24a4fe"
      },
      "source": [
        "10==2"
      ],
      "execution_count": null,
      "outputs": [
        {
          "output_type": "execute_result",
          "data": {
            "text/plain": [
              "False"
            ]
          },
          "metadata": {
            "tags": []
          },
          "execution_count": 96
        }
      ]
    },
    {
      "cell_type": "code",
      "metadata": {
        "colab": {
          "base_uri": "https://localhost:8080/"
        },
        "id": "M-RybSRAdqsw",
        "outputId": "5adb8ea2-e4d6-4172-e900-b3e9100c9c06"
      },
      "source": [
        "10!=2"
      ],
      "execution_count": null,
      "outputs": [
        {
          "output_type": "execute_result",
          "data": {
            "text/plain": [
              "True"
            ]
          },
          "metadata": {
            "tags": []
          },
          "execution_count": 97
        }
      ]
    },
    {
      "cell_type": "code",
      "metadata": {
        "colab": {
          "base_uri": "https://localhost:8080/"
        },
        "id": "eKYJLQpldsfY",
        "outputId": "4064c523-2711-4ddb-a561-47db208881fe"
      },
      "source": [
        "10%2==1"
      ],
      "execution_count": null,
      "outputs": [
        {
          "output_type": "execute_result",
          "data": {
            "text/plain": [
              "False"
            ]
          },
          "metadata": {
            "tags": []
          },
          "execution_count": 98
        }
      ]
    },
    {
      "cell_type": "code",
      "metadata": {
        "colab": {
          "base_uri": "https://localhost:8080/"
        },
        "id": "JEEXfSxid7AN",
        "outputId": "d784af02-e743-48c9-9619-cf5d599da011"
      },
      "source": [
        "1==1 and 2!=1"
      ],
      "execution_count": null,
      "outputs": [
        {
          "output_type": "execute_result",
          "data": {
            "text/plain": [
              "True"
            ]
          },
          "metadata": {
            "tags": []
          },
          "execution_count": 99
        }
      ]
    },
    {
      "cell_type": "code",
      "metadata": {
        "colab": {
          "base_uri": "https://localhost:8080/"
        },
        "id": "yyvGjJ1ceeQR",
        "outputId": "8b05f102-7102-4751-e63f-729436604fac"
      },
      "source": [
        "10>5 or 10==5"
      ],
      "execution_count": null,
      "outputs": [
        {
          "output_type": "execute_result",
          "data": {
            "text/plain": [
              "True"
            ]
          },
          "metadata": {
            "tags": []
          },
          "execution_count": 101
        }
      ]
    },
    {
      "cell_type": "code",
      "metadata": {
        "colab": {
          "base_uri": "https://localhost:8080/"
        },
        "id": "5ErLyqAxehde",
        "outputId": "951fc185-61d6-4c0d-ca76-dd1cdbdf937e"
      },
      "source": [
        "not 10<5"
      ],
      "execution_count": null,
      "outputs": [
        {
          "output_type": "execute_result",
          "data": {
            "text/plain": [
              "True"
            ]
          },
          "metadata": {
            "tags": []
          },
          "execution_count": 102
        }
      ]
    },
    {
      "cell_type": "code",
      "metadata": {
        "id": "n8Hoimree0Zd"
      },
      "source": [
        ""
      ],
      "execution_count": null,
      "outputs": []
    },
    {
      "cell_type": "code",
      "metadata": {
        "id": "sYT8zuHcfbtF"
      },
      "source": [
        ""
      ],
      "execution_count": null,
      "outputs": []
    }
  ]
}