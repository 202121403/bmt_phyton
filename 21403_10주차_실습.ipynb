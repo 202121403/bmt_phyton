{
  "nbformat": 4,
  "nbformat_minor": 0,
  "metadata": {
    "colab": {
      "name": "21403 10주차 실습",
      "provenance": [],
      "collapsed_sections": [],
      "authorship_tag": "ABX9TyNsHg8I1iO7vzBDLaxU8zzp",
      "include_colab_link": true
    },
    "kernelspec": {
      "name": "python3",
      "display_name": "Python 3"
    },
    "language_info": {
      "name": "python"
    }
  },
  "cells": [
    {
      "cell_type": "markdown",
      "metadata": {
        "id": "view-in-github",
        "colab_type": "text"
      },
      "source": [
        "<a href=\"https://colab.research.google.com/github/202121403/bmt_phyton/blob/main/21403_10%EC%A3%BC%EC%B0%A8_%EC%8B%A4%EC%8A%B5.ipynb\" target=\"_parent\"><img src=\"https://colab.research.google.com/assets/colab-badge.svg\" alt=\"Open In Colab\"/></a>"
      ]
    },
    {
      "cell_type": "code",
      "metadata": {
        "id": "7-CKXdSqe1_S"
      },
      "source": [
        "import pandas as pd\n",
        "import numpy as np\n",
        "import matplotlib.pyplot as plt"
      ],
      "execution_count": 1,
      "outputs": []
    },
    {
      "cell_type": "code",
      "metadata": {
        "id": "yYKij951ipfm"
      },
      "source": [
        "row=pd.date_range('20201113', periods=6)\n",
        "col=list(\"ABCD\")\n",
        "dt=pd.DataFrame(np.random.randn(6,4), index=row, columns=col)"
      ],
      "execution_count": 6,
      "outputs": []
    },
    {
      "cell_type": "code",
      "metadata": {
        "colab": {
          "base_uri": "https://localhost:8080/",
          "height": 235
        },
        "id": "hewNM3vtjUPX",
        "outputId": "e5723ecd-ad93-44ef-c067-3f655338ca04"
      },
      "source": [
        "dt"
      ],
      "execution_count": 7,
      "outputs": [
        {
          "output_type": "execute_result",
          "data": {
            "text/html": [
              "<div>\n",
              "<style scoped>\n",
              "    .dataframe tbody tr th:only-of-type {\n",
              "        vertical-align: middle;\n",
              "    }\n",
              "\n",
              "    .dataframe tbody tr th {\n",
              "        vertical-align: top;\n",
              "    }\n",
              "\n",
              "    .dataframe thead th {\n",
              "        text-align: right;\n",
              "    }\n",
              "</style>\n",
              "<table border=\"1\" class=\"dataframe\">\n",
              "  <thead>\n",
              "    <tr style=\"text-align: right;\">\n",
              "      <th></th>\n",
              "      <th>A</th>\n",
              "      <th>B</th>\n",
              "      <th>C</th>\n",
              "      <th>D</th>\n",
              "    </tr>\n",
              "  </thead>\n",
              "  <tbody>\n",
              "    <tr>\n",
              "      <th>2020-11-13</th>\n",
              "      <td>-0.185076</td>\n",
              "      <td>-0.126422</td>\n",
              "      <td>0.288845</td>\n",
              "      <td>0.263156</td>\n",
              "    </tr>\n",
              "    <tr>\n",
              "      <th>2020-11-14</th>\n",
              "      <td>0.303532</td>\n",
              "      <td>-0.308283</td>\n",
              "      <td>0.577762</td>\n",
              "      <td>2.161030</td>\n",
              "    </tr>\n",
              "    <tr>\n",
              "      <th>2020-11-15</th>\n",
              "      <td>-0.380134</td>\n",
              "      <td>0.393690</td>\n",
              "      <td>0.930328</td>\n",
              "      <td>1.991514</td>\n",
              "    </tr>\n",
              "    <tr>\n",
              "      <th>2020-11-16</th>\n",
              "      <td>-1.354960</td>\n",
              "      <td>-0.197195</td>\n",
              "      <td>1.990860</td>\n",
              "      <td>-0.697076</td>\n",
              "    </tr>\n",
              "    <tr>\n",
              "      <th>2020-11-17</th>\n",
              "      <td>-0.218689</td>\n",
              "      <td>-0.751777</td>\n",
              "      <td>-1.207210</td>\n",
              "      <td>0.101638</td>\n",
              "    </tr>\n",
              "    <tr>\n",
              "      <th>2020-11-18</th>\n",
              "      <td>1.781109</td>\n",
              "      <td>-0.171324</td>\n",
              "      <td>0.914347</td>\n",
              "      <td>-0.129864</td>\n",
              "    </tr>\n",
              "  </tbody>\n",
              "</table>\n",
              "</div>"
            ],
            "text/plain": [
              "                   A         B         C         D\n",
              "2020-11-13 -0.185076 -0.126422  0.288845  0.263156\n",
              "2020-11-14  0.303532 -0.308283  0.577762  2.161030\n",
              "2020-11-15 -0.380134  0.393690  0.930328  1.991514\n",
              "2020-11-16 -1.354960 -0.197195  1.990860 -0.697076\n",
              "2020-11-17 -0.218689 -0.751777 -1.207210  0.101638\n",
              "2020-11-18  1.781109 -0.171324  0.914347 -0.129864"
            ]
          },
          "metadata": {
            "tags": []
          },
          "execution_count": 7
        }
      ]
    },
    {
      "cell_type": "code",
      "metadata": {
        "id": "EtggSnDZlN5G"
      },
      "source": [
        "s1 = pd.Series([1,2,3,4,5,6,],pd.date_range('20201113', periods=6))"
      ],
      "execution_count": 13,
      "outputs": []
    },
    {
      "cell_type": "code",
      "metadata": {
        "id": "nJ0HePEInKig"
      },
      "source": [
        "df['F'] = s1"
      ],
      "execution_count": 21,
      "outputs": []
    },
    {
      "cell_type": "code",
      "metadata": {
        "id": "Wr_nzYn2nKou"
      },
      "source": [
        "df1 = df.reindex(index=dates[0:4], columns=list(df.columns) + ['F'])"
      ],
      "execution_count": 25,
      "outputs": []
    },
    {
      "cell_type": "code",
      "metadata": {
        "id": "M9RrX8MInKrm"
      },
      "source": [
        "df1.loc[dates[0]:dates[1], 'E'] = 1"
      ],
      "execution_count": 26,
      "outputs": []
    },
    {
      "cell_type": "code",
      "metadata": {
        "id": "aQo0jntRmM1F"
      },
      "source": [
        "df2=df.copy"
      ],
      "execution_count": 18,
      "outputs": []
    },
    {
      "cell_type": "code",
      "metadata": {
        "colab": {
          "base_uri": "https://localhost:8080/",
          "height": 235
        },
        "id": "PrZp8rTNm8EG",
        "outputId": "f0d8fb77-b2a7-41b1-a548-499192e7bd2f"
      },
      "source": [
        "df"
      ],
      "execution_count": 28,
      "outputs": [
        {
          "output_type": "execute_result",
          "data": {
            "text/html": [
              "<div>\n",
              "<style scoped>\n",
              "    .dataframe tbody tr th:only-of-type {\n",
              "        vertical-align: middle;\n",
              "    }\n",
              "\n",
              "    .dataframe tbody tr th {\n",
              "        vertical-align: top;\n",
              "    }\n",
              "\n",
              "    .dataframe thead th {\n",
              "        text-align: right;\n",
              "    }\n",
              "</style>\n",
              "<table border=\"1\" class=\"dataframe\">\n",
              "  <thead>\n",
              "    <tr style=\"text-align: right;\">\n",
              "      <th></th>\n",
              "      <th>A</th>\n",
              "      <th>B</th>\n",
              "      <th>C</th>\n",
              "      <th>D</th>\n",
              "      <th>F</th>\n",
              "    </tr>\n",
              "  </thead>\n",
              "  <tbody>\n",
              "    <tr>\n",
              "      <th>2020-11-13</th>\n",
              "      <td>-1.254466</td>\n",
              "      <td>0.999040</td>\n",
              "      <td>-0.129223</td>\n",
              "      <td>0.961542</td>\n",
              "      <td>1</td>\n",
              "    </tr>\n",
              "    <tr>\n",
              "      <th>2020-11-14</th>\n",
              "      <td>-0.651354</td>\n",
              "      <td>-0.080315</td>\n",
              "      <td>1.525911</td>\n",
              "      <td>0.445259</td>\n",
              "      <td>2</td>\n",
              "    </tr>\n",
              "    <tr>\n",
              "      <th>2020-11-15</th>\n",
              "      <td>-0.910997</td>\n",
              "      <td>1.173970</td>\n",
              "      <td>-0.293480</td>\n",
              "      <td>0.947282</td>\n",
              "      <td>3</td>\n",
              "    </tr>\n",
              "    <tr>\n",
              "      <th>2020-11-16</th>\n",
              "      <td>0.038697</td>\n",
              "      <td>-1.946078</td>\n",
              "      <td>1.267502</td>\n",
              "      <td>0.430814</td>\n",
              "      <td>4</td>\n",
              "    </tr>\n",
              "    <tr>\n",
              "      <th>2020-11-17</th>\n",
              "      <td>0.727355</td>\n",
              "      <td>-0.446383</td>\n",
              "      <td>-1.086158</td>\n",
              "      <td>1.883410</td>\n",
              "      <td>5</td>\n",
              "    </tr>\n",
              "    <tr>\n",
              "      <th>2020-11-18</th>\n",
              "      <td>1.672336</td>\n",
              "      <td>1.214795</td>\n",
              "      <td>0.240539</td>\n",
              "      <td>-0.923786</td>\n",
              "      <td>6</td>\n",
              "    </tr>\n",
              "  </tbody>\n",
              "</table>\n",
              "</div>"
            ],
            "text/plain": [
              "                   A         B         C         D  F\n",
              "2020-11-13 -1.254466  0.999040 -0.129223  0.961542  1\n",
              "2020-11-14 -0.651354 -0.080315  1.525911  0.445259  2\n",
              "2020-11-15 -0.910997  1.173970 -0.293480  0.947282  3\n",
              "2020-11-16  0.038697 -1.946078  1.267502  0.430814  4\n",
              "2020-11-17  0.727355 -0.446383 -1.086158  1.883410  5\n",
              "2020-11-18  1.672336  1.214795  0.240539 -0.923786  6"
            ]
          },
          "metadata": {
            "tags": []
          },
          "execution_count": 28
        }
      ]
    },
    {
      "cell_type": "code",
      "metadata": {
        "colab": {
          "base_uri": "https://localhost:8080/"
        },
        "id": "elqUpKSknX9m",
        "outputId": "a2132d73-b130-4332-cdfc-232cf42970a4"
      },
      "source": [
        "df.mean()"
      ],
      "execution_count": 29,
      "outputs": [
        {
          "output_type": "execute_result",
          "data": {
            "text/plain": [
              "A   -0.063071\n",
              "B    0.152505\n",
              "C    0.254182\n",
              "D    0.624087\n",
              "F    3.500000\n",
              "dtype: float64"
            ]
          },
          "metadata": {
            "tags": []
          },
          "execution_count": 29
        }
      ]
    },
    {
      "cell_type": "code",
      "metadata": {
        "colab": {
          "base_uri": "https://localhost:8080/"
        },
        "id": "S3AgjbiOnuwG",
        "outputId": "6a7e43d7-c294-4af0-d1c8-8748541d9845"
      },
      "source": [
        "df.mean(1)"
      ],
      "execution_count": 32,
      "outputs": [
        {
          "output_type": "execute_result",
          "data": {
            "text/plain": [
              "2020-11-13    0.315378\n",
              "2020-11-14    0.647900\n",
              "2020-11-15    0.783355\n",
              "2020-11-16    0.758187\n",
              "2020-11-17    1.215645\n",
              "2020-11-18    1.640777\n",
              "Freq: D, dtype: float64"
            ]
          },
          "metadata": {
            "tags": []
          },
          "execution_count": 32
        }
      ]
    },
    {
      "cell_type": "code",
      "metadata": {
        "colab": {
          "base_uri": "https://localhost:8080/"
        },
        "id": "5PbxKT5ooOJW",
        "outputId": "b9065b86-cc43-4141-b4b6-557bb69d59d2"
      },
      "source": [
        "df.mean(0)"
      ],
      "execution_count": 36,
      "outputs": [
        {
          "output_type": "execute_result",
          "data": {
            "text/plain": [
              "A   -0.063071\n",
              "B    0.152505\n",
              "C    0.254182\n",
              "D    0.624087\n",
              "F    3.500000\n",
              "dtype: float64"
            ]
          },
          "metadata": {
            "tags": []
          },
          "execution_count": 36
        }
      ]
    },
    {
      "cell_type": "code",
      "metadata": {
        "colab": {
          "base_uri": "https://localhost:8080/",
          "height": 235
        },
        "id": "Y9Sypx0rokuG",
        "outputId": "a8dfcb49-497c-40eb-adc2-00c04871a901"
      },
      "source": [
        "df.apply(np.cumsum)"
      ],
      "execution_count": 38,
      "outputs": [
        {
          "output_type": "execute_result",
          "data": {
            "text/html": [
              "<div>\n",
              "<style scoped>\n",
              "    .dataframe tbody tr th:only-of-type {\n",
              "        vertical-align: middle;\n",
              "    }\n",
              "\n",
              "    .dataframe tbody tr th {\n",
              "        vertical-align: top;\n",
              "    }\n",
              "\n",
              "    .dataframe thead th {\n",
              "        text-align: right;\n",
              "    }\n",
              "</style>\n",
              "<table border=\"1\" class=\"dataframe\">\n",
              "  <thead>\n",
              "    <tr style=\"text-align: right;\">\n",
              "      <th></th>\n",
              "      <th>A</th>\n",
              "      <th>B</th>\n",
              "      <th>C</th>\n",
              "      <th>D</th>\n",
              "      <th>F</th>\n",
              "    </tr>\n",
              "  </thead>\n",
              "  <tbody>\n",
              "    <tr>\n",
              "      <th>2020-11-13</th>\n",
              "      <td>-1.254466</td>\n",
              "      <td>0.999040</td>\n",
              "      <td>-0.129223</td>\n",
              "      <td>0.961542</td>\n",
              "      <td>1</td>\n",
              "    </tr>\n",
              "    <tr>\n",
              "      <th>2020-11-14</th>\n",
              "      <td>-1.905820</td>\n",
              "      <td>0.918725</td>\n",
              "      <td>1.396688</td>\n",
              "      <td>1.406801</td>\n",
              "      <td>3</td>\n",
              "    </tr>\n",
              "    <tr>\n",
              "      <th>2020-11-15</th>\n",
              "      <td>-2.816816</td>\n",
              "      <td>2.092695</td>\n",
              "      <td>1.103208</td>\n",
              "      <td>2.354083</td>\n",
              "      <td>6</td>\n",
              "    </tr>\n",
              "    <tr>\n",
              "      <th>2020-11-16</th>\n",
              "      <td>-2.778120</td>\n",
              "      <td>0.146617</td>\n",
              "      <td>2.370711</td>\n",
              "      <td>2.784897</td>\n",
              "      <td>10</td>\n",
              "    </tr>\n",
              "    <tr>\n",
              "      <th>2020-11-17</th>\n",
              "      <td>-2.050764</td>\n",
              "      <td>-0.299765</td>\n",
              "      <td>1.284553</td>\n",
              "      <td>4.668306</td>\n",
              "      <td>15</td>\n",
              "    </tr>\n",
              "    <tr>\n",
              "      <th>2020-11-18</th>\n",
              "      <td>-0.378429</td>\n",
              "      <td>0.915030</td>\n",
              "      <td>1.525092</td>\n",
              "      <td>3.744520</td>\n",
              "      <td>21</td>\n",
              "    </tr>\n",
              "  </tbody>\n",
              "</table>\n",
              "</div>"
            ],
            "text/plain": [
              "                   A         B         C         D   F\n",
              "2020-11-13 -1.254466  0.999040 -0.129223  0.961542   1\n",
              "2020-11-14 -1.905820  0.918725  1.396688  1.406801   3\n",
              "2020-11-15 -2.816816  2.092695  1.103208  2.354083   6\n",
              "2020-11-16 -2.778120  0.146617  2.370711  2.784897  10\n",
              "2020-11-17 -2.050764 -0.299765  1.284553  4.668306  15\n",
              "2020-11-18 -0.378429  0.915030  1.525092  3.744520  21"
            ]
          },
          "metadata": {
            "tags": []
          },
          "execution_count": 38
        }
      ]
    },
    {
      "cell_type": "code",
      "metadata": {
        "colab": {
          "base_uri": "https://localhost:8080/",
          "height": 235
        },
        "id": "allJ4DXTpSom",
        "outputId": "1c576267-e0f7-4d78-eef9-4a11a4765d45"
      },
      "source": [
        "df.apply(np.cumsum, axis=1)"
      ],
      "execution_count": 43,
      "outputs": [
        {
          "output_type": "execute_result",
          "data": {
            "text/html": [
              "<div>\n",
              "<style scoped>\n",
              "    .dataframe tbody tr th:only-of-type {\n",
              "        vertical-align: middle;\n",
              "    }\n",
              "\n",
              "    .dataframe tbody tr th {\n",
              "        vertical-align: top;\n",
              "    }\n",
              "\n",
              "    .dataframe thead th {\n",
              "        text-align: right;\n",
              "    }\n",
              "</style>\n",
              "<table border=\"1\" class=\"dataframe\">\n",
              "  <thead>\n",
              "    <tr style=\"text-align: right;\">\n",
              "      <th></th>\n",
              "      <th>A</th>\n",
              "      <th>B</th>\n",
              "      <th>C</th>\n",
              "      <th>D</th>\n",
              "      <th>F</th>\n",
              "    </tr>\n",
              "  </thead>\n",
              "  <tbody>\n",
              "    <tr>\n",
              "      <th>2020-11-13</th>\n",
              "      <td>-1.254466</td>\n",
              "      <td>-0.255426</td>\n",
              "      <td>-0.384650</td>\n",
              "      <td>0.576892</td>\n",
              "      <td>1.576892</td>\n",
              "    </tr>\n",
              "    <tr>\n",
              "      <th>2020-11-14</th>\n",
              "      <td>-0.651354</td>\n",
              "      <td>-0.731668</td>\n",
              "      <td>0.794243</td>\n",
              "      <td>1.239502</td>\n",
              "      <td>3.239502</td>\n",
              "    </tr>\n",
              "    <tr>\n",
              "      <th>2020-11-15</th>\n",
              "      <td>-0.910997</td>\n",
              "      <td>0.262974</td>\n",
              "      <td>-0.030506</td>\n",
              "      <td>0.916776</td>\n",
              "      <td>3.916776</td>\n",
              "    </tr>\n",
              "    <tr>\n",
              "      <th>2020-11-16</th>\n",
              "      <td>0.038697</td>\n",
              "      <td>-1.907381</td>\n",
              "      <td>-0.639879</td>\n",
              "      <td>-0.209065</td>\n",
              "      <td>3.790935</td>\n",
              "    </tr>\n",
              "    <tr>\n",
              "      <th>2020-11-17</th>\n",
              "      <td>0.727355</td>\n",
              "      <td>0.280973</td>\n",
              "      <td>-0.805185</td>\n",
              "      <td>1.078225</td>\n",
              "      <td>6.078225</td>\n",
              "    </tr>\n",
              "    <tr>\n",
              "      <th>2020-11-18</th>\n",
              "      <td>1.672336</td>\n",
              "      <td>2.887131</td>\n",
              "      <td>3.127670</td>\n",
              "      <td>2.203884</td>\n",
              "      <td>8.203884</td>\n",
              "    </tr>\n",
              "  </tbody>\n",
              "</table>\n",
              "</div>"
            ],
            "text/plain": [
              "                   A         B         C         D         F\n",
              "2020-11-13 -1.254466 -0.255426 -0.384650  0.576892  1.576892\n",
              "2020-11-14 -0.651354 -0.731668  0.794243  1.239502  3.239502\n",
              "2020-11-15 -0.910997  0.262974 -0.030506  0.916776  3.916776\n",
              "2020-11-16  0.038697 -1.907381 -0.639879 -0.209065  3.790935\n",
              "2020-11-17  0.727355  0.280973 -0.805185  1.078225  6.078225\n",
              "2020-11-18  1.672336  2.887131  3.127670  2.203884  8.203884"
            ]
          },
          "metadata": {
            "tags": []
          },
          "execution_count": 43
        }
      ]
    },
    {
      "cell_type": "code",
      "metadata": {
        "colab": {
          "base_uri": "https://localhost:8080/"
        },
        "id": "MUMx3SLRqAC3",
        "outputId": "241cf378-5c07-48dc-cb99-844d3db45c1e"
      },
      "source": [
        "print(df.apply(lambda x: x.max() - x.min()))"
      ],
      "execution_count": 44,
      "outputs": [
        {
          "output_type": "stream",
          "text": [
            "A    2.926802\n",
            "B    3.160873\n",
            "C    2.612069\n",
            "D    2.807196\n",
            "F    5.000000\n",
            "dtype: float64\n"
          ],
          "name": "stdout"
        }
      ]
    },
    {
      "cell_type": "code",
      "metadata": {
        "colab": {
          "base_uri": "https://localhost:8080/"
        },
        "id": "pNJGlHzxqcrW",
        "outputId": "d536f359-5963-4b0d-978b-c2032499faf3"
      },
      "source": [
        "df.apply (lambda x:x.max() - x.min(),axis=1)"
      ],
      "execution_count": 48,
      "outputs": [
        {
          "output_type": "execute_result",
          "data": {
            "text/plain": [
              "2020-11-13    2.254466\n",
              "2020-11-14    2.651354\n",
              "2020-11-15    3.910997\n",
              "2020-11-16    5.946078\n",
              "2020-11-17    6.086158\n",
              "2020-11-18    6.923786\n",
              "Freq: D, dtype: float64"
            ]
          },
          "metadata": {
            "tags": []
          },
          "execution_count": 48
        }
      ]
    },
    {
      "cell_type": "code",
      "metadata": {
        "colab": {
          "base_uri": "https://localhost:8080/",
          "height": 235
        },
        "id": "68grAhrrtYb3",
        "outputId": "f1751710-cce9-40b6-d5a4-2dc6202a2c1c"
      },
      "source": [
        "df"
      ],
      "execution_count": 49,
      "outputs": [
        {
          "output_type": "execute_result",
          "data": {
            "text/html": [
              "<div>\n",
              "<style scoped>\n",
              "    .dataframe tbody tr th:only-of-type {\n",
              "        vertical-align: middle;\n",
              "    }\n",
              "\n",
              "    .dataframe tbody tr th {\n",
              "        vertical-align: top;\n",
              "    }\n",
              "\n",
              "    .dataframe thead th {\n",
              "        text-align: right;\n",
              "    }\n",
              "</style>\n",
              "<table border=\"1\" class=\"dataframe\">\n",
              "  <thead>\n",
              "    <tr style=\"text-align: right;\">\n",
              "      <th></th>\n",
              "      <th>A</th>\n",
              "      <th>B</th>\n",
              "      <th>C</th>\n",
              "      <th>D</th>\n",
              "      <th>F</th>\n",
              "    </tr>\n",
              "  </thead>\n",
              "  <tbody>\n",
              "    <tr>\n",
              "      <th>2020-11-13</th>\n",
              "      <td>-1.254466</td>\n",
              "      <td>0.999040</td>\n",
              "      <td>-0.129223</td>\n",
              "      <td>0.961542</td>\n",
              "      <td>1</td>\n",
              "    </tr>\n",
              "    <tr>\n",
              "      <th>2020-11-14</th>\n",
              "      <td>-0.651354</td>\n",
              "      <td>-0.080315</td>\n",
              "      <td>1.525911</td>\n",
              "      <td>0.445259</td>\n",
              "      <td>2</td>\n",
              "    </tr>\n",
              "    <tr>\n",
              "      <th>2020-11-15</th>\n",
              "      <td>-0.910997</td>\n",
              "      <td>1.173970</td>\n",
              "      <td>-0.293480</td>\n",
              "      <td>0.947282</td>\n",
              "      <td>3</td>\n",
              "    </tr>\n",
              "    <tr>\n",
              "      <th>2020-11-16</th>\n",
              "      <td>0.038697</td>\n",
              "      <td>-1.946078</td>\n",
              "      <td>1.267502</td>\n",
              "      <td>0.430814</td>\n",
              "      <td>4</td>\n",
              "    </tr>\n",
              "    <tr>\n",
              "      <th>2020-11-17</th>\n",
              "      <td>0.727355</td>\n",
              "      <td>-0.446383</td>\n",
              "      <td>-1.086158</td>\n",
              "      <td>1.883410</td>\n",
              "      <td>5</td>\n",
              "    </tr>\n",
              "    <tr>\n",
              "      <th>2020-11-18</th>\n",
              "      <td>1.672336</td>\n",
              "      <td>1.214795</td>\n",
              "      <td>0.240539</td>\n",
              "      <td>-0.923786</td>\n",
              "      <td>6</td>\n",
              "    </tr>\n",
              "  </tbody>\n",
              "</table>\n",
              "</div>"
            ],
            "text/plain": [
              "                   A         B         C         D  F\n",
              "2020-11-13 -1.254466  0.999040 -0.129223  0.961542  1\n",
              "2020-11-14 -0.651354 -0.080315  1.525911  0.445259  2\n",
              "2020-11-15 -0.910997  1.173970 -0.293480  0.947282  3\n",
              "2020-11-16  0.038697 -1.946078  1.267502  0.430814  4\n",
              "2020-11-17  0.727355 -0.446383 -1.086158  1.883410  5\n",
              "2020-11-18  1.672336  1.214795  0.240539 -0.923786  6"
            ]
          },
          "metadata": {
            "tags": []
          },
          "execution_count": 49
        }
      ]
    },
    {
      "cell_type": "code",
      "metadata": {
        "colab": {
          "base_uri": "https://localhost:8080/"
        },
        "id": "m0VE_8nKuJvG",
        "outputId": "1c9b0986-303b-4fdf-d645-33489d8d37ef"
      },
      "source": [
        "s = pd.Series(np.random.randint(1, 7, size = 10))\n",
        "s.value_counts()"
      ],
      "execution_count": 58,
      "outputs": [
        {
          "output_type": "execute_result",
          "data": {
            "text/plain": [
              "6    3\n",
              "2    3\n",
              "5    2\n",
              "4    1\n",
              "1    1\n",
              "dtype: int64"
            ]
          },
          "metadata": {
            "tags": []
          },
          "execution_count": 58
        }
      ]
    },
    {
      "cell_type": "code",
      "metadata": {
        "id": "rmlUhpXfuQhW"
      },
      "source": [
        "df = pd.DataFrame(np.random.randn(10,4))\n"
      ],
      "execution_count": 59,
      "outputs": []
    },
    {
      "cell_type": "code",
      "metadata": {
        "colab": {
          "base_uri": "https://localhost:8080/",
          "height": 359
        },
        "id": "qLT4Qs_Yvi18",
        "outputId": "33f53c3c-5f04-486d-f04c-58ee50ceff61"
      },
      "source": [
        "df"
      ],
      "execution_count": 60,
      "outputs": [
        {
          "output_type": "execute_result",
          "data": {
            "text/html": [
              "<div>\n",
              "<style scoped>\n",
              "    .dataframe tbody tr th:only-of-type {\n",
              "        vertical-align: middle;\n",
              "    }\n",
              "\n",
              "    .dataframe tbody tr th {\n",
              "        vertical-align: top;\n",
              "    }\n",
              "\n",
              "    .dataframe thead th {\n",
              "        text-align: right;\n",
              "    }\n",
              "</style>\n",
              "<table border=\"1\" class=\"dataframe\">\n",
              "  <thead>\n",
              "    <tr style=\"text-align: right;\">\n",
              "      <th></th>\n",
              "      <th>0</th>\n",
              "      <th>1</th>\n",
              "      <th>2</th>\n",
              "      <th>3</th>\n",
              "    </tr>\n",
              "  </thead>\n",
              "  <tbody>\n",
              "    <tr>\n",
              "      <th>0</th>\n",
              "      <td>1.085013</td>\n",
              "      <td>-0.259649</td>\n",
              "      <td>0.571215</td>\n",
              "      <td>0.452931</td>\n",
              "    </tr>\n",
              "    <tr>\n",
              "      <th>1</th>\n",
              "      <td>1.140595</td>\n",
              "      <td>0.352015</td>\n",
              "      <td>-0.043437</td>\n",
              "      <td>-1.136815</td>\n",
              "    </tr>\n",
              "    <tr>\n",
              "      <th>2</th>\n",
              "      <td>0.679781</td>\n",
              "      <td>-0.922425</td>\n",
              "      <td>-0.190884</td>\n",
              "      <td>0.155769</td>\n",
              "    </tr>\n",
              "    <tr>\n",
              "      <th>3</th>\n",
              "      <td>0.990827</td>\n",
              "      <td>-0.782721</td>\n",
              "      <td>0.124018</td>\n",
              "      <td>0.601710</td>\n",
              "    </tr>\n",
              "    <tr>\n",
              "      <th>4</th>\n",
              "      <td>-1.348008</td>\n",
              "      <td>-0.179784</td>\n",
              "      <td>-0.842476</td>\n",
              "      <td>-0.830987</td>\n",
              "    </tr>\n",
              "    <tr>\n",
              "      <th>5</th>\n",
              "      <td>-0.637471</td>\n",
              "      <td>0.450382</td>\n",
              "      <td>1.364763</td>\n",
              "      <td>-1.116855</td>\n",
              "    </tr>\n",
              "    <tr>\n",
              "      <th>6</th>\n",
              "      <td>-1.669986</td>\n",
              "      <td>-0.633164</td>\n",
              "      <td>0.443229</td>\n",
              "      <td>-0.111182</td>\n",
              "    </tr>\n",
              "    <tr>\n",
              "      <th>7</th>\n",
              "      <td>1.427847</td>\n",
              "      <td>0.530746</td>\n",
              "      <td>-0.447779</td>\n",
              "      <td>0.071664</td>\n",
              "    </tr>\n",
              "    <tr>\n",
              "      <th>8</th>\n",
              "      <td>-1.162572</td>\n",
              "      <td>0.220415</td>\n",
              "      <td>0.028082</td>\n",
              "      <td>-0.966613</td>\n",
              "    </tr>\n",
              "    <tr>\n",
              "      <th>9</th>\n",
              "      <td>-0.839146</td>\n",
              "      <td>0.096597</td>\n",
              "      <td>0.138487</td>\n",
              "      <td>-0.504851</td>\n",
              "    </tr>\n",
              "  </tbody>\n",
              "</table>\n",
              "</div>"
            ],
            "text/plain": [
              "          0         1         2         3\n",
              "0  1.085013 -0.259649  0.571215  0.452931\n",
              "1  1.140595  0.352015 -0.043437 -1.136815\n",
              "2  0.679781 -0.922425 -0.190884  0.155769\n",
              "3  0.990827 -0.782721  0.124018  0.601710\n",
              "4 -1.348008 -0.179784 -0.842476 -0.830987\n",
              "5 -0.637471  0.450382  1.364763 -1.116855\n",
              "6 -1.669986 -0.633164  0.443229 -0.111182\n",
              "7  1.427847  0.530746 -0.447779  0.071664\n",
              "8 -1.162572  0.220415  0.028082 -0.966613\n",
              "9 -0.839146  0.096597  0.138487 -0.504851"
            ]
          },
          "metadata": {
            "tags": []
          },
          "execution_count": 60
        }
      ]
    },
    {
      "cell_type": "code",
      "metadata": {
        "colab": {
          "base_uri": "https://localhost:8080/"
        },
        "id": "g3y2WbQHvjb2",
        "outputId": "4e750907-f696-4c37-8419-74ae9d6a53fa"
      },
      "source": [
        "pieces = [ df[:3],df[3:7], df[7:] ]\n",
        "pieces"
      ],
      "execution_count": 67,
      "outputs": [
        {
          "output_type": "execute_result",
          "data": {
            "text/plain": [
              "[          0         1         2         3\n",
              " 0  1.085013 -0.259649  0.571215  0.452931\n",
              " 1  1.140595  0.352015 -0.043437 -1.136815\n",
              " 2  0.679781 -0.922425 -0.190884  0.155769,\n",
              "           0         1         2         3\n",
              " 3  0.990827 -0.782721  0.124018  0.601710\n",
              " 4 -1.348008 -0.179784 -0.842476 -0.830987\n",
              " 5 -0.637471  0.450382  1.364763 -1.116855\n",
              " 6 -1.669986 -0.633164  0.443229 -0.111182,\n",
              "           0         1         2         3\n",
              " 7  1.427847  0.530746 -0.447779  0.071664\n",
              " 8 -1.162572  0.220415  0.028082 -0.966613\n",
              " 9 -0.839146  0.096597  0.138487 -0.504851]"
            ]
          },
          "metadata": {
            "tags": []
          },
          "execution_count": 67
        }
      ]
    },
    {
      "cell_type": "code",
      "metadata": {
        "colab": {
          "base_uri": "https://localhost:8080/",
          "height": 359
        },
        "id": "-K-eW_mavsq2",
        "outputId": "5c4524c8-77bd-44ff-d202-68c2bcbf9eff"
      },
      "source": [
        "pd.concat(pieces)"
      ],
      "execution_count": 68,
      "outputs": [
        {
          "output_type": "execute_result",
          "data": {
            "text/html": [
              "<div>\n",
              "<style scoped>\n",
              "    .dataframe tbody tr th:only-of-type {\n",
              "        vertical-align: middle;\n",
              "    }\n",
              "\n",
              "    .dataframe tbody tr th {\n",
              "        vertical-align: top;\n",
              "    }\n",
              "\n",
              "    .dataframe thead th {\n",
              "        text-align: right;\n",
              "    }\n",
              "</style>\n",
              "<table border=\"1\" class=\"dataframe\">\n",
              "  <thead>\n",
              "    <tr style=\"text-align: right;\">\n",
              "      <th></th>\n",
              "      <th>0</th>\n",
              "      <th>1</th>\n",
              "      <th>2</th>\n",
              "      <th>3</th>\n",
              "    </tr>\n",
              "  </thead>\n",
              "  <tbody>\n",
              "    <tr>\n",
              "      <th>0</th>\n",
              "      <td>1.085013</td>\n",
              "      <td>-0.259649</td>\n",
              "      <td>0.571215</td>\n",
              "      <td>0.452931</td>\n",
              "    </tr>\n",
              "    <tr>\n",
              "      <th>1</th>\n",
              "      <td>1.140595</td>\n",
              "      <td>0.352015</td>\n",
              "      <td>-0.043437</td>\n",
              "      <td>-1.136815</td>\n",
              "    </tr>\n",
              "    <tr>\n",
              "      <th>2</th>\n",
              "      <td>0.679781</td>\n",
              "      <td>-0.922425</td>\n",
              "      <td>-0.190884</td>\n",
              "      <td>0.155769</td>\n",
              "    </tr>\n",
              "    <tr>\n",
              "      <th>3</th>\n",
              "      <td>0.990827</td>\n",
              "      <td>-0.782721</td>\n",
              "      <td>0.124018</td>\n",
              "      <td>0.601710</td>\n",
              "    </tr>\n",
              "    <tr>\n",
              "      <th>4</th>\n",
              "      <td>-1.348008</td>\n",
              "      <td>-0.179784</td>\n",
              "      <td>-0.842476</td>\n",
              "      <td>-0.830987</td>\n",
              "    </tr>\n",
              "    <tr>\n",
              "      <th>5</th>\n",
              "      <td>-0.637471</td>\n",
              "      <td>0.450382</td>\n",
              "      <td>1.364763</td>\n",
              "      <td>-1.116855</td>\n",
              "    </tr>\n",
              "    <tr>\n",
              "      <th>6</th>\n",
              "      <td>-1.669986</td>\n",
              "      <td>-0.633164</td>\n",
              "      <td>0.443229</td>\n",
              "      <td>-0.111182</td>\n",
              "    </tr>\n",
              "    <tr>\n",
              "      <th>7</th>\n",
              "      <td>1.427847</td>\n",
              "      <td>0.530746</td>\n",
              "      <td>-0.447779</td>\n",
              "      <td>0.071664</td>\n",
              "    </tr>\n",
              "    <tr>\n",
              "      <th>8</th>\n",
              "      <td>-1.162572</td>\n",
              "      <td>0.220415</td>\n",
              "      <td>0.028082</td>\n",
              "      <td>-0.966613</td>\n",
              "    </tr>\n",
              "    <tr>\n",
              "      <th>9</th>\n",
              "      <td>-0.839146</td>\n",
              "      <td>0.096597</td>\n",
              "      <td>0.138487</td>\n",
              "      <td>-0.504851</td>\n",
              "    </tr>\n",
              "  </tbody>\n",
              "</table>\n",
              "</div>"
            ],
            "text/plain": [
              "          0         1         2         3\n",
              "0  1.085013 -0.259649  0.571215  0.452931\n",
              "1  1.140595  0.352015 -0.043437 -1.136815\n",
              "2  0.679781 -0.922425 -0.190884  0.155769\n",
              "3  0.990827 -0.782721  0.124018  0.601710\n",
              "4 -1.348008 -0.179784 -0.842476 -0.830987\n",
              "5 -0.637471  0.450382  1.364763 -1.116855\n",
              "6 -1.669986 -0.633164  0.443229 -0.111182\n",
              "7  1.427847  0.530746 -0.447779  0.071664\n",
              "8 -1.162572  0.220415  0.028082 -0.966613\n",
              "9 -0.839146  0.096597  0.138487 -0.504851"
            ]
          },
          "metadata": {
            "tags": []
          },
          "execution_count": 68
        }
      ]
    },
    {
      "cell_type": "code",
      "metadata": {
        "id": "vk1E25fbwHLn"
      },
      "source": [
        "left = pd.DataFrame(\n",
        "    {\n",
        "        'key' : ['foo', 'foo'],\n",
        "        'lval': 2\n",
        "    }\n",
        ")"
      ],
      "execution_count": null,
      "outputs": []
    },
    {
      "cell_type": "markdown",
      "metadata": {
        "id": "qLBLyKVOxu5g"
      },
      "source": [
        "다 못쳐서 복붙한거 밑에다 씁니다. 선생님.,...."
      ]
    },
    {
      "cell_type": "code",
      "metadata": {
        "id": "qoaxTK4YxSmY"
      },
      "source": [
        "left = pd.DataFrame({'a':['foo', 'foo'], 'lval': [1, 2]})\n",
        "right = pd.DataFrame({'a':['foo', 'foo'], 'rval': [4, 5]})\n"
      ],
      "execution_count": 82,
      "outputs": []
    },
    {
      "cell_type": "code",
      "metadata": {
        "colab": {
          "base_uri": "https://localhost:8080/",
          "height": 111
        },
        "id": "WuFGPClLxGrz",
        "outputId": "d580ff2d-e50f-4302-8b77-4ad3cff91f79"
      },
      "source": [
        "left"
      ],
      "execution_count": 83,
      "outputs": [
        {
          "output_type": "execute_result",
          "data": {
            "text/html": [
              "<div>\n",
              "<style scoped>\n",
              "    .dataframe tbody tr th:only-of-type {\n",
              "        vertical-align: middle;\n",
              "    }\n",
              "\n",
              "    .dataframe tbody tr th {\n",
              "        vertical-align: top;\n",
              "    }\n",
              "\n",
              "    .dataframe thead th {\n",
              "        text-align: right;\n",
              "    }\n",
              "</style>\n",
              "<table border=\"1\" class=\"dataframe\">\n",
              "  <thead>\n",
              "    <tr style=\"text-align: right;\">\n",
              "      <th></th>\n",
              "      <th>a</th>\n",
              "      <th>lval</th>\n",
              "    </tr>\n",
              "  </thead>\n",
              "  <tbody>\n",
              "    <tr>\n",
              "      <th>0</th>\n",
              "      <td>foo</td>\n",
              "      <td>1</td>\n",
              "    </tr>\n",
              "    <tr>\n",
              "      <th>1</th>\n",
              "      <td>foo</td>\n",
              "      <td>2</td>\n",
              "    </tr>\n",
              "  </tbody>\n",
              "</table>\n",
              "</div>"
            ],
            "text/plain": [
              "     a  lval\n",
              "0  foo     1\n",
              "1  foo     2"
            ]
          },
          "metadata": {
            "tags": []
          },
          "execution_count": 83
        }
      ]
    },
    {
      "cell_type": "code",
      "metadata": {
        "colab": {
          "base_uri": "https://localhost:8080/",
          "height": 111
        },
        "id": "vUwsyATwxGwQ",
        "outputId": "6f96fb85-24ba-461f-fb96-264ee767fbcc"
      },
      "source": [
        "right"
      ],
      "execution_count": 84,
      "outputs": [
        {
          "output_type": "execute_result",
          "data": {
            "text/html": [
              "<div>\n",
              "<style scoped>\n",
              "    .dataframe tbody tr th:only-of-type {\n",
              "        vertical-align: middle;\n",
              "    }\n",
              "\n",
              "    .dataframe tbody tr th {\n",
              "        vertical-align: top;\n",
              "    }\n",
              "\n",
              "    .dataframe thead th {\n",
              "        text-align: right;\n",
              "    }\n",
              "</style>\n",
              "<table border=\"1\" class=\"dataframe\">\n",
              "  <thead>\n",
              "    <tr style=\"text-align: right;\">\n",
              "      <th></th>\n",
              "      <th>a</th>\n",
              "      <th>rval</th>\n",
              "    </tr>\n",
              "  </thead>\n",
              "  <tbody>\n",
              "    <tr>\n",
              "      <th>0</th>\n",
              "      <td>foo</td>\n",
              "      <td>4</td>\n",
              "    </tr>\n",
              "    <tr>\n",
              "      <th>1</th>\n",
              "      <td>foo</td>\n",
              "      <td>5</td>\n",
              "    </tr>\n",
              "  </tbody>\n",
              "</table>\n",
              "</div>"
            ],
            "text/plain": [
              "     a  rval\n",
              "0  foo     4\n",
              "1  foo     5"
            ]
          },
          "metadata": {
            "tags": []
          },
          "execution_count": 84
        }
      ]
    },
    {
      "cell_type": "code",
      "metadata": {
        "id": "zPNV6MNjxG3p"
      },
      "source": [
        "pd_merge = pd.merge(left, right, on = 'a')"
      ],
      "execution_count": 85,
      "outputs": []
    },
    {
      "cell_type": "code",
      "metadata": {
        "colab": {
          "base_uri": "https://localhost:8080/",
          "height": 173
        },
        "id": "isNH-6HBxZP3",
        "outputId": "117cb722-5763-41ce-e0c9-d0a9c0682159"
      },
      "source": [
        "pd_merge"
      ],
      "execution_count": 86,
      "outputs": [
        {
          "output_type": "execute_result",
          "data": {
            "text/html": [
              "<div>\n",
              "<style scoped>\n",
              "    .dataframe tbody tr th:only-of-type {\n",
              "        vertical-align: middle;\n",
              "    }\n",
              "\n",
              "    .dataframe tbody tr th {\n",
              "        vertical-align: top;\n",
              "    }\n",
              "\n",
              "    .dataframe thead th {\n",
              "        text-align: right;\n",
              "    }\n",
              "</style>\n",
              "<table border=\"1\" class=\"dataframe\">\n",
              "  <thead>\n",
              "    <tr style=\"text-align: right;\">\n",
              "      <th></th>\n",
              "      <th>a</th>\n",
              "      <th>lval</th>\n",
              "      <th>rval</th>\n",
              "    </tr>\n",
              "  </thead>\n",
              "  <tbody>\n",
              "    <tr>\n",
              "      <th>0</th>\n",
              "      <td>foo</td>\n",
              "      <td>1</td>\n",
              "      <td>4</td>\n",
              "    </tr>\n",
              "    <tr>\n",
              "      <th>1</th>\n",
              "      <td>foo</td>\n",
              "      <td>1</td>\n",
              "      <td>5</td>\n",
              "    </tr>\n",
              "    <tr>\n",
              "      <th>2</th>\n",
              "      <td>foo</td>\n",
              "      <td>2</td>\n",
              "      <td>4</td>\n",
              "    </tr>\n",
              "    <tr>\n",
              "      <th>3</th>\n",
              "      <td>foo</td>\n",
              "      <td>2</td>\n",
              "      <td>5</td>\n",
              "    </tr>\n",
              "  </tbody>\n",
              "</table>\n",
              "</div>"
            ],
            "text/plain": [
              "     a  lval  rval\n",
              "0  foo     1     4\n",
              "1  foo     1     5\n",
              "2  foo     2     4\n",
              "3  foo     2     5"
            ]
          },
          "metadata": {
            "tags": []
          },
          "execution_count": 86
        }
      ]
    },
    {
      "cell_type": "code",
      "metadata": {
        "id": "suZef0VwxaDn"
      },
      "source": [
        "df = pd.DataFrame(\n",
        "    {\n",
        "        'A' : ['foo', 'bar', 'foo', 'bar', 'foo', 'bar', 'foo', 'bar'],\n",
        "        'B' : ['one', 'one', 'two', 'three', 'two', 'two', 'one', 'three'],\n",
        "        'C' : np.random.randn(8),\n",
        "        'D' : np.random.randn(8)\n",
        "    }\n",
        ")"
      ],
      "execution_count": 87,
      "outputs": []
    },
    {
      "cell_type": "code",
      "metadata": {
        "colab": {
          "base_uri": "https://localhost:8080/",
          "height": 297
        },
        "id": "8CBpJy8cy3N3",
        "outputId": "f5c5aa40-5e90-4010-f38a-3d02b876570e"
      },
      "source": [
        "df"
      ],
      "execution_count": 88,
      "outputs": [
        {
          "output_type": "execute_result",
          "data": {
            "text/html": [
              "<div>\n",
              "<style scoped>\n",
              "    .dataframe tbody tr th:only-of-type {\n",
              "        vertical-align: middle;\n",
              "    }\n",
              "\n",
              "    .dataframe tbody tr th {\n",
              "        vertical-align: top;\n",
              "    }\n",
              "\n",
              "    .dataframe thead th {\n",
              "        text-align: right;\n",
              "    }\n",
              "</style>\n",
              "<table border=\"1\" class=\"dataframe\">\n",
              "  <thead>\n",
              "    <tr style=\"text-align: right;\">\n",
              "      <th></th>\n",
              "      <th>A</th>\n",
              "      <th>B</th>\n",
              "      <th>C</th>\n",
              "      <th>D</th>\n",
              "    </tr>\n",
              "  </thead>\n",
              "  <tbody>\n",
              "    <tr>\n",
              "      <th>0</th>\n",
              "      <td>foo</td>\n",
              "      <td>one</td>\n",
              "      <td>-0.532673</td>\n",
              "      <td>-1.389981</td>\n",
              "    </tr>\n",
              "    <tr>\n",
              "      <th>1</th>\n",
              "      <td>bar</td>\n",
              "      <td>one</td>\n",
              "      <td>1.028183</td>\n",
              "      <td>0.445835</td>\n",
              "    </tr>\n",
              "    <tr>\n",
              "      <th>2</th>\n",
              "      <td>foo</td>\n",
              "      <td>two</td>\n",
              "      <td>-1.129365</td>\n",
              "      <td>-0.136199</td>\n",
              "    </tr>\n",
              "    <tr>\n",
              "      <th>3</th>\n",
              "      <td>bar</td>\n",
              "      <td>three</td>\n",
              "      <td>-1.055589</td>\n",
              "      <td>0.980651</td>\n",
              "    </tr>\n",
              "    <tr>\n",
              "      <th>4</th>\n",
              "      <td>foo</td>\n",
              "      <td>two</td>\n",
              "      <td>-0.185227</td>\n",
              "      <td>1.403669</td>\n",
              "    </tr>\n",
              "    <tr>\n",
              "      <th>5</th>\n",
              "      <td>bar</td>\n",
              "      <td>two</td>\n",
              "      <td>0.495846</td>\n",
              "      <td>0.351798</td>\n",
              "    </tr>\n",
              "    <tr>\n",
              "      <th>6</th>\n",
              "      <td>foo</td>\n",
              "      <td>one</td>\n",
              "      <td>0.806721</td>\n",
              "      <td>2.091361</td>\n",
              "    </tr>\n",
              "    <tr>\n",
              "      <th>7</th>\n",
              "      <td>bar</td>\n",
              "      <td>three</td>\n",
              "      <td>2.142688</td>\n",
              "      <td>1.518092</td>\n",
              "    </tr>\n",
              "  </tbody>\n",
              "</table>\n",
              "</div>"
            ],
            "text/plain": [
              "     A      B         C         D\n",
              "0  foo    one -0.532673 -1.389981\n",
              "1  bar    one  1.028183  0.445835\n",
              "2  foo    two -1.129365 -0.136199\n",
              "3  bar  three -1.055589  0.980651\n",
              "4  foo    two -0.185227  1.403669\n",
              "5  bar    two  0.495846  0.351798\n",
              "6  foo    one  0.806721  2.091361\n",
              "7  bar  three  2.142688  1.518092"
            ]
          },
          "metadata": {
            "tags": []
          },
          "execution_count": 88
        }
      ]
    },
    {
      "cell_type": "code",
      "metadata": {
        "id": "Gw5YUO9Vy6gX"
      },
      "source": [
        "a= df.groupby('B').sum()"
      ],
      "execution_count": 93,
      "outputs": []
    },
    {
      "cell_type": "code",
      "metadata": {
        "colab": {
          "base_uri": "https://localhost:8080/",
          "height": 173
        },
        "id": "PC0yOM7bzLCn",
        "outputId": "22293e8f-54f1-4c40-9b8a-ee99e2f3254d"
      },
      "source": [
        "a"
      ],
      "execution_count": 94,
      "outputs": [
        {
          "output_type": "execute_result",
          "data": {
            "text/html": [
              "<div>\n",
              "<style scoped>\n",
              "    .dataframe tbody tr th:only-of-type {\n",
              "        vertical-align: middle;\n",
              "    }\n",
              "\n",
              "    .dataframe tbody tr th {\n",
              "        vertical-align: top;\n",
              "    }\n",
              "\n",
              "    .dataframe thead th {\n",
              "        text-align: right;\n",
              "    }\n",
              "</style>\n",
              "<table border=\"1\" class=\"dataframe\">\n",
              "  <thead>\n",
              "    <tr style=\"text-align: right;\">\n",
              "      <th></th>\n",
              "      <th>C</th>\n",
              "      <th>D</th>\n",
              "    </tr>\n",
              "    <tr>\n",
              "      <th>B</th>\n",
              "      <th></th>\n",
              "      <th></th>\n",
              "    </tr>\n",
              "  </thead>\n",
              "  <tbody>\n",
              "    <tr>\n",
              "      <th>one</th>\n",
              "      <td>1.302231</td>\n",
              "      <td>1.147215</td>\n",
              "    </tr>\n",
              "    <tr>\n",
              "      <th>three</th>\n",
              "      <td>1.087099</td>\n",
              "      <td>2.498743</td>\n",
              "    </tr>\n",
              "    <tr>\n",
              "      <th>two</th>\n",
              "      <td>-0.818747</td>\n",
              "      <td>1.619269</td>\n",
              "    </tr>\n",
              "  </tbody>\n",
              "</table>\n",
              "</div>"
            ],
            "text/plain": [
              "              C         D\n",
              "B                        \n",
              "one    1.302231  1.147215\n",
              "three  1.087099  2.498743\n",
              "two   -0.818747  1.619269"
            ]
          },
          "metadata": {
            "tags": []
          },
          "execution_count": 94
        }
      ]
    },
    {
      "cell_type": "code",
      "metadata": {
        "colab": {
          "base_uri": "https://localhost:8080/"
        },
        "id": "MknvdUKpzj0o",
        "outputId": "6c8abaf6-9541-482a-d645-ddd4821fb462"
      },
      "source": [
        "\n",
        "x = [1, 2, 3]\n",
        "y = [4, 5, 6]\n",
        "zipped = zip(x,y)\n",
        "list(zipped)\n",
        "x2, y2 = zip(*zip(x,y))\n",
        "print(x2)\n",
        "print(y2)"
      ],
      "execution_count": 97,
      "outputs": [
        {
          "output_type": "stream",
          "text": [
            "(1, 2, 3)\n",
            "(4, 5, 6)\n"
          ],
          "name": "stdout"
        }
      ]
    },
    {
      "cell_type": "code",
      "metadata": {
        "colab": {
          "base_uri": "https://localhost:8080/"
        },
        "id": "Jb3VnxTa0LcJ",
        "outputId": "66679fba-2486-40c7-83fc-de358c98c163"
      },
      "source": [
        "x = [1, 2, 3]\n",
        "y = [4, 5, 6]\n",
        "zipped = zip(x,y)\n",
        "list(zipped)"
      ],
      "execution_count": 96,
      "outputs": [
        {
          "output_type": "execute_result",
          "data": {
            "text/plain": [
              "[(1, 4), (2, 5), (3, 6)]"
            ]
          },
          "metadata": {
            "tags": []
          },
          "execution_count": 96
        }
      ]
    },
    {
      "cell_type": "code",
      "metadata": {
        "colab": {
          "base_uri": "https://localhost:8080/"
        },
        "id": "Yjd9btUa0X2G",
        "outputId": "d93f465e-ad64-4aee-d200-2ab7cbcb27f1"
      },
      "source": [
        "x2, y2 = zip(*zip(x,y))\n",
        "print(x2)\n",
        "print(y2)"
      ],
      "execution_count": 98,
      "outputs": [
        {
          "output_type": "stream",
          "text": [
            "(1, 2, 3)\n",
            "(4, 5, 6)\n"
          ],
          "name": "stdout"
        }
      ]
    },
    {
      "cell_type": "code",
      "metadata": {
        "colab": {
          "base_uri": "https://localhost:8080/",
          "height": 235
        },
        "id": "j516Fti40ng2",
        "outputId": "601e4f7e-06da-4719-f441-1a5fdd5f47b9"
      },
      "source": [
        "a= df.groupby(['A','B']).sum()\n",
        "a"
      ],
      "execution_count": 99,
      "outputs": [
        {
          "output_type": "execute_result",
          "data": {
            "text/html": [
              "<div>\n",
              "<style scoped>\n",
              "    .dataframe tbody tr th:only-of-type {\n",
              "        vertical-align: middle;\n",
              "    }\n",
              "\n",
              "    .dataframe tbody tr th {\n",
              "        vertical-align: top;\n",
              "    }\n",
              "\n",
              "    .dataframe thead th {\n",
              "        text-align: right;\n",
              "    }\n",
              "</style>\n",
              "<table border=\"1\" class=\"dataframe\">\n",
              "  <thead>\n",
              "    <tr style=\"text-align: right;\">\n",
              "      <th></th>\n",
              "      <th></th>\n",
              "      <th>C</th>\n",
              "      <th>D</th>\n",
              "    </tr>\n",
              "    <tr>\n",
              "      <th>A</th>\n",
              "      <th>B</th>\n",
              "      <th></th>\n",
              "      <th></th>\n",
              "    </tr>\n",
              "  </thead>\n",
              "  <tbody>\n",
              "    <tr>\n",
              "      <th rowspan=\"3\" valign=\"top\">bar</th>\n",
              "      <th>one</th>\n",
              "      <td>1.028183</td>\n",
              "      <td>0.445835</td>\n",
              "    </tr>\n",
              "    <tr>\n",
              "      <th>three</th>\n",
              "      <td>1.087099</td>\n",
              "      <td>2.498743</td>\n",
              "    </tr>\n",
              "    <tr>\n",
              "      <th>two</th>\n",
              "      <td>0.495846</td>\n",
              "      <td>0.351798</td>\n",
              "    </tr>\n",
              "    <tr>\n",
              "      <th rowspan=\"2\" valign=\"top\">foo</th>\n",
              "      <th>one</th>\n",
              "      <td>0.274048</td>\n",
              "      <td>0.701380</td>\n",
              "    </tr>\n",
              "    <tr>\n",
              "      <th>two</th>\n",
              "      <td>-1.314592</td>\n",
              "      <td>1.267471</td>\n",
              "    </tr>\n",
              "  </tbody>\n",
              "</table>\n",
              "</div>"
            ],
            "text/plain": [
              "                  C         D\n",
              "A   B                        \n",
              "bar one    1.028183  0.445835\n",
              "    three  1.087099  2.498743\n",
              "    two    0.495846  0.351798\n",
              "foo one    0.274048  0.701380\n",
              "    two   -1.314592  1.267471"
            ]
          },
          "metadata": {
            "tags": []
          },
          "execution_count": 99
        }
      ]
    },
    {
      "cell_type": "code",
      "metadata": {
        "id": "LdFmJAEk1Egz"
      },
      "source": [
        "df = pd.DataFrame(\n",
        "    {\n",
        "        'A' : ['one', 'one', 'two', 'three'] * 3,\n",
        "        'B' : ['A', 'B', 'C'] * 4,\n",
        "        'C' : ['foo', 'foo', 'foo', 'bar', 'bar', 'bar' ] * 2,\n",
        "        'D' : np.random.randn(12),\n",
        "        'E' : np.random.randn(12)\n",
        "    }\n",
        ")"
      ],
      "execution_count": 100,
      "outputs": []
    },
    {
      "cell_type": "code",
      "metadata": {
        "colab": {
          "base_uri": "https://localhost:8080/",
          "height": 421
        },
        "id": "GMwBVw8g1N7n",
        "outputId": "18bd3ffe-1167-4524-91cf-92bb4a45ffc8"
      },
      "source": [
        "df"
      ],
      "execution_count": 101,
      "outputs": [
        {
          "output_type": "execute_result",
          "data": {
            "text/html": [
              "<div>\n",
              "<style scoped>\n",
              "    .dataframe tbody tr th:only-of-type {\n",
              "        vertical-align: middle;\n",
              "    }\n",
              "\n",
              "    .dataframe tbody tr th {\n",
              "        vertical-align: top;\n",
              "    }\n",
              "\n",
              "    .dataframe thead th {\n",
              "        text-align: right;\n",
              "    }\n",
              "</style>\n",
              "<table border=\"1\" class=\"dataframe\">\n",
              "  <thead>\n",
              "    <tr style=\"text-align: right;\">\n",
              "      <th></th>\n",
              "      <th>A</th>\n",
              "      <th>B</th>\n",
              "      <th>C</th>\n",
              "      <th>D</th>\n",
              "      <th>E</th>\n",
              "    </tr>\n",
              "  </thead>\n",
              "  <tbody>\n",
              "    <tr>\n",
              "      <th>0</th>\n",
              "      <td>one</td>\n",
              "      <td>A</td>\n",
              "      <td>foo</td>\n",
              "      <td>-0.661246</td>\n",
              "      <td>-0.450612</td>\n",
              "    </tr>\n",
              "    <tr>\n",
              "      <th>1</th>\n",
              "      <td>one</td>\n",
              "      <td>B</td>\n",
              "      <td>foo</td>\n",
              "      <td>-0.915273</td>\n",
              "      <td>-0.403229</td>\n",
              "    </tr>\n",
              "    <tr>\n",
              "      <th>2</th>\n",
              "      <td>two</td>\n",
              "      <td>C</td>\n",
              "      <td>foo</td>\n",
              "      <td>-1.032045</td>\n",
              "      <td>-0.705418</td>\n",
              "    </tr>\n",
              "    <tr>\n",
              "      <th>3</th>\n",
              "      <td>three</td>\n",
              "      <td>A</td>\n",
              "      <td>bar</td>\n",
              "      <td>-0.151225</td>\n",
              "      <td>-0.131607</td>\n",
              "    </tr>\n",
              "    <tr>\n",
              "      <th>4</th>\n",
              "      <td>one</td>\n",
              "      <td>B</td>\n",
              "      <td>bar</td>\n",
              "      <td>-0.119067</td>\n",
              "      <td>-1.180209</td>\n",
              "    </tr>\n",
              "    <tr>\n",
              "      <th>5</th>\n",
              "      <td>one</td>\n",
              "      <td>C</td>\n",
              "      <td>bar</td>\n",
              "      <td>1.174981</td>\n",
              "      <td>0.118982</td>\n",
              "    </tr>\n",
              "    <tr>\n",
              "      <th>6</th>\n",
              "      <td>two</td>\n",
              "      <td>A</td>\n",
              "      <td>foo</td>\n",
              "      <td>-0.237323</td>\n",
              "      <td>0.271033</td>\n",
              "    </tr>\n",
              "    <tr>\n",
              "      <th>7</th>\n",
              "      <td>three</td>\n",
              "      <td>B</td>\n",
              "      <td>foo</td>\n",
              "      <td>-0.441491</td>\n",
              "      <td>-0.847549</td>\n",
              "    </tr>\n",
              "    <tr>\n",
              "      <th>8</th>\n",
              "      <td>one</td>\n",
              "      <td>C</td>\n",
              "      <td>foo</td>\n",
              "      <td>-0.169817</td>\n",
              "      <td>0.278855</td>\n",
              "    </tr>\n",
              "    <tr>\n",
              "      <th>9</th>\n",
              "      <td>one</td>\n",
              "      <td>A</td>\n",
              "      <td>bar</td>\n",
              "      <td>-2.136084</td>\n",
              "      <td>0.063974</td>\n",
              "    </tr>\n",
              "    <tr>\n",
              "      <th>10</th>\n",
              "      <td>two</td>\n",
              "      <td>B</td>\n",
              "      <td>bar</td>\n",
              "      <td>-1.378871</td>\n",
              "      <td>0.351687</td>\n",
              "    </tr>\n",
              "    <tr>\n",
              "      <th>11</th>\n",
              "      <td>three</td>\n",
              "      <td>C</td>\n",
              "      <td>bar</td>\n",
              "      <td>-0.057659</td>\n",
              "      <td>-0.135067</td>\n",
              "    </tr>\n",
              "  </tbody>\n",
              "</table>\n",
              "</div>"
            ],
            "text/plain": [
              "        A  B    C         D         E\n",
              "0     one  A  foo -0.661246 -0.450612\n",
              "1     one  B  foo -0.915273 -0.403229\n",
              "2     two  C  foo -1.032045 -0.705418\n",
              "3   three  A  bar -0.151225 -0.131607\n",
              "4     one  B  bar -0.119067 -1.180209\n",
              "5     one  C  bar  1.174981  0.118982\n",
              "6     two  A  foo -0.237323  0.271033\n",
              "7   three  B  foo -0.441491 -0.847549\n",
              "8     one  C  foo -0.169817  0.278855\n",
              "9     one  A  bar -2.136084  0.063974\n",
              "10    two  B  bar -1.378871  0.351687\n",
              "11  three  C  bar -0.057659 -0.135067"
            ]
          },
          "metadata": {
            "tags": []
          },
          "execution_count": 101
        }
      ]
    },
    {
      "cell_type": "code",
      "metadata": {
        "colab": {
          "base_uri": "https://localhost:8080/",
          "height": 359
        },
        "id": "mfqdsFIV1lAn",
        "outputId": "d2987aa2-fde1-4a5e-e255-101d92eca352"
      },
      "source": [
        "pd.pivot_table(df, values = 'D', index = ['A', 'B'], columns = ['C'])"
      ],
      "execution_count": 102,
      "outputs": [
        {
          "output_type": "execute_result",
          "data": {
            "text/html": [
              "<div>\n",
              "<style scoped>\n",
              "    .dataframe tbody tr th:only-of-type {\n",
              "        vertical-align: middle;\n",
              "    }\n",
              "\n",
              "    .dataframe tbody tr th {\n",
              "        vertical-align: top;\n",
              "    }\n",
              "\n",
              "    .dataframe thead th {\n",
              "        text-align: right;\n",
              "    }\n",
              "</style>\n",
              "<table border=\"1\" class=\"dataframe\">\n",
              "  <thead>\n",
              "    <tr style=\"text-align: right;\">\n",
              "      <th></th>\n",
              "      <th>C</th>\n",
              "      <th>bar</th>\n",
              "      <th>foo</th>\n",
              "    </tr>\n",
              "    <tr>\n",
              "      <th>A</th>\n",
              "      <th>B</th>\n",
              "      <th></th>\n",
              "      <th></th>\n",
              "    </tr>\n",
              "  </thead>\n",
              "  <tbody>\n",
              "    <tr>\n",
              "      <th rowspan=\"3\" valign=\"top\">one</th>\n",
              "      <th>A</th>\n",
              "      <td>-2.136084</td>\n",
              "      <td>-0.661246</td>\n",
              "    </tr>\n",
              "    <tr>\n",
              "      <th>B</th>\n",
              "      <td>-0.119067</td>\n",
              "      <td>-0.915273</td>\n",
              "    </tr>\n",
              "    <tr>\n",
              "      <th>C</th>\n",
              "      <td>1.174981</td>\n",
              "      <td>-0.169817</td>\n",
              "    </tr>\n",
              "    <tr>\n",
              "      <th rowspan=\"3\" valign=\"top\">three</th>\n",
              "      <th>A</th>\n",
              "      <td>-0.151225</td>\n",
              "      <td>NaN</td>\n",
              "    </tr>\n",
              "    <tr>\n",
              "      <th>B</th>\n",
              "      <td>NaN</td>\n",
              "      <td>-0.441491</td>\n",
              "    </tr>\n",
              "    <tr>\n",
              "      <th>C</th>\n",
              "      <td>-0.057659</td>\n",
              "      <td>NaN</td>\n",
              "    </tr>\n",
              "    <tr>\n",
              "      <th rowspan=\"3\" valign=\"top\">two</th>\n",
              "      <th>A</th>\n",
              "      <td>NaN</td>\n",
              "      <td>-0.237323</td>\n",
              "    </tr>\n",
              "    <tr>\n",
              "      <th>B</th>\n",
              "      <td>-1.378871</td>\n",
              "      <td>NaN</td>\n",
              "    </tr>\n",
              "    <tr>\n",
              "      <th>C</th>\n",
              "      <td>NaN</td>\n",
              "      <td>-1.032045</td>\n",
              "    </tr>\n",
              "  </tbody>\n",
              "</table>\n",
              "</div>"
            ],
            "text/plain": [
              "C             bar       foo\n",
              "A     B                    \n",
              "one   A -2.136084 -0.661246\n",
              "      B -0.119067 -0.915273\n",
              "      C  1.174981 -0.169817\n",
              "three A -0.151225       NaN\n",
              "      B       NaN -0.441491\n",
              "      C -0.057659       NaN\n",
              "two   A       NaN -0.237323\n",
              "      B -1.378871       NaN\n",
              "      C       NaN -1.032045"
            ]
          },
          "metadata": {
            "tags": []
          },
          "execution_count": 102
        }
      ]
    },
    {
      "cell_type": "code",
      "metadata": {
        "id": "GA8rottJ1tUn"
      },
      "source": [
        ""
      ],
      "execution_count": null,
      "outputs": []
    }
  ]
}